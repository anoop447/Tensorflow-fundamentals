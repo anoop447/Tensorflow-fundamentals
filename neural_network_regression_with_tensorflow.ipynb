{
  "nbformat": 4,
  "nbformat_minor": 0,
  "metadata": {
    "colab": {
      "name": "neural_network_regression_with_tensorflow.ipynb",
      "provenance": [],
      "collapsed_sections": []
    },
    "kernelspec": {
      "name": "python3",
      "display_name": "Python 3"
    },
    "language_info": {
      "name": "python"
    }
  },
  "cells": [
    {
      "cell_type": "code",
      "metadata": {
        "colab": {
          "base_uri": "https://localhost:8080/"
        },
        "id": "56oagToSsmiY",
        "outputId": "72774840-c207-4912-aca1-e032a401d183"
      },
      "source": [
        "import tensorflow as tf\n",
        "print(tf.__version__)"
      ],
      "execution_count": null,
      "outputs": [
        {
          "output_type": "stream",
          "text": [
            "2.4.1\n"
          ],
          "name": "stdout"
        }
      ]
    },
    {
      "cell_type": "markdown",
      "metadata": {
        "id": "n_wSEN9OtaMf"
      },
      "source": [
        "## Creating data to view and fit"
      ]
    },
    {
      "cell_type": "code",
      "metadata": {
        "colab": {
          "base_uri": "https://localhost:8080/",
          "height": 286
        },
        "id": "dJVdaOywtAvE",
        "outputId": "96bdcf07-1458-4a46-e32c-fb3772280570"
      },
      "source": [
        "import numpy as np\n",
        "import matplotlib.pyplot as plt\n",
        "\n",
        "X = np.array([-7.0,-4.0,-1.0,2.0,5.0,8.0,11.0,14.0])\n",
        "y = np.array([3.0,6.0,9.0,12.0,15.0,18.0,21.0,24.0])\n",
        "\n",
        "plt.scatter(X,y)"
      ],
      "execution_count": null,
      "outputs": [
        {
          "output_type": "execute_result",
          "data": {
            "text/plain": [
              "<matplotlib.collections.PathCollection at 0x7f4c01dd0cd0>"
            ]
          },
          "metadata": {
            "tags": []
          },
          "execution_count": 2
        },
        {
          "output_type": "display_data",
          "data": {
            "image/png": "[encoded data removed]",
            "text/plain": [
              "<Figure size 432x288 with 1 Axes>"
            ]
          },
          "metadata": {
            "tags": [],
            "needs_background": "light"
          }
        }
      ]
    },
    {
      "cell_type": "code",
      "metadata": {
        "colab": {
          "base_uri": "https://localhost:8080/"
        },
        "id": "duVbIVPtuKjv",
        "outputId": "e68f282a-2ba5-4b2c-e08f-f7cd5c20386a"
      },
      "source": [
        "y == X+10"
      ],
      "execution_count": null,
      "outputs": [
        {
          "output_type": "execute_result",
          "data": {
            "text/plain": [
              "array([ True,  True,  True,  True,  True,  True,  True,  True])"
            ]
          },
          "metadata": {
            "tags": []
          },
          "execution_count": 3
        }
      ]
    },
    {
      "cell_type": "code",
      "metadata": {
        "colab": {
          "base_uri": "https://localhost:8080/"
        },
        "id": "hPNRCnYBzm_O",
        "outputId": "0b080524-9fb3-4cdc-fafa-fc77d9350da8"
      },
      "source": [
        "# turn into tensors\n",
        "\n",
        "X = tf.cast(tf.constant(X), dtype=tf.float32)\n",
        "y = tf.cast(tf.constant(y), dtype=tf.float32)\n",
        "X,y"
      ],
      "execution_count": null,
      "outputs": [
        {
          "output_type": "execute_result",
          "data": {
            "text/plain": [
              "(<tf.Tensor: shape=(8,), dtype=float32, numpy=array([-7., -4., -1.,  2.,  5.,  8., 11., 14.], dtype=float32)>,\n",
              " <tf.Tensor: shape=(8,), dtype=float32, numpy=array([ 3.,  6.,  9., 12., 15., 18., 21., 24.], dtype=float32)>)"
            ]
          },
          "metadata": {
            "tags": []
          },
          "execution_count": 4
        }
      ]
    },
    {
      "cell_type": "code",
      "metadata": {
        "colab": {
          "base_uri": "https://localhost:8080/"
        },
        "id": "F1v8hHT0zvH7",
        "outputId": "316ed1f0-e14b-4d56-f2eb-85c0d50cc18c"
      },
      "source": [
        "# set random seed\n",
        "tf.random.set_seed(42)\n",
        "\n",
        "# Create model using sequential\n",
        "\n",
        "model = tf.keras.Sequential([\n",
        "                             tf.keras.layers.Dense(1)\n",
        "])\n",
        "\n",
        "# compile the model\n",
        "\n",
        "model.compile(loss=tf.keras.losses.mae,\n",
        "              optimizer=tf.keras.optimizers.SGD(),\n",
        "              metrics=['mae'])\n",
        "\n",
        "# fit the model\n",
        "\n",
        "model.fit(X,y, epochs=5)"
      ],
      "execution_count": null,
      "outputs": [
        {
          "output_type": "stream",
          "text": [
            "Epoch 1/5\n",
            "1/1 [==============================] - 1s 504ms/step - loss: 11.5048 - mae: 11.5048\n",
            "Epoch 2/5\n",
            "1/1 [==============================] - 0s 12ms/step - loss: 11.3723 - mae: 11.3723\n",
            "Epoch 3/5\n",
            "1/1 [==============================] - 0s 5ms/step - loss: 11.2398 - mae: 11.2398\n",
            "Epoch 4/5\n",
            "1/1 [==============================] - 0s 6ms/step - loss: 11.1073 - mae: 11.1073\n",
            "Epoch 5/5\n",
            "1/1 [==============================] - 0s 5ms/step - loss: 10.9748 - mae: 10.9748\n"
          ],
          "name": "stdout"
        },
        {
          "output_type": "execute_result",
          "data": {
            "text/plain": [
              "<tensorflow.python.keras.callbacks.History at 0x7f4bc0d45d50>"
            ]
          },
          "metadata": {
            "tags": []
          },
          "execution_count": 5
        }
      ]
    },
    {
      "cell_type": "code",
      "metadata": {
        "colab": {
          "base_uri": "https://localhost:8080/"
        },
        "id": "ZTDAygnL1M8E",
        "outputId": "0b2270ef-152c-42bf-ca09-1dc00bcce35f"
      },
      "source": [
        "X, y"
      ],
      "execution_count": null,
      "outputs": [
        {
          "output_type": "execute_result",
          "data": {
            "text/plain": [
              "(<tf.Tensor: shape=(8,), dtype=float32, numpy=array([-7., -4., -1.,  2.,  5.,  8., 11., 14.], dtype=float32)>,\n",
              " <tf.Tensor: shape=(8,), dtype=float32, numpy=array([ 3.,  6.,  9., 12., 15., 18., 21., 24.], dtype=float32)>)"
            ]
          },
          "metadata": {
            "tags": []
          },
          "execution_count": 6
        }
      ]
    },
    {
      "cell_type": "code",
      "metadata": {
        "colab": {
          "base_uri": "https://localhost:8080/"
        },
        "id": "HHjm-z1j18Hb",
        "outputId": "313ce3d8-b685-432b-bd85-7391954b499e"
      },
      "source": [
        "model.predict([17.0])"
      ],
      "execution_count": null,
      "outputs": [
        {
          "output_type": "execute_result",
          "data": {
            "text/plain": [
              "array([[12.716021]], dtype=float32)"
            ]
          },
          "metadata": {
            "tags": []
          },
          "execution_count": 7
        }
      ]
    },
    {
      "cell_type": "markdown",
      "metadata": {
        "id": "rqjjZH5P1-hC"
      },
      "source": [
        "## Improving out model"
      ]
    },
    {
      "cell_type": "code",
      "metadata": {
        "id": "Rx5HBfKUDv2W",
        "colab": {
          "base_uri": "https://localhost:8080/"
        },
        "outputId": "9c19c568-90de-463e-c3f0-f1871f492b42"
      },
      "source": [
        "model = tf.keras.Sequential([\n",
        "                             tf.keras.layers.Dense(1)\n",
        "])\n",
        "\n",
        "model.compile(loss=tf.keras.losses.mae,\n",
        "              optimizer=tf.keras.optimizers.SGD(),\n",
        "              metrics=['mae'])\n",
        "\n",
        "model.fit(X,y, epochs=100)"
      ],
      "execution_count": null,
      "outputs": [
        {
          "output_type": "stream",
          "text": [
            "Epoch 1/100\n",
            "1/1 [==============================] - 0s 300ms/step - loss: 11.2219 - mae: 11.2219\n",
            "Epoch 2/100\n",
            "1/1 [==============================] - 0s 7ms/step - loss: 11.0894 - mae: 11.0894\n",
            "Epoch 3/100\n",
            "1/1 [==============================] - 0s 7ms/step - loss: 10.9569 - mae: 10.9569\n",
            "Epoch 4/100\n",
            "1/1 [==============================] - 0s 8ms/step - loss: 10.8244 - mae: 10.8244\n",
            "Epoch 5/100\n",
            "1/1 [==============================] - 0s 5ms/step - loss: 10.6919 - mae: 10.6919\n",
            "Epoch 6/100\n",
            "1/1 [==============================] - 0s 5ms/step - loss: 10.5594 - mae: 10.5594\n",
            "Epoch 7/100\n",
            "1/1 [==============================] - 0s 7ms/step - loss: 10.4269 - mae: 10.4269\n",
            "Epoch 8/100\n",
            "1/1 [==============================] - 0s 5ms/step - loss: 10.2944 - mae: 10.2944\n",
            "Epoch 9/100\n",
            "1/1 [==============================] - 0s 6ms/step - loss: 10.1619 - mae: 10.1619\n",
            "Epoch 10/100\n",
            "1/1 [==============================] - 0s 5ms/step - loss: 10.0294 - mae: 10.0294\n",
            "Epoch 11/100\n",
            "1/1 [==============================] - 0s 5ms/step - loss: 9.8969 - mae: 9.8969\n",
            "Epoch 12/100\n",
            "1/1 [==============================] - 0s 4ms/step - loss: 9.7644 - mae: 9.7644\n",
            "Epoch 13/100\n",
            "1/1 [==============================] - 0s 7ms/step - loss: 9.6319 - mae: 9.6319\n",
            "Epoch 14/100\n",
            "1/1 [==============================] - 0s 4ms/step - loss: 9.4994 - mae: 9.4994\n",
            "Epoch 15/100\n",
            "1/1 [==============================] - 0s 15ms/step - loss: 9.3669 - mae: 9.3669\n",
            "Epoch 16/100\n",
            "1/1 [==============================] - 0s 7ms/step - loss: 9.2344 - mae: 9.2344\n",
            "Epoch 17/100\n",
            "1/1 [==============================] - 0s 6ms/step - loss: 9.1019 - mae: 9.1019\n",
            "Epoch 18/100\n",
            "1/1 [==============================] - 0s 5ms/step - loss: 8.9694 - mae: 8.9694\n",
            "Epoch 19/100\n",
            "1/1 [==============================] - 0s 7ms/step - loss: 8.8369 - mae: 8.8369\n",
            "Epoch 20/100\n",
            "1/1 [==============================] - 0s 7ms/step - loss: 8.7044 - mae: 8.7044\n",
            "Epoch 21/100\n",
            "1/1 [==============================] - 0s 6ms/step - loss: 8.5719 - mae: 8.5719\n",
            "Epoch 22/100\n",
            "1/1 [==============================] - 0s 10ms/step - loss: 8.4394 - mae: 8.4394\n",
            "Epoch 23/100\n",
            "1/1 [==============================] - 0s 5ms/step - loss: 8.3069 - mae: 8.3069\n",
            "Epoch 24/100\n",
            "1/1 [==============================] - 0s 7ms/step - loss: 8.1744 - mae: 8.1744\n",
            "Epoch 25/100\n",
            "1/1 [==============================] - 0s 7ms/step - loss: 8.0419 - mae: 8.0419\n",
            "Epoch 26/100\n",
            "1/1 [==============================] - 0s 6ms/step - loss: 7.9094 - mae: 7.9094\n",
            "Epoch 27/100\n",
            "1/1 [==============================] - 0s 11ms/step - loss: 7.7769 - mae: 7.7769\n",
            "Epoch 28/100\n",
            "1/1 [==============================] - 0s 12ms/step - loss: 7.6444 - mae: 7.6444\n",
            "Epoch 29/100\n",
            "1/1 [==============================] - 0s 4ms/step - loss: 7.5119 - mae: 7.5119\n",
            "Epoch 30/100\n",
            "1/1 [==============================] - 0s 3ms/step - loss: 7.3794 - mae: 7.3794\n",
            "Epoch 31/100\n",
            "1/1 [==============================] - 0s 7ms/step - loss: 7.2750 - mae: 7.2750\n",
            "Epoch 32/100\n",
            "1/1 [==============================] - 0s 6ms/step - loss: 7.2694 - mae: 7.2694\n",
            "Epoch 33/100\n",
            "1/1 [==============================] - 0s 6ms/step - loss: 7.2638 - mae: 7.2638\n",
            "Epoch 34/100\n",
            "1/1 [==============================] - 0s 8ms/step - loss: 7.2581 - mae: 7.2581\n",
            "Epoch 35/100\n",
            "1/1 [==============================] - 0s 5ms/step - loss: 7.2525 - mae: 7.2525\n",
            "Epoch 36/100\n",
            "1/1 [==============================] - 0s 8ms/step - loss: 7.2469 - mae: 7.2469\n",
            "Epoch 37/100\n",
            "1/1 [==============================] - 0s 5ms/step - loss: 7.2412 - mae: 7.2412\n",
            "Epoch 38/100\n",
            "1/1 [==============================] - 0s 6ms/step - loss: 7.2356 - mae: 7.2356\n",
            "Epoch 39/100\n",
            "1/1 [==============================] - 0s 7ms/step - loss: 7.2300 - mae: 7.2300\n",
            "Epoch 40/100\n",
            "1/1 [==============================] - 0s 5ms/step - loss: 7.2244 - mae: 7.2244\n",
            "Epoch 41/100\n",
            "1/1 [==============================] - 0s 8ms/step - loss: 7.2188 - mae: 7.2188\n",
            "Epoch 42/100\n",
            "1/1 [==============================] - 0s 8ms/step - loss: 7.2131 - mae: 7.2131\n",
            "Epoch 43/100\n",
            "1/1 [==============================] - 0s 6ms/step - loss: 7.2075 - mae: 7.2075\n",
            "Epoch 44/100\n",
            "1/1 [==============================] - 0s 5ms/step - loss: 7.2019 - mae: 7.2019\n",
            "Epoch 45/100\n",
            "1/1 [==============================] - 0s 8ms/step - loss: 7.1962 - mae: 7.1962\n",
            "Epoch 46/100\n",
            "1/1 [==============================] - 0s 6ms/step - loss: 7.1906 - mae: 7.1906\n",
            "Epoch 47/100\n",
            "1/1 [==============================] - 0s 5ms/step - loss: 7.1850 - mae: 7.1850\n",
            "Epoch 48/100\n",
            "1/1 [==============================] - 0s 6ms/step - loss: 7.1794 - mae: 7.1794\n",
            "Epoch 49/100\n",
            "1/1 [==============================] - 0s 5ms/step - loss: 7.1737 - mae: 7.1737\n",
            "Epoch 50/100\n",
            "1/1 [==============================] - 0s 10ms/step - loss: 7.1681 - mae: 7.1681\n",
            "Epoch 51/100\n",
            "1/1 [==============================] - 0s 4ms/step - loss: 7.1625 - mae: 7.1625\n",
            "Epoch 52/100\n",
            "1/1 [==============================] - 0s 6ms/step - loss: 7.1569 - mae: 7.1569\n",
            "Epoch 53/100\n",
            "1/1 [==============================] - 0s 7ms/step - loss: 7.1512 - mae: 7.1512\n",
            "Epoch 54/100\n",
            "1/1 [==============================] - 0s 6ms/step - loss: 7.1456 - mae: 7.1456\n",
            "Epoch 55/100\n",
            "1/1 [==============================] - 0s 5ms/step - loss: 7.1400 - mae: 7.1400\n",
            "Epoch 56/100\n",
            "1/1 [==============================] - 0s 7ms/step - loss: 7.1344 - mae: 7.1344\n",
            "Epoch 57/100\n",
            "1/1 [==============================] - 0s 7ms/step - loss: 7.1287 - mae: 7.1287\n",
            "Epoch 58/100\n",
            "1/1 [==============================] - 0s 8ms/step - loss: 7.1231 - mae: 7.1231\n",
            "Epoch 59/100\n",
            "1/1 [==============================] - 0s 8ms/step - loss: 7.1175 - mae: 7.1175\n",
            "Epoch 60/100\n",
            "1/1 [==============================] - 0s 7ms/step - loss: 7.1119 - mae: 7.1119\n",
            "Epoch 61/100\n",
            "1/1 [==============================] - 0s 11ms/step - loss: 7.1062 - mae: 7.1062\n",
            "Epoch 62/100\n",
            "1/1 [==============================] - 0s 5ms/step - loss: 7.1006 - mae: 7.1006\n",
            "Epoch 63/100\n",
            "1/1 [==============================] - 0s 5ms/step - loss: 7.0950 - mae: 7.0950\n",
            "Epoch 64/100\n",
            "1/1 [==============================] - 0s 15ms/step - loss: 7.0894 - mae: 7.0894\n",
            "Epoch 65/100\n",
            "1/1 [==============================] - 0s 9ms/step - loss: 7.0838 - mae: 7.0838\n",
            "Epoch 66/100\n",
            "1/1 [==============================] - 0s 18ms/step - loss: 7.0781 - mae: 7.0781\n",
            "Epoch 67/100\n",
            "1/1 [==============================] - 0s 9ms/step - loss: 7.0725 - mae: 7.0725\n",
            "Epoch 68/100\n",
            "1/1 [==============================] - 0s 7ms/step - loss: 7.0669 - mae: 7.0669\n",
            "Epoch 69/100\n",
            "1/1 [==============================] - 0s 8ms/step - loss: 7.0613 - mae: 7.0613\n",
            "Epoch 70/100\n",
            "1/1 [==============================] - 0s 10ms/step - loss: 7.0556 - mae: 7.0556\n",
            "Epoch 71/100\n",
            "1/1 [==============================] - 0s 4ms/step - loss: 7.0500 - mae: 7.0500\n",
            "Epoch 72/100\n",
            "1/1 [==============================] - 0s 12ms/step - loss: 7.0444 - mae: 7.0444\n",
            "Epoch 73/100\n",
            "1/1 [==============================] - 0s 10ms/step - loss: 7.0388 - mae: 7.0388\n",
            "Epoch 74/100\n",
            "1/1 [==============================] - 0s 4ms/step - loss: 7.0331 - mae: 7.0331\n",
            "Epoch 75/100\n",
            "1/1 [==============================] - 0s 4ms/step - loss: 7.0275 - mae: 7.0275\n",
            "Epoch 76/100\n",
            "1/1 [==============================] - 0s 4ms/step - loss: 7.0219 - mae: 7.0219\n",
            "Epoch 77/100\n",
            "1/1 [==============================] - 0s 6ms/step - loss: 7.0163 - mae: 7.0163\n",
            "Epoch 78/100\n",
            "1/1 [==============================] - 0s 5ms/step - loss: 7.0106 - mae: 7.0106\n",
            "Epoch 79/100\n",
            "1/1 [==============================] - 0s 6ms/step - loss: 7.0050 - mae: 7.0050\n",
            "Epoch 80/100\n",
            "1/1 [==============================] - 0s 6ms/step - loss: 6.9994 - mae: 6.9994\n",
            "Epoch 81/100\n",
            "1/1 [==============================] - 0s 6ms/step - loss: 6.9938 - mae: 6.9938\n",
            "Epoch 82/100\n",
            "1/1 [==============================] - 0s 17ms/step - loss: 6.9881 - mae: 6.9881\n",
            "Epoch 83/100\n",
            "1/1 [==============================] - 0s 11ms/step - loss: 6.9825 - mae: 6.9825\n",
            "Epoch 84/100\n",
            "1/1 [==============================] - 0s 19ms/step - loss: 6.9769 - mae: 6.9769\n",
            "Epoch 85/100\n",
            "1/1 [==============================] - 0s 25ms/step - loss: 6.9713 - mae: 6.9713\n",
            "Epoch 86/100\n",
            "1/1 [==============================] - 0s 7ms/step - loss: 6.9656 - mae: 6.9656\n",
            "Epoch 87/100\n",
            "1/1 [==============================] - 0s 4ms/step - loss: 6.9600 - mae: 6.9600\n",
            "Epoch 88/100\n",
            "1/1 [==============================] - 0s 6ms/step - loss: 6.9544 - mae: 6.9544\n",
            "Epoch 89/100\n",
            "1/1 [==============================] - 0s 14ms/step - loss: 6.9488 - mae: 6.9488\n",
            "Epoch 90/100\n",
            "1/1 [==============================] - 0s 8ms/step - loss: 6.9431 - mae: 6.9431\n",
            "Epoch 91/100\n",
            "1/1 [==============================] - 0s 5ms/step - loss: 6.9375 - mae: 6.9375\n",
            "Epoch 92/100\n",
            "1/1 [==============================] - 0s 15ms/step - loss: 6.9319 - mae: 6.9319\n",
            "Epoch 93/100\n",
            "1/1 [==============================] - 0s 7ms/step - loss: 6.9263 - mae: 6.9263\n",
            "Epoch 94/100\n",
            "1/1 [==============================] - 0s 5ms/step - loss: 6.9206 - mae: 6.9206\n",
            "Epoch 95/100\n",
            "1/1 [==============================] - 0s 7ms/step - loss: 6.9150 - mae: 6.9150\n",
            "Epoch 96/100\n",
            "1/1 [==============================] - 0s 5ms/step - loss: 6.9094 - mae: 6.9094\n",
            "Epoch 97/100\n",
            "1/1 [==============================] - 0s 8ms/step - loss: 6.9038 - mae: 6.9038\n",
            "Epoch 98/100\n",
            "1/1 [==============================] - 0s 5ms/step - loss: 6.8981 - mae: 6.8981\n",
            "Epoch 99/100\n",
            "1/1 [==============================] - 0s 6ms/step - loss: 6.8925 - mae: 6.8925\n",
            "Epoch 100/100\n",
            "1/1 [==============================] - 0s 5ms/step - loss: 6.8869 - mae: 6.8869\n"
          ],
          "name": "stdout"
        },
        {
          "output_type": "execute_result",
          "data": {
            "text/plain": [
              "<tensorflow.python.keras.callbacks.History at 0x7f4bba110090>"
            ]
          },
          "metadata": {
            "tags": []
          },
          "execution_count": 8
        }
      ]
    },
    {
      "cell_type": "code",
      "metadata": {
        "colab": {
          "base_uri": "https://localhost:8080/"
        },
        "id": "rFVn01YfEg-3",
        "outputId": "20ad5cbd-f417-46c0-a2cd-ae8b5020a888"
      },
      "source": [
        "X, y"
      ],
      "execution_count": null,
      "outputs": [
        {
          "output_type": "execute_result",
          "data": {
            "text/plain": [
              "(<tf.Tensor: shape=(8,), dtype=float32, numpy=array([-7., -4., -1.,  2.,  5.,  8., 11., 14.], dtype=float32)>,\n",
              " <tf.Tensor: shape=(8,), dtype=float32, numpy=array([ 3.,  6.,  9., 12., 15., 18., 21., 24.], dtype=float32)>)"
            ]
          },
          "metadata": {
            "tags": []
          },
          "execution_count": 9
        }
      ]
    },
    {
      "cell_type": "code",
      "metadata": {
        "colab": {
          "base_uri": "https://localhost:8080/"
        },
        "id": "zrDyc5CLE0OK",
        "outputId": "a7588a15-b640-4562-b3c7-ca5dddc4ca7f"
      },
      "source": [
        "model.predict([17.0])"
      ],
      "execution_count": null,
      "outputs": [
        {
          "output_type": "execute_result",
          "data": {
            "text/plain": [
              "array([[29.739855]], dtype=float32)"
            ]
          },
          "metadata": {
            "tags": []
          },
          "execution_count": 10
        }
      ]
    },
    {
      "cell_type": "code",
      "metadata": {
        "id": "ke-DuSO1E4jw",
        "colab": {
          "base_uri": "https://localhost:8080/"
        },
        "outputId": "42fc9ed5-cf1a-43c8-919f-bfca0f631a1a"
      },
      "source": [
        "model = tf.keras.Sequential([\n",
        "                             tf.keras.layers.Dense(100,activation='relu'),\n",
        "                             tf.keras.layers.Dense(1)\n",
        "])\n",
        "\n",
        "model.compile(loss=tf.keras.losses.mae,\n",
        "              optimizer= tf.keras.optimizers.Adam(lr=0.01),\n",
        "              metrics=['mae'])\n",
        "\n",
        "model.fit(X,y, epochs=100)"
      ],
      "execution_count": null,
      "outputs": [
        {
          "output_type": "stream",
          "text": [
            "Epoch 1/100\n",
            "1/1 [==============================] - 0s 408ms/step - loss: 12.3193 - mae: 12.3193\n",
            "Epoch 2/100\n",
            "1/1 [==============================] - 0s 13ms/step - loss: 11.5062 - mae: 11.5062\n",
            "Epoch 3/100\n",
            "1/1 [==============================] - 0s 5ms/step - loss: 10.6739 - mae: 10.6739\n",
            "Epoch 4/100\n",
            "1/1 [==============================] - 0s 15ms/step - loss: 9.8419 - mae: 9.8419\n",
            "Epoch 5/100\n",
            "1/1 [==============================] - 0s 7ms/step - loss: 8.9962 - mae: 8.9962\n",
            "Epoch 6/100\n",
            "1/1 [==============================] - 0s 8ms/step - loss: 8.1347 - mae: 8.1347\n",
            "Epoch 7/100\n",
            "1/1 [==============================] - 0s 8ms/step - loss: 7.4053 - mae: 7.4053\n",
            "Epoch 8/100\n",
            "1/1 [==============================] - 0s 7ms/step - loss: 6.6763 - mae: 6.6763\n",
            "Epoch 9/100\n",
            "1/1 [==============================] - 0s 8ms/step - loss: 5.9141 - mae: 5.9141\n",
            "Epoch 10/100\n",
            "1/1 [==============================] - 0s 7ms/step - loss: 5.1125 - mae: 5.1125\n",
            "Epoch 11/100\n",
            "1/1 [==============================] - 0s 13ms/step - loss: 4.2653 - mae: 4.2653\n",
            "Epoch 12/100\n",
            "1/1 [==============================] - 0s 12ms/step - loss: 3.8460 - mae: 3.8460\n",
            "Epoch 13/100\n",
            "1/1 [==============================] - 0s 5ms/step - loss: 3.9257 - mae: 3.9257\n",
            "Epoch 14/100\n",
            "1/1 [==============================] - 0s 11ms/step - loss: 4.0900 - mae: 4.0900\n",
            "Epoch 15/100\n",
            "1/1 [==============================] - 0s 15ms/step - loss: 4.4780 - mae: 4.4780\n",
            "Epoch 16/100\n",
            "1/1 [==============================] - 0s 7ms/step - loss: 4.7607 - mae: 4.7607\n",
            "Epoch 17/100\n",
            "1/1 [==============================] - 0s 7ms/step - loss: 4.9264 - mae: 4.9264\n",
            "Epoch 18/100\n",
            "1/1 [==============================] - 0s 6ms/step - loss: 4.9893 - mae: 4.9893\n",
            "Epoch 19/100\n",
            "1/1 [==============================] - 0s 8ms/step - loss: 4.9672 - mae: 4.9672\n",
            "Epoch 20/100\n",
            "1/1 [==============================] - 0s 6ms/step - loss: 4.8677 - mae: 4.8677\n",
            "Epoch 21/100\n",
            "1/1 [==============================] - 0s 7ms/step - loss: 4.7046 - mae: 4.7046\n",
            "Epoch 22/100\n",
            "1/1 [==============================] - 0s 7ms/step - loss: 4.4896 - mae: 4.4896\n",
            "Epoch 23/100\n",
            "1/1 [==============================] - 0s 8ms/step - loss: 4.2326 - mae: 4.2326\n",
            "Epoch 24/100\n",
            "1/1 [==============================] - 0s 5ms/step - loss: 3.9418 - mae: 3.9418\n",
            "Epoch 25/100\n",
            "1/1 [==============================] - 0s 7ms/step - loss: 3.7886 - mae: 3.7886\n",
            "Epoch 26/100\n",
            "1/1 [==============================] - 0s 5ms/step - loss: 3.6632 - mae: 3.6632\n",
            "Epoch 27/100\n",
            "1/1 [==============================] - 0s 7ms/step - loss: 3.5392 - mae: 3.5392\n",
            "Epoch 28/100\n",
            "1/1 [==============================] - 0s 7ms/step - loss: 3.5531 - mae: 3.5531\n",
            "Epoch 29/100\n",
            "1/1 [==============================] - 0s 8ms/step - loss: 3.6208 - mae: 3.6208\n",
            "Epoch 30/100\n",
            "1/1 [==============================] - 0s 8ms/step - loss: 3.6577 - mae: 3.6577\n",
            "Epoch 31/100\n",
            "1/1 [==============================] - 0s 6ms/step - loss: 3.7506 - mae: 3.7506\n",
            "Epoch 32/100\n",
            "1/1 [==============================] - 0s 9ms/step - loss: 3.7093 - mae: 3.7093\n",
            "Epoch 33/100\n",
            "1/1 [==============================] - 0s 9ms/step - loss: 3.5338 - mae: 3.5338\n",
            "Epoch 34/100\n",
            "1/1 [==============================] - 0s 6ms/step - loss: 3.4270 - mae: 3.4270\n",
            "Epoch 35/100\n",
            "1/1 [==============================] - 0s 8ms/step - loss: 3.3004 - mae: 3.3004\n",
            "Epoch 36/100\n",
            "1/1 [==============================] - 0s 8ms/step - loss: 3.1545 - mae: 3.1545\n",
            "Epoch 37/100\n",
            "1/1 [==============================] - 0s 6ms/step - loss: 3.0648 - mae: 3.0648\n",
            "Epoch 38/100\n",
            "1/1 [==============================] - 0s 8ms/step - loss: 3.0459 - mae: 3.0459\n",
            "Epoch 39/100\n",
            "1/1 [==============================] - 0s 6ms/step - loss: 3.0209 - mae: 3.0209\n",
            "Epoch 40/100\n",
            "1/1 [==============================] - 0s 6ms/step - loss: 3.0347 - mae: 3.0347\n",
            "Epoch 41/100\n",
            "1/1 [==============================] - 0s 46ms/step - loss: 2.9867 - mae: 2.9867\n",
            "Epoch 42/100\n",
            "1/1 [==============================] - 0s 10ms/step - loss: 2.8887 - mae: 2.8887\n",
            "Epoch 43/100\n",
            "1/1 [==============================] - 0s 7ms/step - loss: 2.8175 - mae: 2.8175\n",
            "Epoch 44/100\n",
            "1/1 [==============================] - 0s 9ms/step - loss: 2.7250 - mae: 2.7250\n",
            "Epoch 45/100\n",
            "1/1 [==============================] - 0s 6ms/step - loss: 2.6172 - mae: 2.6172\n",
            "Epoch 46/100\n",
            "1/1 [==============================] - 0s 13ms/step - loss: 2.5069 - mae: 2.5069\n",
            "Epoch 47/100\n",
            "1/1 [==============================] - 0s 5ms/step - loss: 2.4002 - mae: 2.4002\n",
            "Epoch 48/100\n",
            "1/1 [==============================] - 0s 14ms/step - loss: 2.2894 - mae: 2.2894\n",
            "Epoch 49/100\n",
            "1/1 [==============================] - 0s 9ms/step - loss: 2.1712 - mae: 2.1712\n",
            "Epoch 50/100\n",
            "1/1 [==============================] - 0s 21ms/step - loss: 2.0403 - mae: 2.0403\n",
            "Epoch 51/100\n",
            "1/1 [==============================] - 0s 6ms/step - loss: 1.9989 - mae: 1.9989\n",
            "Epoch 52/100\n",
            "1/1 [==============================] - 0s 9ms/step - loss: 1.8725 - mae: 1.8725\n",
            "Epoch 53/100\n",
            "1/1 [==============================] - 0s 5ms/step - loss: 1.7026 - mae: 1.7026\n",
            "Epoch 54/100\n",
            "1/1 [==============================] - 0s 5ms/step - loss: 1.5747 - mae: 1.5747\n",
            "Epoch 55/100\n",
            "1/1 [==============================] - 0s 9ms/step - loss: 1.4753 - mae: 1.4753\n",
            "Epoch 56/100\n",
            "1/1 [==============================] - 0s 5ms/step - loss: 1.3545 - mae: 1.3545\n",
            "Epoch 57/100\n",
            "1/1 [==============================] - 0s 12ms/step - loss: 1.2392 - mae: 1.2392\n",
            "Epoch 58/100\n",
            "1/1 [==============================] - 0s 5ms/step - loss: 1.0315 - mae: 1.0315\n",
            "Epoch 59/100\n",
            "1/1 [==============================] - 0s 5ms/step - loss: 0.8339 - mae: 0.8339\n",
            "Epoch 60/100\n",
            "1/1 [==============================] - 0s 11ms/step - loss: 0.6625 - mae: 0.6625\n",
            "Epoch 61/100\n",
            "1/1 [==============================] - 0s 5ms/step - loss: 0.5088 - mae: 0.5088\n",
            "Epoch 62/100\n",
            "1/1 [==============================] - 0s 6ms/step - loss: 0.3310 - mae: 0.3310\n",
            "Epoch 63/100\n",
            "1/1 [==============================] - 0s 5ms/step - loss: 0.3306 - mae: 0.3306\n",
            "Epoch 64/100\n",
            "1/1 [==============================] - 0s 8ms/step - loss: 0.3330 - mae: 0.3330\n",
            "Epoch 65/100\n",
            "1/1 [==============================] - 0s 7ms/step - loss: 0.2128 - mae: 0.2128\n",
            "Epoch 66/100\n",
            "1/1 [==============================] - 0s 10ms/step - loss: 0.6744 - mae: 0.6744\n",
            "Epoch 67/100\n",
            "1/1 [==============================] - 0s 8ms/step - loss: 0.6279 - mae: 0.6279\n",
            "Epoch 68/100\n",
            "1/1 [==============================] - 0s 10ms/step - loss: 0.6085 - mae: 0.6085\n",
            "Epoch 69/100\n",
            "1/1 [==============================] - 0s 6ms/step - loss: 0.7257 - mae: 0.7257\n",
            "Epoch 70/100\n",
            "1/1 [==============================] - 0s 9ms/step - loss: 0.6237 - mae: 0.6237\n",
            "Epoch 71/100\n",
            "1/1 [==============================] - 0s 9ms/step - loss: 0.3928 - mae: 0.3928\n",
            "Epoch 72/100\n",
            "1/1 [==============================] - 0s 17ms/step - loss: 0.5721 - mae: 0.5721\n",
            "Epoch 73/100\n",
            "1/1 [==============================] - 0s 8ms/step - loss: 0.6972 - mae: 0.6972\n",
            "Epoch 74/100\n",
            "1/1 [==============================] - 0s 5ms/step - loss: 0.4927 - mae: 0.4927\n",
            "Epoch 75/100\n",
            "1/1 [==============================] - 0s 5ms/step - loss: 0.5584 - mae: 0.5584\n",
            "Epoch 76/100\n",
            "1/1 [==============================] - 0s 14ms/step - loss: 0.5706 - mae: 0.5706\n",
            "Epoch 77/100\n",
            "1/1 [==============================] - 0s 6ms/step - loss: 0.4548 - mae: 0.4548\n",
            "Epoch 78/100\n",
            "1/1 [==============================] - 0s 8ms/step - loss: 0.2732 - mae: 0.2732\n",
            "Epoch 79/100\n",
            "1/1 [==============================] - 0s 6ms/step - loss: 0.6350 - mae: 0.6350\n",
            "Epoch 80/100\n",
            "1/1 [==============================] - 0s 6ms/step - loss: 0.7159 - mae: 0.7159\n",
            "Epoch 81/100\n",
            "1/1 [==============================] - 0s 8ms/step - loss: 0.4848 - mae: 0.4848\n",
            "Epoch 82/100\n",
            "1/1 [==============================] - 0s 7ms/step - loss: 0.1989 - mae: 0.1989\n",
            "Epoch 83/100\n",
            "1/1 [==============================] - 0s 6ms/step - loss: 0.3396 - mae: 0.3396\n",
            "Epoch 84/100\n",
            "1/1 [==============================] - 0s 12ms/step - loss: 0.2129 - mae: 0.2129\n",
            "Epoch 85/100\n",
            "1/1 [==============================] - 0s 6ms/step - loss: 0.3691 - mae: 0.3691\n",
            "Epoch 86/100\n",
            "1/1 [==============================] - 0s 6ms/step - loss: 0.4716 - mae: 0.4716\n",
            "Epoch 87/100\n",
            "1/1 [==============================] - 0s 5ms/step - loss: 0.3323 - mae: 0.3323\n",
            "Epoch 88/100\n",
            "1/1 [==============================] - 0s 8ms/step - loss: 0.2552 - mae: 0.2552\n",
            "Epoch 89/100\n",
            "1/1 [==============================] - 0s 10ms/step - loss: 0.3310 - mae: 0.3310\n",
            "Epoch 90/100\n",
            "1/1 [==============================] - 0s 7ms/step - loss: 0.2381 - mae: 0.2381\n",
            "Epoch 91/100\n",
            "1/1 [==============================] - 0s 4ms/step - loss: 0.2594 - mae: 0.2594\n",
            "Epoch 92/100\n",
            "1/1 [==============================] - 0s 8ms/step - loss: 0.2367 - mae: 0.2367\n",
            "Epoch 93/100\n",
            "1/1 [==============================] - 0s 6ms/step - loss: 0.1750 - mae: 0.1750\n",
            "Epoch 94/100\n",
            "1/1 [==============================] - 0s 26ms/step - loss: 0.2303 - mae: 0.2303\n",
            "Epoch 95/100\n",
            "1/1 [==============================] - 0s 8ms/step - loss: 0.1337 - mae: 0.1337\n",
            "Epoch 96/100\n",
            "1/1 [==============================] - 0s 6ms/step - loss: 0.1930 - mae: 0.1930\n",
            "Epoch 97/100\n",
            "1/1 [==============================] - 0s 7ms/step - loss: 0.1098 - mae: 0.1098\n",
            "Epoch 98/100\n",
            "1/1 [==============================] - 0s 16ms/step - loss: 0.2055 - mae: 0.2055\n",
            "Epoch 99/100\n",
            "1/1 [==============================] - 0s 7ms/step - loss: 0.1987 - mae: 0.1987\n",
            "Epoch 100/100\n",
            "1/1 [==============================] - 0s 13ms/step - loss: 0.2264 - mae: 0.2264\n"
          ],
          "name": "stdout"
        },
        {
          "output_type": "execute_result",
          "data": {
            "text/plain": [
              "<tensorflow.python.keras.callbacks.History at 0x7f4bb901f850>"
            ]
          },
          "metadata": {
            "tags": []
          },
          "execution_count": 11
        }
      ]
    },
    {
      "cell_type": "code",
      "metadata": {
        "colab": {
          "base_uri": "https://localhost:8080/"
        },
        "id": "b9FAmTSyFv4P",
        "outputId": "080f45f6-9b0c-4c03-b49e-7675744682f1"
      },
      "source": [
        "model.predict([17.0])"
      ],
      "execution_count": null,
      "outputs": [
        {
          "output_type": "execute_result",
          "data": {
            "text/plain": [
              "array([[27.159163]], dtype=float32)"
            ]
          },
          "metadata": {
            "tags": []
          },
          "execution_count": 12
        }
      ]
    },
    {
      "cell_type": "code",
      "metadata": {
        "id": "_V5md0YBHEeI",
        "colab": {
          "base_uri": "https://localhost:8080/"
        },
        "outputId": "80bf4dc3-e4d3-48de-eca1-be8da1a12305"
      },
      "source": [
        "X = tf.range(-100,100,4)\n",
        "X"
      ],
      "execution_count": null,
      "outputs": [
        {
          "output_type": "execute_result",
          "data": {
            "text/plain": [
              "<tf.Tensor: shape=(50,), dtype=int32, numpy=\n",
              "array([-100,  -96,  -92,  -88,  -84,  -80,  -76,  -72,  -68,  -64,  -60,\n",
              "        -56,  -52,  -48,  -44,  -40,  -36,  -32,  -28,  -24,  -20,  -16,\n",
              "        -12,   -8,   -4,    0,    4,    8,   12,   16,   20,   24,   28,\n",
              "         32,   36,   40,   44,   48,   52,   56,   60,   64,   68,   72,\n",
              "         76,   80,   84,   88,   92,   96], dtype=int32)>"
            ]
          },
          "metadata": {
            "tags": []
          },
          "execution_count": 13
        }
      ]
    },
    {
      "cell_type": "code",
      "metadata": {
        "colab": {
          "base_uri": "https://localhost:8080/"
        },
        "id": "nx7WDYnHMJ3n",
        "outputId": "8043b556-98d3-4083-be5a-ceb0057406e3"
      },
      "source": [
        "y = X+10\n",
        "y"
      ],
      "execution_count": null,
      "outputs": [
        {
          "output_type": "execute_result",
          "data": {
            "text/plain": [
              "<tf.Tensor: shape=(50,), dtype=int32, numpy=\n",
              "array([-90, -86, -82, -78, -74, -70, -66, -62, -58, -54, -50, -46, -42,\n",
              "       -38, -34, -30, -26, -22, -18, -14, -10,  -6,  -2,   2,   6,  10,\n",
              "        14,  18,  22,  26,  30,  34,  38,  42,  46,  50,  54,  58,  62,\n",
              "        66,  70,  74,  78,  82,  86,  90,  94,  98, 102, 106], dtype=int32)>"
            ]
          },
          "metadata": {
            "tags": []
          },
          "execution_count": 14
        }
      ]
    },
    {
      "cell_type": "code",
      "metadata": {
        "colab": {
          "base_uri": "https://localhost:8080/",
          "height": 282
        },
        "id": "HeWP83owML5j",
        "outputId": "e3453c85-d908-4994-f748-9799273b23ff"
      },
      "source": [
        "plt.scatter(X,y)"
      ],
      "execution_count": null,
      "outputs": [
        {
          "output_type": "execute_result",
          "data": {
            "text/plain": [
              "<matplotlib.collections.PathCollection at 0x7f4bb8702e10>"
            ]
          },
          "metadata": {
            "tags": []
          },
          "execution_count": 15
        },
        {
          "output_type": "display_data",
          "data": {
            "image/png": "[encoded data removed]",
            "text/plain": [
              "<Figure size 432x288 with 1 Axes>"
            ]
          },
          "metadata": {
            "tags": [],
            "needs_background": "light"
          }
        }
      ]
    },
    {
      "cell_type": "code",
      "metadata": {
        "id": "scWGVkDXMRtN"
      },
      "source": [
        "X_train = X[:40]\n",
        "y_train = y[:40]\n",
        "\n",
        "X_test = X[40:]\n",
        "y_test = y[40:]\n"
      ],
      "execution_count": null,
      "outputs": []
    },
    {
      "cell_type": "code",
      "metadata": {
        "colab": {
          "base_uri": "https://localhost:8080/"
        },
        "id": "MfEMGN10Sg7F",
        "outputId": "706d110b-b00e-4555-d294-5a4c0ec294ad"
      },
      "source": [
        "len(X_train),len(X_test), len(y_train),len(y_test)"
      ],
      "execution_count": null,
      "outputs": [
        {
          "output_type": "execute_result",
          "data": {
            "text/plain": [
              "(40, 10, 40, 10)"
            ]
          },
          "metadata": {
            "tags": []
          },
          "execution_count": 17
        }
      ]
    },
    {
      "cell_type": "code",
      "metadata": {
        "colab": {
          "base_uri": "https://localhost:8080/",
          "height": 428
        },
        "id": "As-R7ZSvSkuK",
        "outputId": "7cfe5caf-5860-4221-9ab1-34ba0e9da28c"
      },
      "source": [
        "plt.figure(figsize=(10,7))\n",
        "\n",
        "plt.scatter(X_train,y_train, c='b', label='Training data')\n",
        "\n",
        "plt.scatter(X_test,y_test, c='g', label='Testing data')\n",
        "\n",
        "plt.legend();"
      ],
      "execution_count": null,
      "outputs": [
        {
          "output_type": "display_data",
          "data": {
            "image/png": "[encoded data removed]",
            "text/plain": [
              "<Figure size 720x504 with 1 Axes>"
            ]
          },
          "metadata": {
            "tags": [],
            "needs_background": "light"
          }
        }
      ]
    },
    {
      "cell_type": "code",
      "metadata": {
        "colab": {
          "base_uri": "https://localhost:8080/"
        },
        "id": "O6O-PiPkZxMg",
        "outputId": "dc4e9d12-a3f7-46ca-8a8b-e7865c97cbe2"
      },
      "source": [
        "model = tf.keras.Sequential([\n",
        "                             \n",
        "                             tf.keras.layers.Dense(1)\n",
        "])\n",
        "\n",
        "model.compile(loss=tf.keras.losses.mae,\n",
        "              optimizer=tf.keras.optimizers.SGD(),\n",
        "              metrics=['mae'])\n",
        "\n",
        "model.fit(X_train,y_train, epochs=100)"
      ],
      "execution_count": null,
      "outputs": [
        {
          "output_type": "stream",
          "text": [
            "Epoch 1/100\n",
            "2/2 [==============================] - 0s 7ms/step - loss: 10.7194 - mae: 10.7194\n",
            "Epoch 2/100\n",
            "2/2 [==============================] - 0s 7ms/step - loss: 9.7106 - mae: 9.7106\n",
            "Epoch 3/100\n",
            "2/2 [==============================] - 0s 8ms/step - loss: 7.5443 - mae: 7.5443\n",
            "Epoch 4/100\n",
            "2/2 [==============================] - 0s 6ms/step - loss: 9.6276 - mae: 9.6276\n",
            "Epoch 5/100\n",
            "2/2 [==============================] - 0s 5ms/step - loss: 10.9226 - mae: 10.9226\n",
            "Epoch 6/100\n",
            "2/2 [==============================] - 0s 8ms/step - loss: 10.4557 - mae: 10.4557\n",
            "Epoch 7/100\n",
            "2/2 [==============================] - 0s 7ms/step - loss: 9.2518 - mae: 9.2518\n",
            "Epoch 8/100\n",
            "2/2 [==============================] - 0s 3ms/step - loss: 9.4911 - mae: 9.4911\n",
            "Epoch 9/100\n",
            "2/2 [==============================] - 0s 6ms/step - loss: 11.7543 - mae: 11.7543\n",
            "Epoch 10/100\n",
            "2/2 [==============================] - 0s 4ms/step - loss: 13.9884 - mae: 13.9884\n",
            "Epoch 11/100\n",
            "2/2 [==============================] - 0s 4ms/step - loss: 11.9538 - mae: 11.9538\n",
            "Epoch 12/100\n",
            "2/2 [==============================] - 0s 3ms/step - loss: 17.0937 - mae: 17.0937\n",
            "Epoch 13/100\n",
            "2/2 [==============================] - 0s 3ms/step - loss: 12.1344 - mae: 12.1344\n",
            "Epoch 14/100\n",
            "2/2 [==============================] - 0s 7ms/step - loss: 14.1832 - mae: 14.1832\n",
            "Epoch 15/100\n",
            "2/2 [==============================] - 0s 6ms/step - loss: 11.2303 - mae: 11.2303\n",
            "Epoch 16/100\n",
            "2/2 [==============================] - 0s 7ms/step - loss: 8.4857 - mae: 8.4857\n",
            "Epoch 17/100\n",
            "2/2 [==============================] - 0s 4ms/step - loss: 13.9923 - mae: 13.9923\n",
            "Epoch 18/100\n",
            "2/2 [==============================] - 0s 8ms/step - loss: 11.8014 - mae: 11.8014\n",
            "Epoch 19/100\n",
            "2/2 [==============================] - 0s 5ms/step - loss: 18.5178 - mae: 18.5178\n",
            "Epoch 20/100\n",
            "2/2 [==============================] - 0s 5ms/step - loss: 15.3365 - mae: 15.3365\n",
            "Epoch 21/100\n",
            "2/2 [==============================] - 0s 8ms/step - loss: 10.7346 - mae: 10.7346\n",
            "Epoch 22/100\n",
            "2/2 [==============================] - 0s 4ms/step - loss: 8.3620 - mae: 8.3620\n",
            "Epoch 23/100\n",
            "2/2 [==============================] - 0s 10ms/step - loss: 10.1426 - mae: 10.1426\n",
            "Epoch 24/100\n",
            "2/2 [==============================] - 0s 3ms/step - loss: 10.8109 - mae: 10.8109\n",
            "Epoch 25/100\n",
            "2/2 [==============================] - 0s 4ms/step - loss: 8.8789 - mae: 8.8789\n",
            "Epoch 26/100\n",
            "2/2 [==============================] - 0s 9ms/step - loss: 13.3114 - mae: 13.3114\n",
            "Epoch 27/100\n",
            "2/2 [==============================] - 0s 3ms/step - loss: 10.3504 - mae: 10.3504\n",
            "Epoch 28/100\n",
            "2/2 [==============================] - 0s 7ms/step - loss: 13.6271 - mae: 13.6271\n",
            "Epoch 29/100\n",
            "2/2 [==============================] - 0s 9ms/step - loss: 9.4864 - mae: 9.4864\n",
            "Epoch 30/100\n",
            "2/2 [==============================] - 0s 9ms/step - loss: 17.9781 - mae: 17.9781\n",
            "Epoch 31/100\n",
            "2/2 [==============================] - 0s 7ms/step - loss: 23.7231 - mae: 23.7231\n",
            "Epoch 32/100\n",
            "2/2 [==============================] - 0s 8ms/step - loss: 7.8553 - mae: 7.8553\n",
            "Epoch 33/100\n",
            "2/2 [==============================] - 0s 8ms/step - loss: 14.6004 - mae: 14.6004\n",
            "Epoch 34/100\n",
            "2/2 [==============================] - 0s 11ms/step - loss: 12.5706 - mae: 12.5706\n",
            "Epoch 35/100\n",
            "2/2 [==============================] - 0s 5ms/step - loss: 8.5949 - mae: 8.5949\n",
            "Epoch 36/100\n",
            "2/2 [==============================] - 0s 4ms/step - loss: 10.4988 - mae: 10.4988\n",
            "Epoch 37/100\n",
            "2/2 [==============================] - 0s 8ms/step - loss: 10.1620 - mae: 10.1620\n",
            "Epoch 38/100\n",
            "2/2 [==============================] - 0s 5ms/step - loss: 11.5617 - mae: 11.5617\n",
            "Epoch 39/100\n",
            "2/2 [==============================] - 0s 4ms/step - loss: 15.2459 - mae: 15.2459\n",
            "Epoch 40/100\n",
            "2/2 [==============================] - 0s 4ms/step - loss: 13.1260 - mae: 13.1260\n",
            "Epoch 41/100\n",
            "2/2 [==============================] - 0s 7ms/step - loss: 9.3181 - mae: 9.3181\n",
            "Epoch 42/100\n",
            "2/2 [==============================] - 0s 5ms/step - loss: 11.2528 - mae: 11.2528\n",
            "Epoch 43/100\n",
            "2/2 [==============================] - 0s 4ms/step - loss: 8.1814 - mae: 8.1814\n",
            "Epoch 44/100\n",
            "2/2 [==============================] - 0s 6ms/step - loss: 13.4586 - mae: 13.4586\n",
            "Epoch 45/100\n",
            "2/2 [==============================] - 0s 3ms/step - loss: 14.0397 - mae: 14.0397\n",
            "Epoch 46/100\n",
            "2/2 [==============================] - 0s 8ms/step - loss: 8.2059 - mae: 8.2059\n",
            "Epoch 47/100\n",
            "2/2 [==============================] - 0s 5ms/step - loss: 9.0420 - mae: 9.0420\n",
            "Epoch 48/100\n",
            "2/2 [==============================] - 0s 4ms/step - loss: 10.7302 - mae: 10.7302\n",
            "Epoch 49/100\n",
            "2/2 [==============================] - 0s 11ms/step - loss: 7.7677 - mae: 7.7677\n",
            "Epoch 50/100\n",
            "2/2 [==============================] - 0s 11ms/step - loss: 9.4352 - mae: 9.4352\n",
            "Epoch 51/100\n",
            "2/2 [==============================] - 0s 4ms/step - loss: 8.9383 - mae: 8.9383\n",
            "Epoch 52/100\n",
            "2/2 [==============================] - 0s 6ms/step - loss: 17.0699 - mae: 17.0699\n",
            "Epoch 53/100\n",
            "2/2 [==============================] - 0s 6ms/step - loss: 14.8046 - mae: 14.8046\n",
            "Epoch 54/100\n",
            "2/2 [==============================] - 0s 4ms/step - loss: 21.9369 - mae: 21.9369\n",
            "Epoch 55/100\n",
            "2/2 [==============================] - 0s 4ms/step - loss: 17.1446 - mae: 17.1446\n",
            "Epoch 56/100\n",
            "2/2 [==============================] - 0s 5ms/step - loss: 9.8458 - mae: 9.8458\n",
            "Epoch 57/100\n",
            "2/2 [==============================] - 0s 4ms/step - loss: 9.3580 - mae: 9.3580\n",
            "Epoch 58/100\n",
            "2/2 [==============================] - 0s 4ms/step - loss: 9.1317 - mae: 9.1317\n",
            "Epoch 59/100\n",
            "2/2 [==============================] - 0s 7ms/step - loss: 10.4002 - mae: 10.4002\n",
            "Epoch 60/100\n",
            "2/2 [==============================] - 0s 6ms/step - loss: 8.1660 - mae: 8.1660\n",
            "Epoch 61/100\n",
            "2/2 [==============================] - 0s 5ms/step - loss: 9.1149 - mae: 9.1149\n",
            "Epoch 62/100\n",
            "2/2 [==============================] - 0s 30ms/step - loss: 7.0564 - mae: 7.0564\n",
            "Epoch 63/100\n",
            "2/2 [==============================] - 0s 8ms/step - loss: 9.0039 - mae: 9.0039\n",
            "Epoch 64/100\n",
            "2/2 [==============================] - 0s 15ms/step - loss: 9.1267 - mae: 9.1267\n",
            "Epoch 65/100\n",
            "2/2 [==============================] - 0s 4ms/step - loss: 10.7715 - mae: 10.7715\n",
            "Epoch 66/100\n",
            "2/2 [==============================] - 0s 10ms/step - loss: 16.2314 - mae: 16.2314\n",
            "Epoch 67/100\n",
            "2/2 [==============================] - 0s 10ms/step - loss: 9.8589 - mae: 9.8589\n",
            "Epoch 68/100\n",
            "2/2 [==============================] - 0s 12ms/step - loss: 8.7039 - mae: 8.7039\n",
            "Epoch 69/100\n",
            "2/2 [==============================] - 0s 8ms/step - loss: 12.6463 - mae: 12.6463\n",
            "Epoch 70/100\n",
            "2/2 [==============================] - 0s 3ms/step - loss: 8.3992 - mae: 8.3992\n",
            "Epoch 71/100\n",
            "2/2 [==============================] - 0s 6ms/step - loss: 9.8933 - mae: 9.8933\n",
            "Epoch 72/100\n",
            "2/2 [==============================] - 0s 8ms/step - loss: 10.0893 - mae: 10.0893\n",
            "Epoch 73/100\n",
            "2/2 [==============================] - 0s 8ms/step - loss: 12.8605 - mae: 12.8605\n",
            "Epoch 74/100\n",
            "2/2 [==============================] - 0s 6ms/step - loss: 10.5300 - mae: 10.5300\n",
            "Epoch 75/100\n",
            "2/2 [==============================] - 0s 8ms/step - loss: 9.6636 - mae: 9.6636\n",
            "Epoch 76/100\n",
            "2/2 [==============================] - 0s 5ms/step - loss: 11.4016 - mae: 11.4016\n",
            "Epoch 77/100\n",
            "2/2 [==============================] - 0s 7ms/step - loss: 8.2143 - mae: 8.2143\n",
            "Epoch 78/100\n",
            "2/2 [==============================] - 0s 7ms/step - loss: 9.3284 - mae: 9.3284\n",
            "Epoch 79/100\n",
            "2/2 [==============================] - 0s 4ms/step - loss: 20.5851 - mae: 20.5851\n",
            "Epoch 80/100\n",
            "2/2 [==============================] - 0s 7ms/step - loss: 18.6162 - mae: 18.6162\n",
            "Epoch 81/100\n",
            "2/2 [==============================] - 0s 9ms/step - loss: 6.8850 - mae: 6.8850\n",
            "Epoch 82/100\n",
            "2/2 [==============================] - 0s 6ms/step - loss: 10.5196 - mae: 10.5196\n",
            "Epoch 83/100\n",
            "2/2 [==============================] - 0s 4ms/step - loss: 10.1345 - mae: 10.1345\n",
            "Epoch 84/100\n",
            "2/2 [==============================] - 0s 6ms/step - loss: 7.7578 - mae: 7.7578\n",
            "Epoch 85/100\n",
            "2/2 [==============================] - 0s 13ms/step - loss: 9.2920 - mae: 9.2920\n",
            "Epoch 86/100\n",
            "2/2 [==============================] - 0s 5ms/step - loss: 9.0412 - mae: 9.0412\n",
            "Epoch 87/100\n",
            "2/2 [==============================] - 0s 6ms/step - loss: 12.2600 - mae: 12.2600\n",
            "Epoch 88/100\n",
            "2/2 [==============================] - 0s 6ms/step - loss: 10.5968 - mae: 10.5968\n",
            "Epoch 89/100\n",
            "2/2 [==============================] - 0s 5ms/step - loss: 7.1828 - mae: 7.1828\n",
            "Epoch 90/100\n",
            "2/2 [==============================] - 0s 6ms/step - loss: 13.0305 - mae: 13.0305\n",
            "Epoch 91/100\n",
            "2/2 [==============================] - 0s 5ms/step - loss: 7.2636 - mae: 7.2636\n",
            "Epoch 92/100\n",
            "2/2 [==============================] - 0s 3ms/step - loss: 6.7124 - mae: 6.7124\n",
            "Epoch 93/100\n",
            "2/2 [==============================] - 0s 4ms/step - loss: 11.9073 - mae: 11.9073\n",
            "Epoch 94/100\n",
            "2/2 [==============================] - 0s 7ms/step - loss: 8.6310 - mae: 8.6310\n",
            "Epoch 95/100\n",
            "2/2 [==============================] - 0s 4ms/step - loss: 7.4915 - mae: 7.4915\n",
            "Epoch 96/100\n",
            "2/2 [==============================] - 0s 11ms/step - loss: 6.6214 - mae: 6.6214\n",
            "Epoch 97/100\n",
            "2/2 [==============================] - 0s 7ms/step - loss: 8.4675 - mae: 8.4675\n",
            "Epoch 98/100\n",
            "2/2 [==============================] - 0s 7ms/step - loss: 9.2860 - mae: 9.2860\n",
            "Epoch 99/100\n",
            "2/2 [==============================] - 0s 8ms/step - loss: 9.3732 - mae: 9.3732\n",
            "Epoch 100/100\n",
            "2/2 [==============================] - 0s 6ms/step - loss: 10.7994 - mae: 10.7994\n"
          ],
          "name": "stdout"
        },
        {
          "output_type": "execute_result",
          "data": {
            "text/plain": [
              "<tensorflow.python.keras.callbacks.History at 0x7f4bb75bf510>"
            ]
          },
          "metadata": {
            "tags": []
          },
          "execution_count": 19
        }
      ]
    },
    {
      "cell_type": "code",
      "metadata": {
        "id": "Sl37203NZ_6b"
      },
      "source": [
        "tf.random.set_seed(42)\n",
        "\n",
        "model = tf.keras.Sequential([\n",
        "                             tf.keras.layers.Dense(100,activation='relu'),\n",
        "                             \n",
        "                             tf.keras.layers.Dense(10,input_shape=[1]),\n",
        "                             tf.keras.layers.Dense(1)\n",
        "])\n",
        "\n",
        "model.compile(loss=tf.keras.losses.mae,\n",
        "              optimizer=tf.keras.optimizers.Adam(lr=0.01),\n",
        "              metrics=['mae'])\n",
        "\n"
      ],
      "execution_count": null,
      "outputs": []
    },
    {
      "cell_type": "code",
      "metadata": {
        "colab": {
          "base_uri": "https://localhost:8080/"
        },
        "id": "b9lsU5q3aSzP",
        "outputId": "8d7e2a77-f33f-490c-d5f8-fd2240bace24"
      },
      "source": [
        "model.fit(X_train,y_train, epochs=100, verbose=0)"
      ],
      "execution_count": null,
      "outputs": [
        {
          "output_type": "execute_result",
          "data": {
            "text/plain": [
              "<tensorflow.python.keras.callbacks.History at 0x7f4bbc77edd0>"
            ]
          },
          "metadata": {
            "tags": []
          },
          "execution_count": 21
        }
      ]
    },
    {
      "cell_type": "code",
      "metadata": {
        "colab": {
          "base_uri": "https://localhost:8080/"
        },
        "id": "k4FUUI_JdeqH",
        "outputId": "9136b60a-4d6e-47b3-f6cc-481bfdd028c1"
      },
      "source": [
        "model.summary()"
      ],
      "execution_count": null,
      "outputs": [
        {
          "output_type": "stream",
          "text": [
            "Model: \"sequential_4\"\n",
            "_________________________________________________________________\n",
            "Layer (type)                 Output Shape              Param #   \n",
            "=================================================================\n",
            "dense_5 (Dense)              (None, 100)               200       \n",
            "_________________________________________________________________\n",
            "dense_6 (Dense)              (None, 10)                1010      \n",
            "_________________________________________________________________\n",
            "dense_7 (Dense)              (None, 1)                 11        \n",
            "=================================================================\n",
            "Total params: 1,221\n",
            "Trainable params: 1,221\n",
            "Non-trainable params: 0\n",
            "_________________________________________________________________\n"
          ],
          "name": "stdout"
        }
      ]
    },
    {
      "cell_type": "code",
      "metadata": {
        "id": "vmzVJjjB12el",
        "colab": {
          "base_uri": "https://localhost:8080/"
        },
        "outputId": "88092601-e99f-450e-8530-c8e380c66d6a"
      },
      "source": [
        "y_pred = model.predict(X_test)\n",
        "y_pred"
      ],
      "execution_count": null,
      "outputs": [
        {
          "output_type": "execute_result",
          "data": {
            "text/plain": [
              "array([[ 69.207085],\n",
              "       [ 73.19079 ],\n",
              "       [ 77.17449 ],\n",
              "       [ 81.1582  ],\n",
              "       [ 85.141914],\n",
              "       [ 89.12567 ],\n",
              "       [ 93.109436],\n",
              "       [ 97.0932  ],\n",
              "       [101.07696 ],\n",
              "       [105.060715]], dtype=float32)"
            ]
          },
          "metadata": {
            "tags": []
          },
          "execution_count": 23
        }
      ]
    },
    {
      "cell_type": "code",
      "metadata": {
        "colab": {
          "base_uri": "https://localhost:8080/"
        },
        "id": "E-6Qsi9Kfymf",
        "outputId": "6d7e9d53-498c-40e3-f25a-7fd21f655cfc"
      },
      "source": [
        "y_test"
      ],
      "execution_count": null,
      "outputs": [
        {
          "output_type": "execute_result",
          "data": {
            "text/plain": [
              "<tf.Tensor: shape=(10,), dtype=int32, numpy=array([ 70,  74,  78,  82,  86,  90,  94,  98, 102, 106], dtype=int32)>"
            ]
          },
          "metadata": {
            "tags": []
          },
          "execution_count": 24
        }
      ]
    },
    {
      "cell_type": "code",
      "metadata": {
        "id": "NRtPi3Ojf4FO"
      },
      "source": [
        "def plot_predictions(train_data=X_train,\n",
        "                     train_label=y_train,\n",
        "                     test_data=X_test,\n",
        "                     test_label=y_test,\n",
        "                     prediction=y_pred):\n",
        "  \n",
        "  plt.figure(figsize=(10,7))\n",
        "\n",
        "  plt.scatter(train_data,train_label, c='b', label='Training data')\n",
        "\n",
        "  plt.scatter(test_data,test_label, c='g', label='Test data')\n",
        "\n",
        "  plt.scatter(test_data,prediction, c='r', label='Prediction data')\n",
        "  plt.legend();"
      ],
      "execution_count": null,
      "outputs": []
    },
    {
      "cell_type": "code",
      "metadata": {
        "colab": {
          "base_uri": "https://localhost:8080/",
          "height": 428
        },
        "id": "Kzto9vWzThlG",
        "outputId": "66805260-4844-4266-9daa-fd1f6197e18a"
      },
      "source": [
        "plot_predictions()"
      ],
      "execution_count": null,
      "outputs": [
        {
          "output_type": "display_data",
          "data": {
            "image/png": "[encoded data removed]",
            "text/plain": [
              "<Figure size 720x504 with 1 Axes>"
            ]
          },
          "metadata": {
            "tags": [],
            "needs_background": "light"
          }
        }
      ]
    },
    {
      "cell_type": "code",
      "metadata": {
        "colab": {
          "base_uri": "https://localhost:8080/"
        },
        "id": "w_PEOascTm3N",
        "outputId": "f10cd7ac-5d2c-4cb0-aad8-480e1888ea49"
      },
      "source": [
        "model.evaluate(X_test,y_test)"
      ],
      "execution_count": null,
      "outputs": [
        {
          "output_type": "stream",
          "text": [
            "1/1 [==============================] - 0s 139ms/step - loss: 0.8662 - mae: 0.8662\n"
          ],
          "name": "stdout"
        },
        {
          "output_type": "execute_result",
          "data": {
            "text/plain": [
              "[0.8661544919013977, 0.8661544919013977]"
            ]
          },
          "metadata": {
            "tags": []
          },
          "execution_count": 27
        }
      ]
    },
    {
      "cell_type": "code",
      "metadata": {
        "colab": {
          "base_uri": "https://localhost:8080/"
        },
        "id": "ASownabKEvmr",
        "outputId": "06e4b52c-e221-42b4-ec69-e8925d8a106a"
      },
      "source": [
        "mae = tf.metrics.mean_absolute_error(y_test,tf.squeeze(y_pred))\n",
        "mae"
      ],
      "execution_count": null,
      "outputs": [
        {
          "output_type": "execute_result",
          "data": {
            "text/plain": [
              "<tf.Tensor: shape=(), dtype=float32, numpy=0.8661537>"
            ]
          },
          "metadata": {
            "tags": []
          },
          "execution_count": 28
        }
      ]
    },
    {
      "cell_type": "code",
      "metadata": {
        "colab": {
          "base_uri": "https://localhost:8080/"
        },
        "id": "tJa0KlHCGTrU",
        "outputId": "aec04143-b490-4619-a158-c900f9267aea"
      },
      "source": [
        "mse = tf.metrics.mean_squared_error(y_test,tf.squeeze(y_pred))\n",
        "mse"
      ],
      "execution_count": null,
      "outputs": [
        {
          "output_type": "execute_result",
          "data": {
            "text/plain": [
              "<tf.Tensor: shape=(), dtype=float32, numpy=0.75240386>"
            ]
          },
          "metadata": {
            "tags": []
          },
          "execution_count": 29
        }
      ]
    },
    {
      "cell_type": "markdown",
      "metadata": {
        "id": "C-W6To_tHIcc"
      },
      "source": [
        "##Build models"
      ]
    },
    {
      "cell_type": "code",
      "metadata": {
        "colab": {
          "base_uri": "https://localhost:8080/"
        },
        "id": "duhnSxMGJCMu",
        "outputId": "76702fee-d8c9-4620-dc4a-32f64ecccd01"
      },
      "source": [
        "X_train,y_train"
      ],
      "execution_count": null,
      "outputs": [
        {
          "output_type": "execute_result",
          "data": {
            "text/plain": [
              "(<tf.Tensor: shape=(40,), dtype=int32, numpy=\n",
              " array([-100,  -96,  -92,  -88,  -84,  -80,  -76,  -72,  -68,  -64,  -60,\n",
              "         -56,  -52,  -48,  -44,  -40,  -36,  -32,  -28,  -24,  -20,  -16,\n",
              "         -12,   -8,   -4,    0,    4,    8,   12,   16,   20,   24,   28,\n",
              "          32,   36,   40,   44,   48,   52,   56], dtype=int32)>,\n",
              " <tf.Tensor: shape=(40,), dtype=int32, numpy=\n",
              " array([-90, -86, -82, -78, -74, -70, -66, -62, -58, -54, -50, -46, -42,\n",
              "        -38, -34, -30, -26, -22, -18, -14, -10,  -6,  -2,   2,   6,  10,\n",
              "         14,  18,  22,  26,  30,  34,  38,  42,  46,  50,  54,  58,  62,\n",
              "         66], dtype=int32)>)"
            ]
          },
          "metadata": {
            "tags": []
          },
          "execution_count": 30
        }
      ]
    },
    {
      "cell_type": "code",
      "metadata": {
        "colab": {
          "base_uri": "https://localhost:8080/"
        },
        "id": "H4E6pKDjJFOp",
        "outputId": "d20a26af-06ed-4f11-ac90-bdc040cf988b"
      },
      "source": [
        "tf.random.set_seed(42)\n",
        "model_1 = tf.keras.Sequential([\n",
        "                               tf.keras.layers.Dense(1)\n",
        "])\n",
        "model_1.compile(loss=tf.keras.losses.mae,\n",
        "                optimizer=tf.keras.optimizers.SGD(),\n",
        "                metrics=['mae'])\n",
        "\n",
        "model_1.fit(X_train,y_train, epochs=100)"
      ],
      "execution_count": null,
      "outputs": [
        {
          "output_type": "stream",
          "text": [
            "Epoch 1/100\n",
            "2/2 [==============================] - 0s 6ms/step - loss: 16.4124 - mae: 16.4124\n",
            "Epoch 2/100\n",
            "2/2 [==============================] - 0s 4ms/step - loss: 11.0829 - mae: 11.0829\n",
            "Epoch 3/100\n",
            "2/2 [==============================] - 0s 6ms/step - loss: 11.1242 - mae: 11.1242\n",
            "Epoch 4/100\n",
            "2/2 [==============================] - 0s 4ms/step - loss: 8.6945 - mae: 8.6945\n",
            "Epoch 5/100\n",
            "2/2 [==============================] - 0s 4ms/step - loss: 9.8003 - mae: 9.8003\n",
            "Epoch 6/100\n",
            "2/2 [==============================] - 0s 11ms/step - loss: 9.5263 - mae: 9.5263\n",
            "Epoch 7/100\n",
            "2/2 [==============================] - 0s 5ms/step - loss: 8.4102 - mae: 8.4102\n",
            "Epoch 8/100\n",
            "2/2 [==============================] - 0s 6ms/step - loss: 9.1449 - mae: 9.1449\n",
            "Epoch 9/100\n",
            "2/2 [==============================] - 0s 8ms/step - loss: 19.4932 - mae: 19.4932\n",
            "Epoch 10/100\n",
            "2/2 [==============================] - 0s 4ms/step - loss: 9.6061 - mae: 9.6061\n",
            "Epoch 11/100\n",
            "2/2 [==============================] - 0s 5ms/step - loss: 8.5992 - mae: 8.5992\n",
            "Epoch 12/100\n",
            "2/2 [==============================] - 0s 5ms/step - loss: 10.9324 - mae: 10.9324\n",
            "Epoch 13/100\n",
            "2/2 [==============================] - 0s 8ms/step - loss: 10.0574 - mae: 10.0574\n",
            "Epoch 14/100\n",
            "2/2 [==============================] - 0s 6ms/step - loss: 16.5679 - mae: 16.5679\n",
            "Epoch 15/100\n",
            "2/2 [==============================] - 0s 5ms/step - loss: 11.4537 - mae: 11.4537\n",
            "Epoch 16/100\n",
            "2/2 [==============================] - 0s 8ms/step - loss: 8.4056 - mae: 8.4056\n",
            "Epoch 17/100\n",
            "2/2 [==============================] - 0s 4ms/step - loss: 13.8417 - mae: 13.8417\n",
            "Epoch 18/100\n",
            "2/2 [==============================] - 0s 6ms/step - loss: 11.6621 - mae: 11.6621\n",
            "Epoch 19/100\n",
            "2/2 [==============================] - 0s 9ms/step - loss: 18.7623 - mae: 18.7623\n",
            "Epoch 20/100\n",
            "2/2 [==============================] - 0s 5ms/step - loss: 15.5702 - mae: 15.5702\n",
            "Epoch 21/100\n",
            "2/2 [==============================] - 0s 5ms/step - loss: 10.9959 - mae: 10.9959\n",
            "Epoch 22/100\n",
            "2/2 [==============================] - 0s 5ms/step - loss: 8.0023 - mae: 8.0023\n",
            "Epoch 23/100\n",
            "2/2 [==============================] - 0s 9ms/step - loss: 9.8593 - mae: 9.8593\n",
            "Epoch 24/100\n",
            "2/2 [==============================] - 0s 3ms/step - loss: 7.5796 - mae: 7.5796\n",
            "Epoch 25/100\n",
            "2/2 [==============================] - 0s 5ms/step - loss: 13.7226 - mae: 13.7226\n",
            "Epoch 26/100\n",
            "2/2 [==============================] - 0s 8ms/step - loss: 17.1740 - mae: 17.1740\n",
            "Epoch 27/100\n",
            "2/2 [==============================] - 0s 9ms/step - loss: 13.4233 - mae: 13.4233\n",
            "Epoch 28/100\n",
            "2/2 [==============================] - 0s 4ms/step - loss: 14.5473 - mae: 14.5473\n",
            "Epoch 29/100\n",
            "2/2 [==============================] - 0s 4ms/step - loss: 9.8753 - mae: 9.8753\n",
            "Epoch 30/100\n",
            "2/2 [==============================] - 0s 5ms/step - loss: 17.1187 - mae: 17.1187\n",
            "Epoch 31/100\n",
            "2/2 [==============================] - 0s 7ms/step - loss: 24.5949 - mae: 24.5949\n",
            "Epoch 32/100\n",
            "2/2 [==============================] - 0s 4ms/step - loss: 7.6765 - mae: 7.6765\n",
            "Epoch 33/100\n",
            "2/2 [==============================] - 0s 4ms/step - loss: 9.2971 - mae: 9.2971\n",
            "Epoch 34/100\n",
            "2/2 [==============================] - 0s 5ms/step - loss: 14.1703 - mae: 14.1703\n",
            "Epoch 35/100\n",
            "2/2 [==============================] - 0s 6ms/step - loss: 10.8635 - mae: 10.8635\n",
            "Epoch 36/100\n",
            "2/2 [==============================] - 0s 6ms/step - loss: 13.5689 - mae: 13.5689\n",
            "Epoch 37/100\n",
            "2/2 [==============================] - 0s 5ms/step - loss: 9.3448 - mae: 9.3448\n",
            "Epoch 38/100\n",
            "2/2 [==============================] - 0s 4ms/step - loss: 10.4804 - mae: 10.4804\n",
            "Epoch 39/100\n",
            "2/2 [==============================] - 0s 4ms/step - loss: 10.0178 - mae: 10.0178\n",
            "Epoch 40/100\n",
            "2/2 [==============================] - 0s 5ms/step - loss: 10.8005 - mae: 10.8005\n",
            "Epoch 41/100\n",
            "2/2 [==============================] - 0s 5ms/step - loss: 7.7789 - mae: 7.7789\n",
            "Epoch 42/100\n",
            "2/2 [==============================] - 0s 5ms/step - loss: 10.2844 - mae: 10.2844\n",
            "Epoch 43/100\n",
            "2/2 [==============================] - 0s 4ms/step - loss: 8.9628 - mae: 8.9628\n",
            "Epoch 44/100\n",
            "2/2 [==============================] - 0s 4ms/step - loss: 12.6243 - mae: 12.6243\n",
            "Epoch 45/100\n",
            "2/2 [==============================] - 0s 4ms/step - loss: 14.1236 - mae: 14.1236\n",
            "Epoch 46/100\n",
            "2/2 [==============================] - 0s 4ms/step - loss: 8.2681 - mae: 8.2681\n",
            "Epoch 47/100\n",
            "2/2 [==============================] - 0s 4ms/step - loss: 9.0126 - mae: 9.0126\n",
            "Epoch 48/100\n",
            "2/2 [==============================] - 0s 4ms/step - loss: 10.6882 - mae: 10.6882\n",
            "Epoch 49/100\n",
            "2/2 [==============================] - 0s 4ms/step - loss: 7.7431 - mae: 7.7431\n",
            "Epoch 50/100\n",
            "2/2 [==============================] - 0s 4ms/step - loss: 9.3950 - mae: 9.3950\n",
            "Epoch 51/100\n",
            "2/2 [==============================] - 0s 4ms/step - loss: 8.9267 - mae: 8.9267\n",
            "Epoch 52/100\n",
            "2/2 [==============================] - 0s 4ms/step - loss: 16.9818 - mae: 16.9818\n",
            "Epoch 53/100\n",
            "2/2 [==============================] - 0s 4ms/step - loss: 14.8677 - mae: 14.8677\n",
            "Epoch 54/100\n",
            "2/2 [==============================] - 0s 4ms/step - loss: 22.0413 - mae: 22.0413\n",
            "Epoch 55/100\n",
            "2/2 [==============================] - 0s 4ms/step - loss: 17.0640 - mae: 17.0640\n",
            "Epoch 56/100\n",
            "2/2 [==============================] - 0s 10ms/step - loss: 9.9520 - mae: 9.9520\n",
            "Epoch 57/100\n",
            "2/2 [==============================] - 0s 4ms/step - loss: 9.7522 - mae: 9.7522\n",
            "Epoch 58/100\n",
            "2/2 [==============================] - 0s 4ms/step - loss: 9.4378 - mae: 9.4378\n",
            "Epoch 59/100\n",
            "2/2 [==============================] - 0s 4ms/step - loss: 8.3373 - mae: 8.3373\n",
            "Epoch 60/100\n",
            "2/2 [==============================] - 0s 4ms/step - loss: 9.6425 - mae: 9.6425\n",
            "Epoch 61/100\n",
            "2/2 [==============================] - 0s 4ms/step - loss: 11.7590 - mae: 11.7590\n",
            "Epoch 62/100\n",
            "2/2 [==============================] - 0s 4ms/step - loss: 11.7187 - mae: 11.7187\n",
            "Epoch 63/100\n",
            "2/2 [==============================] - 0s 4ms/step - loss: 7.2316 - mae: 7.2316\n",
            "Epoch 64/100\n",
            "2/2 [==============================] - 0s 7ms/step - loss: 17.7848 - mae: 17.7848\n",
            "Epoch 65/100\n",
            "2/2 [==============================] - 0s 3ms/step - loss: 12.6255 - mae: 12.6255\n",
            "Epoch 66/100\n",
            "2/2 [==============================] - 0s 5ms/step - loss: 13.2840 - mae: 13.2840\n",
            "Epoch 67/100\n",
            "2/2 [==============================] - 0s 4ms/step - loss: 7.8471 - mae: 7.8471\n",
            "Epoch 68/100\n",
            "2/2 [==============================] - 0s 4ms/step - loss: 9.9708 - mae: 9.9708\n",
            "Epoch 69/100\n",
            "2/2 [==============================] - 0s 4ms/step - loss: 12.4903 - mae: 12.4903\n",
            "Epoch 70/100\n",
            "2/2 [==============================] - 0s 5ms/step - loss: 8.5001 - mae: 8.5001\n",
            "Epoch 71/100\n",
            "2/2 [==============================] - 0s 7ms/step - loss: 9.9996 - mae: 9.9996\n",
            "Epoch 72/100\n",
            "2/2 [==============================] - 0s 4ms/step - loss: 10.1797 - mae: 10.1797\n",
            "Epoch 73/100\n",
            "2/2 [==============================] - 0s 4ms/step - loss: 13.0024 - mae: 13.0024\n",
            "Epoch 74/100\n",
            "2/2 [==============================] - 0s 4ms/step - loss: 10.3812 - mae: 10.3812\n",
            "Epoch 75/100\n",
            "2/2 [==============================] - 0s 6ms/step - loss: 9.7621 - mae: 9.7621\n",
            "Epoch 76/100\n",
            "2/2 [==============================] - 0s 14ms/step - loss: 11.5186 - mae: 11.5186\n",
            "Epoch 77/100\n",
            "2/2 [==============================] - 0s 16ms/step - loss: 8.3070 - mae: 8.3070\n",
            "Epoch 78/100\n",
            "2/2 [==============================] - 0s 8ms/step - loss: 9.4436 - mae: 9.4436\n",
            "Epoch 79/100\n",
            "2/2 [==============================] - 0s 5ms/step - loss: 20.3897 - mae: 20.3897\n",
            "Epoch 80/100\n",
            "2/2 [==============================] - 0s 8ms/step - loss: 15.4751 - mae: 15.4751\n",
            "Epoch 81/100\n",
            "2/2 [==============================] - 0s 4ms/step - loss: 9.0208 - mae: 9.0208\n",
            "Epoch 82/100\n",
            "2/2 [==============================] - 0s 4ms/step - loss: 13.3869 - mae: 13.3869\n",
            "Epoch 83/100\n",
            "2/2 [==============================] - 0s 10ms/step - loss: 7.9649 - mae: 7.9649\n",
            "Epoch 84/100\n",
            "2/2 [==============================] - 0s 8ms/step - loss: 7.5702 - mae: 7.5702\n",
            "Epoch 85/100\n",
            "2/2 [==============================] - 0s 17ms/step - loss: 9.9706 - mae: 9.9706\n",
            "Epoch 86/100\n",
            "2/2 [==============================] - 0s 4ms/step - loss: 9.0533 - mae: 9.0533\n",
            "Epoch 87/100\n",
            "2/2 [==============================] - 0s 5ms/step - loss: 12.2670 - mae: 12.2670\n",
            "Epoch 88/100\n",
            "2/2 [==============================] - 0s 5ms/step - loss: 10.6052 - mae: 10.6052\n",
            "Epoch 89/100\n",
            "2/2 [==============================] - 0s 9ms/step - loss: 7.1986 - mae: 7.1986\n",
            "Epoch 90/100\n",
            "2/2 [==============================] - 0s 4ms/step - loss: 13.0379 - mae: 13.0379\n",
            "Epoch 91/100\n",
            "2/2 [==============================] - 0s 3ms/step - loss: 7.1968 - mae: 7.1968\n",
            "Epoch 92/100\n",
            "2/2 [==============================] - 0s 5ms/step - loss: 7.5386 - mae: 7.5386\n",
            "Epoch 93/100\n",
            "2/2 [==============================] - 0s 8ms/step - loss: 7.0932 - mae: 7.0932\n",
            "Epoch 94/100\n",
            "2/2 [==============================] - 0s 5ms/step - loss: 12.8860 - mae: 12.8860\n",
            "Epoch 95/100\n",
            "2/2 [==============================] - 0s 4ms/step - loss: 9.9620 - mae: 9.9620\n",
            "Epoch 96/100\n",
            "2/2 [==============================] - 0s 4ms/step - loss: 8.7739 - mae: 8.7739\n",
            "Epoch 97/100\n",
            "2/2 [==============================] - 0s 3ms/step - loss: 13.0861 - mae: 13.0861\n",
            "Epoch 98/100\n",
            "2/2 [==============================] - 0s 6ms/step - loss: 8.3848 - mae: 8.3848\n",
            "Epoch 99/100\n",
            "2/2 [==============================] - 0s 9ms/step - loss: 9.7828 - mae: 9.7828\n",
            "Epoch 100/100\n",
            "2/2 [==============================] - 0s 14ms/step - loss: 8.5252 - mae: 8.5252\n"
          ],
          "name": "stdout"
        },
        {
          "output_type": "execute_result",
          "data": {
            "text/plain": [
              "<tensorflow.python.keras.callbacks.History at 0x7f4bbc584cd0>"
            ]
          },
          "metadata": {
            "tags": []
          },
          "execution_count": 31
        }
      ]
    },
    {
      "cell_type": "code",
      "metadata": {
        "colab": {
          "base_uri": "https://localhost:8080/",
          "height": 465
        },
        "id": "9gCQDr15Jm2l",
        "outputId": "37c503ae-449c-4055-c245-74129da395f0"
      },
      "source": [
        "y_preds_1 = model_1.predict(X_test)\n",
        "plot_predictions(prediction=y_preds_1)"
      ],
      "execution_count": null,
      "outputs": [
        {
          "output_type": "stream",
          "text": [
            "WARNING:tensorflow:5 out of the last 5 calls to <function Model.make_predict_function.<locals>.predict_function at 0x7f4bbc52db00> triggered tf.function retracing. Tracing is expensive and the excessive number of tracings could be due to (1) creating @tf.function repeatedly in a loop, (2) passing tensors with different shapes, (3) passing Python objects instead of tensors. For (1), please define your @tf.function outside of the loop. For (2), @tf.function has experimental_relax_shapes=True option that relaxes argument shapes that can avoid unnecessary retracing. For (3), please refer to https://www.tensorflow.org/guide/function#controlling_retracing and https://www.tensorflow.org/api_docs/python/tf/function for  more details.\n"
          ],
          "name": "stdout"
        },
        {
          "output_type": "display_data",
          "data": {
            "image/png": "[encoded data removed]",
            "text/plain": [
              "<Figure size 720x504 with 1 Axes>"
            ]
          },
          "metadata": {
            "tags": [],
            "needs_background": "light"
          }
        }
      ]
    },
    {
      "cell_type": "code",
      "metadata": {
        "id": "QWL6WNU5KHpF"
      },
      "source": [
        "def mae(y_true,y_pred):\n",
        "  return tf.metrics.mean_absolute_error(y_true=y_true,y_pred=tf.squeeze(y_pred))\n",
        "\n",
        "def mse(y_true,y_pred):\n",
        "  return tf.metrics.mean_squared_error(y_true=y_true,y_pred=tf.squeeze(y_pred))\n"
      ],
      "execution_count": null,
      "outputs": []
    },
    {
      "cell_type": "code",
      "metadata": {
        "colab": {
          "base_uri": "https://localhost:8080/"
        },
        "id": "IIrZ4xL7Ll3_",
        "outputId": "de5d1da1-f27f-4b25-d92a-92c6851382e9"
      },
      "source": [
        "mae_1 = mae(y_test,y_preds_1)\n",
        "mse_1 = mse(y_test,y_preds_1)\n",
        "mae_1, mse_1"
      ],
      "execution_count": null,
      "outputs": [
        {
          "output_type": "execute_result",
          "data": {
            "text/plain": [
              "(<tf.Tensor: shape=(), dtype=float32, numpy=18.745327>,\n",
              " <tf.Tensor: shape=(), dtype=float32, numpy=353.57336>)"
            ]
          },
          "metadata": {
            "tags": []
          },
          "execution_count": 34
        }
      ]
    },
    {
      "cell_type": "code",
      "metadata": {
        "id": "O5oURG2rLyrn",
        "colab": {
          "base_uri": "https://localhost:8080/"
        },
        "outputId": "4fa5a77a-966c-43c6-dbe7-cb9a59727486"
      },
      "source": [
        "tf.random.set_seed(42)\n",
        "model_2 = tf.keras.Sequential([\n",
        "                               tf.keras.layers.Dense(10),\n",
        "                               tf.keras.layers.Dense(1)\n",
        "])\n",
        "\n",
        "model_2.compile(loss=tf.keras.losses.mae,\n",
        "                optimizer=tf.keras.optimizers.SGD(),\n",
        "                metrics=['mse'])\n",
        "\n",
        "model_2.fit(X_train,y_train, epochs=100,verbose=1)"
      ],
      "execution_count": null,
      "outputs": [
        {
          "output_type": "stream",
          "text": [
            "Epoch 1/100\n",
            "2/2 [==============================] - 0s 7ms/step - loss: 26.8627 - mse: 1015.8977\n",
            "Epoch 2/100\n",
            "2/2 [==============================] - 0s 7ms/step - loss: 24.4175 - mse: 767.5334\n",
            "Epoch 3/100\n",
            "2/2 [==============================] - 0s 7ms/step - loss: 31.5187 - mse: 1433.3082\n",
            "Epoch 4/100\n",
            "2/2 [==============================] - 0s 5ms/step - loss: 27.8490 - mse: 1141.6672\n",
            "Epoch 5/100\n",
            "2/2 [==============================] - 0s 4ms/step - loss: 14.6465 - mse: 267.4541\n",
            "Epoch 6/100\n",
            "2/2 [==============================] - 0s 6ms/step - loss: 11.9682 - mse: 169.5529\n",
            "Epoch 7/100\n",
            "2/2 [==============================] - 0s 8ms/step - loss: 11.0874 - mse: 141.6589\n",
            "Epoch 8/100\n",
            "2/2 [==============================] - 0s 7ms/step - loss: 11.3978 - mse: 167.3422\n",
            "Epoch 9/100\n",
            "2/2 [==============================] - 0s 6ms/step - loss: 42.4087 - mse: 2772.5432\n",
            "Epoch 10/100\n",
            "2/2 [==============================] - 0s 5ms/step - loss: 28.3537 - mse: 1129.8183\n",
            "Epoch 11/100\n",
            "2/2 [==============================] - 0s 5ms/step - loss: 9.6590 - mse: 132.9751\n",
            "Epoch 12/100\n",
            "2/2 [==============================] - 0s 3ms/step - loss: 25.8820 - mse: 933.4347\n",
            "Epoch 13/100\n",
            "2/2 [==============================] - 0s 3ms/step - loss: 16.7682 - mse: 398.1735\n",
            "Epoch 14/100\n",
            "2/2 [==============================] - 0s 4ms/step - loss: 26.6019 - mse: 1102.2358\n",
            "Epoch 15/100\n",
            "2/2 [==============================] - 0s 4ms/step - loss: 17.7361 - mse: 441.0350\n",
            "Epoch 16/100\n",
            "2/2 [==============================] - 0s 6ms/step - loss: 7.4550 - mse: 81.2729\n",
            "Epoch 17/100\n",
            "2/2 [==============================] - 0s 5ms/step - loss: 10.6974 - mse: 163.8851\n",
            "Epoch 18/100\n",
            "2/2 [==============================] - 0s 10ms/step - loss: 20.7691 - mse: 610.4135\n",
            "Epoch 19/100\n",
            "2/2 [==============================] - 0s 15ms/step - loss: 9.6535 - mse: 146.6566\n",
            "Epoch 20/100\n",
            "2/2 [==============================] - 0s 6ms/step - loss: 18.4600 - mse: 487.0986\n",
            "Epoch 21/100\n",
            "2/2 [==============================] - 0s 11ms/step - loss: 16.2352 - mse: 362.8490\n",
            "Epoch 22/100\n",
            "2/2 [==============================] - 0s 6ms/step - loss: 14.5012 - mse: 290.6680\n",
            "Epoch 23/100\n",
            "2/2 [==============================] - 0s 4ms/step - loss: 8.6493 - mse: 88.0710\n",
            "Epoch 24/100\n",
            "2/2 [==============================] - 0s 4ms/step - loss: 10.4430 - mse: 131.0228\n",
            "Epoch 25/100\n",
            "2/2 [==============================] - 0s 8ms/step - loss: 12.8060 - mse: 237.9437\n",
            "Epoch 26/100\n",
            "2/2 [==============================] - 0s 7ms/step - loss: 26.8011 - mse: 1075.4349\n",
            "Epoch 27/100\n",
            "2/2 [==============================] - 0s 6ms/step - loss: 12.0333 - mse: 202.1001\n",
            "Epoch 28/100\n",
            "2/2 [==============================] - 0s 8ms/step - loss: 23.4573 - mse: 871.2025\n",
            "Epoch 29/100\n",
            "2/2 [==============================] - 0s 9ms/step - loss: 9.1266 - mse: 92.4710\n",
            "Epoch 30/100\n",
            "2/2 [==============================] - 0s 16ms/step - loss: 31.1804 - mse: 1657.8954\n",
            "Epoch 31/100\n",
            "2/2 [==============================] - 0s 7ms/step - loss: 56.8211 - mse: 5441.4574\n",
            "Epoch 32/100\n",
            "2/2 [==============================] - 0s 6ms/step - loss: 12.2909 - mse: 221.1294\n",
            "Epoch 33/100\n",
            "2/2 [==============================] - 0s 4ms/step - loss: 15.3304 - mse: 330.0120\n",
            "Epoch 34/100\n",
            "2/2 [==============================] - 0s 5ms/step - loss: 12.8145 - mse: 215.9797\n",
            "Epoch 35/100\n",
            "2/2 [==============================] - 0s 7ms/step - loss: 9.4721 - mse: 95.5154\n",
            "Epoch 36/100\n",
            "2/2 [==============================] - 0s 5ms/step - loss: 16.6526 - mse: 404.8040\n",
            "Epoch 37/100\n",
            "2/2 [==============================] - 0s 7ms/step - loss: 10.4634 - mse: 169.1310\n",
            "Epoch 38/100\n",
            "2/2 [==============================] - 0s 4ms/step - loss: 18.7760 - mse: 459.8314\n",
            "Epoch 39/100\n",
            "2/2 [==============================] - 0s 6ms/step - loss: 20.1198 - mse: 569.0893\n",
            "Epoch 40/100\n",
            "2/2 [==============================] - 0s 12ms/step - loss: 21.4944 - mse: 654.6215\n",
            "Epoch 41/100\n",
            "2/2 [==============================] - 0s 3ms/step - loss: 14.5667 - mse: 268.1429\n",
            "Epoch 42/100\n",
            "2/2 [==============================] - 0s 4ms/step - loss: 12.2999 - mse: 188.8544\n",
            "Epoch 43/100\n",
            "2/2 [==============================] - 0s 4ms/step - loss: 11.1115 - mse: 175.7055\n",
            "Epoch 44/100\n",
            "2/2 [==============================] - 0s 3ms/step - loss: 23.5895 - mse: 869.7923\n",
            "Epoch 45/100\n",
            "2/2 [==============================] - 0s 34ms/step - loss: 9.9461 - mse: 113.3929\n",
            "Epoch 46/100\n",
            "2/2 [==============================] - 0s 6ms/step - loss: 12.0273 - mse: 188.4640\n",
            "Epoch 47/100\n",
            "2/2 [==============================] - 0s 5ms/step - loss: 9.0557 - mse: 132.7936\n",
            "Epoch 48/100\n",
            "2/2 [==============================] - 0s 7ms/step - loss: 17.8711 - mse: 427.6238\n",
            "Epoch 49/100\n",
            "2/2 [==============================] - 0s 4ms/step - loss: 9.5485 - mse: 96.8224\n",
            "Epoch 50/100\n",
            "2/2 [==============================] - 0s 6ms/step - loss: 13.7912 - mse: 256.8746\n",
            "Epoch 51/100\n",
            "2/2 [==============================] - 0s 5ms/step - loss: 11.2969 - mse: 145.4000\n",
            "Epoch 52/100\n",
            "2/2 [==============================] - 0s 5ms/step - loss: 32.1753 - mse: 1732.7585\n",
            "Epoch 53/100\n",
            "2/2 [==============================] - 0s 5ms/step - loss: 14.1257 - mse: 300.5093\n",
            "Epoch 54/100\n",
            "2/2 [==============================] - 0s 4ms/step - loss: 24.3921 - mse: 897.0252\n",
            "Epoch 55/100\n",
            "2/2 [==============================] - 0s 4ms/step - loss: 23.5967 - mse: 834.7571\n",
            "Epoch 56/100\n",
            "2/2 [==============================] - 0s 6ms/step - loss: 10.0101 - mse: 137.5419\n",
            "Epoch 57/100\n",
            "2/2 [==============================] - 0s 4ms/step - loss: 12.4333 - mse: 186.3946\n",
            "Epoch 58/100\n",
            "2/2 [==============================] - 0s 3ms/step - loss: 9.4491 - mse: 96.3009\n",
            "Epoch 59/100\n",
            "2/2 [==============================] - 0s 4ms/step - loss: 12.6438 - mse: 218.5184\n",
            "Epoch 60/100\n",
            "2/2 [==============================] - 0s 4ms/step - loss: 12.3168 - mse: 208.3239\n",
            "Epoch 61/100\n",
            "2/2 [==============================] - 0s 4ms/step - loss: 17.1832 - mse: 422.8597\n",
            "Epoch 62/100\n",
            "2/2 [==============================] - 0s 4ms/step - loss: 10.4860 - mse: 128.6799\n",
            "Epoch 63/100\n",
            "2/2 [==============================] - 0s 4ms/step - loss: 10.8072 - mse: 160.7222\n",
            "Epoch 64/100\n",
            "2/2 [==============================] - 0s 4ms/step - loss: 25.2892 - mse: 945.1685\n",
            "Epoch 65/100\n",
            "2/2 [==============================] - 0s 7ms/step - loss: 10.7923 - mse: 145.3387\n",
            "Epoch 66/100\n",
            "2/2 [==============================] - 0s 4ms/step - loss: 22.0328 - mse: 725.3462\n",
            "Epoch 67/100\n",
            "2/2 [==============================] - 0s 4ms/step - loss: 10.6505 - mse: 132.1476\n",
            "Epoch 68/100\n",
            "2/2 [==============================] - 0s 4ms/step - loss: 10.8455 - mse: 155.3464\n",
            "Epoch 69/100\n",
            "2/2 [==============================] - 0s 4ms/step - loss: 23.0960 - mse: 770.1602\n",
            "Epoch 70/100\n",
            "2/2 [==============================] - 0s 5ms/step - loss: 8.7402 - mse: 139.4087\n",
            "Epoch 71/100\n",
            "2/2 [==============================] - 0s 4ms/step - loss: 15.8968 - mse: 339.6098\n",
            "Epoch 72/100\n",
            "2/2 [==============================] - 0s 5ms/step - loss: 6.7092 - mse: 66.6670\n",
            "Epoch 73/100\n",
            "2/2 [==============================] - 0s 7ms/step - loss: 10.6475 - mse: 146.9912\n",
            "Epoch 74/100\n",
            "2/2 [==============================] - 0s 4ms/step - loss: 24.6152 - mse: 948.2740\n",
            "Epoch 75/100\n",
            "2/2 [==============================] - 0s 4ms/step - loss: 8.7602 - mse: 119.7264\n",
            "Epoch 76/100\n",
            "2/2 [==============================] - 0s 4ms/step - loss: 11.9799 - mse: 172.5533\n",
            "Epoch 77/100\n",
            "2/2 [==============================] - 0s 4ms/step - loss: 16.6488 - mse: 432.3298\n",
            "Epoch 78/100\n",
            "2/2 [==============================] - 0s 4ms/step - loss: 9.2784 - mse: 98.6556\n",
            "Epoch 79/100\n",
            "2/2 [==============================] - 0s 4ms/step - loss: 24.4604 - mse: 902.0726\n",
            "Epoch 80/100\n",
            "2/2 [==============================] - 0s 4ms/step - loss: 27.4405 - mse: 1158.6086\n",
            "Epoch 81/100\n",
            "2/2 [==============================] - 0s 4ms/step - loss: 11.7139 - mse: 170.4368\n",
            "Epoch 82/100\n",
            "2/2 [==============================] - 0s 4ms/step - loss: 11.6757 - mse: 196.1245\n",
            "Epoch 83/100\n",
            "2/2 [==============================] - 0s 4ms/step - loss: 17.9045 - mse: 414.3998\n",
            "Epoch 84/100\n",
            "2/2 [==============================] - 0s 4ms/step - loss: 7.0376 - mse: 70.0240\n",
            "Epoch 85/100\n",
            "2/2 [==============================] - 0s 11ms/step - loss: 15.1558 - mse: 321.1296\n",
            "Epoch 86/100\n",
            "2/2 [==============================] - 0s 9ms/step - loss: 15.1583 - mse: 311.4817\n",
            "Epoch 87/100\n",
            "2/2 [==============================] - 0s 7ms/step - loss: 19.8683 - mse: 554.4750\n",
            "Epoch 88/100\n",
            "2/2 [==============================] - 0s 6ms/step - loss: 30.7657 - mse: 1357.5454\n",
            "Epoch 89/100\n",
            "2/2 [==============================] - 0s 5ms/step - loss: 9.7059 - mse: 108.4962\n",
            "Epoch 90/100\n",
            "2/2 [==============================] - 0s 11ms/step - loss: 21.5531 - mse: 674.2966\n",
            "Epoch 91/100\n",
            "2/2 [==============================] - 0s 7ms/step - loss: 9.5827 - mse: 128.0419\n",
            "Epoch 92/100\n",
            "2/2 [==============================] - 0s 5ms/step - loss: 18.2158 - mse: 463.7714\n",
            "Epoch 93/100\n",
            "2/2 [==============================] - 0s 9ms/step - loss: 7.1935 - mse: 75.5075\n",
            "Epoch 94/100\n",
            "2/2 [==============================] - 0s 5ms/step - loss: 17.4261 - mse: 438.1330\n",
            "Epoch 95/100\n",
            "2/2 [==============================] - 0s 11ms/step - loss: 11.1722 - mse: 164.3355\n",
            "Epoch 96/100\n",
            "2/2 [==============================] - 0s 8ms/step - loss: 18.9207 - mse: 491.7021\n",
            "Epoch 97/100\n",
            "2/2 [==============================] - 0s 9ms/step - loss: 12.2012 - mse: 208.9876\n",
            "Epoch 98/100\n",
            "2/2 [==============================] - 0s 5ms/step - loss: 11.2931 - mse: 158.5947\n",
            "Epoch 99/100\n",
            "2/2 [==============================] - 0s 7ms/step - loss: 13.4562 - mse: 254.5623\n",
            "Epoch 100/100\n",
            "2/2 [==============================] - 0s 9ms/step - loss: 20.1754 - mse: 612.1692\n"
          ],
          "name": "stdout"
        },
        {
          "output_type": "execute_result",
          "data": {
            "text/plain": [
              "<tensorflow.python.keras.callbacks.History at 0x7f4bbc45f190>"
            ]
          },
          "metadata": {
            "tags": []
          },
          "execution_count": 35
        }
      ]
    },
    {
      "cell_type": "code",
      "metadata": {
        "colab": {
          "base_uri": "https://localhost:8080/",
          "height": 465
        },
        "id": "13riFUZxNknf",
        "outputId": "cd859f06-088a-405f-d52a-42edc30e6042"
      },
      "source": [
        "y_preds_2 = model_2.predict(X_test)\n",
        "plot_predictions(prediction=y_preds_2)"
      ],
      "execution_count": null,
      "outputs": [
        {
          "output_type": "stream",
          "text": [
            "WARNING:tensorflow:6 out of the last 6 calls to <function Model.make_predict_function.<locals>.predict_function at 0x7f4bbc339a70> triggered tf.function retracing. Tracing is expensive and the excessive number of tracings could be due to (1) creating @tf.function repeatedly in a loop, (2) passing tensors with different shapes, (3) passing Python objects instead of tensors. For (1), please define your @tf.function outside of the loop. For (2), @tf.function has experimental_relax_shapes=True option that relaxes argument shapes that can avoid unnecessary retracing. For (3), please refer to https://www.tensorflow.org/guide/function#controlling_retracing and https://www.tensorflow.org/api_docs/python/tf/function for  more details.\n"
          ],
          "name": "stdout"
        },
        {
          "output_type": "display_data",
          "data": {
            "image/png": "[encoded data removed]",
            "text/plain": [
              "<Figure size 720x504 with 1 Axes>"
            ]
          },
          "metadata": {
            "tags": [],
            "needs_background": "light"
          }
        }
      ]
    },
    {
      "cell_type": "code",
      "metadata": {
        "colab": {
          "base_uri": "https://localhost:8080/"
        },
        "id": "oXrqjzOVNyny",
        "outputId": "6191b0bc-d205-4a1e-8d8e-62ef5873c1d4"
      },
      "source": [
        "mae_2 = mae(y_test,y_preds_2)\n",
        "mse_2 = mse(y_test,y_preds_2)\n",
        "\n",
        "mae_2 , mse_2"
      ],
      "execution_count": null,
      "outputs": [
        {
          "output_type": "execute_result",
          "data": {
            "text/plain": [
              "(<tf.Tensor: shape=(), dtype=float32, numpy=3.1969407>,\n",
              " <tf.Tensor: shape=(), dtype=float32, numpy=13.070143>)"
            ]
          },
          "metadata": {
            "tags": []
          },
          "execution_count": 37
        }
      ]
    },
    {
      "cell_type": "code",
      "metadata": {
        "id": "kDChnHTaOGlw",
        "colab": {
          "base_uri": "https://localhost:8080/"
        },
        "outputId": "fd82bde6-5e18-4222-af92-049157d49ac2"
      },
      "source": [
        "tf.random.set_seed(42)\n",
        "\n",
        "model_3 = tf.keras.Sequential([\n",
        "                               tf.keras.layers.Dense(10),\n",
        "                               tf.keras.layers.Dense(1)\n",
        "])\n",
        "\n",
        "model_3.compile(loss=tf.keras.losses.mae,\n",
        "                optimizer=tf.keras.optimizers.SGD(),\n",
        "                metrics=['mae'])\n",
        "\n",
        "model_3.fit(X_train,y_train, epochs=500)"
      ],
      "execution_count": null,
      "outputs": [
        {
          "output_type": "stream",
          "text": [
            "Epoch 1/500\n",
            "2/2 [==============================] - 0s 6ms/step - loss: 26.8627 - mae: 26.8627\n",
            "Epoch 2/500\n",
            "2/2 [==============================] - 0s 5ms/step - loss: 24.4175 - mae: 24.4175\n",
            "Epoch 3/500\n",
            "2/2 [==============================] - 0s 10ms/step - loss: 31.5187 - mae: 31.5187\n",
            "Epoch 4/500\n",
            "2/2 [==============================] - 0s 4ms/step - loss: 27.8490 - mae: 27.8490\n",
            "Epoch 5/500\n",
            "2/2 [==============================] - 0s 5ms/step - loss: 14.6465 - mae: 14.6465\n",
            "Epoch 6/500\n",
            "2/2 [==============================] - 0s 5ms/step - loss: 11.9682 - mae: 11.9682\n",
            "Epoch 7/500\n",
            "2/2 [==============================] - 0s 6ms/step - loss: 11.0874 - mae: 11.0874\n",
            "Epoch 8/500\n",
            "2/2 [==============================] - 0s 3ms/step - loss: 11.3978 - mae: 11.3978\n",
            "Epoch 9/500\n",
            "2/2 [==============================] - 0s 9ms/step - loss: 42.4087 - mae: 42.4087\n",
            "Epoch 10/500\n",
            "2/2 [==============================] - 0s 3ms/step - loss: 28.3537 - mae: 28.3537\n",
            "Epoch 11/500\n",
            "2/2 [==============================] - 0s 7ms/step - loss: 9.6590 - mae: 9.6590\n",
            "Epoch 12/500\n",
            "2/2 [==============================] - 0s 5ms/step - loss: 25.8820 - mae: 25.8820\n",
            "Epoch 13/500\n",
            "2/2 [==============================] - 0s 7ms/step - loss: 16.7682 - mae: 16.7682\n",
            "Epoch 14/500\n",
            "2/2 [==============================] - 0s 12ms/step - loss: 26.6019 - mae: 26.6019\n",
            "Epoch 15/500\n",
            "2/2 [==============================] - 0s 9ms/step - loss: 17.7361 - mae: 17.7361\n",
            "Epoch 16/500\n",
            "2/2 [==============================] - 0s 12ms/step - loss: 7.4550 - mae: 7.4550\n",
            "Epoch 17/500\n",
            "2/2 [==============================] - 0s 10ms/step - loss: 10.6974 - mae: 10.6974\n",
            "Epoch 18/500\n",
            "2/2 [==============================] - 0s 11ms/step - loss: 20.7691 - mae: 20.7691\n",
            "Epoch 19/500\n",
            "2/2 [==============================] - 0s 14ms/step - loss: 9.6535 - mae: 9.6535\n",
            "Epoch 20/500\n",
            "2/2 [==============================] - 0s 6ms/step - loss: 18.4600 - mae: 18.4600\n",
            "Epoch 21/500\n",
            "2/2 [==============================] - 0s 6ms/step - loss: 16.2352 - mae: 16.2352\n",
            "Epoch 22/500\n",
            "2/2 [==============================] - 0s 12ms/step - loss: 14.5012 - mae: 14.5012\n",
            "Epoch 23/500\n",
            "2/2 [==============================] - 0s 5ms/step - loss: 8.6493 - mae: 8.6493\n",
            "Epoch 24/500\n",
            "2/2 [==============================] - 0s 5ms/step - loss: 10.4430 - mae: 10.4430\n",
            "Epoch 25/500\n",
            "2/2 [==============================] - 0s 7ms/step - loss: 12.8060 - mae: 12.8060\n",
            "Epoch 26/500\n",
            "2/2 [==============================] - 0s 7ms/step - loss: 26.8011 - mae: 26.8011\n",
            "Epoch 27/500\n",
            "2/2 [==============================] - 0s 4ms/step - loss: 12.0333 - mae: 12.0333\n",
            "Epoch 28/500\n",
            "2/2 [==============================] - 0s 4ms/step - loss: 23.4573 - mae: 23.4573\n",
            "Epoch 29/500\n",
            "2/2 [==============================] - 0s 4ms/step - loss: 9.1266 - mae: 9.1266\n",
            "Epoch 30/500\n",
            "2/2 [==============================] - 0s 6ms/step - loss: 31.1804 - mae: 31.1804\n",
            "Epoch 31/500\n",
            "2/2 [==============================] - 0s 4ms/step - loss: 56.8211 - mae: 56.8211\n",
            "Epoch 32/500\n",
            "2/2 [==============================] - 0s 5ms/step - loss: 12.2909 - mae: 12.2909\n",
            "Epoch 33/500\n",
            "2/2 [==============================] - 0s 7ms/step - loss: 15.3304 - mae: 15.3304\n",
            "Epoch 34/500\n",
            "2/2 [==============================] - 0s 4ms/step - loss: 12.8145 - mae: 12.8145\n",
            "Epoch 35/500\n",
            "2/2 [==============================] - 0s 6ms/step - loss: 9.4721 - mae: 9.4721\n",
            "Epoch 36/500\n",
            "2/2 [==============================] - 0s 5ms/step - loss: 16.6526 - mae: 16.6526\n",
            "Epoch 37/500\n",
            "2/2 [==============================] - 0s 4ms/step - loss: 10.4634 - mae: 10.4634\n",
            "Epoch 38/500\n",
            "2/2 [==============================] - 0s 6ms/step - loss: 18.7760 - mae: 18.7760\n",
            "Epoch 39/500\n",
            "2/2 [==============================] - 0s 5ms/step - loss: 20.1198 - mae: 20.1198\n",
            "Epoch 40/500\n",
            "2/2 [==============================] - 0s 4ms/step - loss: 21.4944 - mae: 21.4944\n",
            "Epoch 41/500\n",
            "2/2 [==============================] - 0s 4ms/step - loss: 14.5667 - mae: 14.5667\n",
            "Epoch 42/500\n",
            "2/2 [==============================] - 0s 8ms/step - loss: 12.2999 - mae: 12.2999\n",
            "Epoch 43/500\n",
            "2/2 [==============================] - 0s 5ms/step - loss: 11.1115 - mae: 11.1115\n",
            "Epoch 44/500\n",
            "2/2 [==============================] - 0s 7ms/step - loss: 23.5895 - mae: 23.5895\n",
            "Epoch 45/500\n",
            "2/2 [==============================] - 0s 10ms/step - loss: 9.9461 - mae: 9.9461\n",
            "Epoch 46/500\n",
            "2/2 [==============================] - 0s 8ms/step - loss: 12.0273 - mae: 12.0273\n",
            "Epoch 47/500\n",
            "2/2 [==============================] - 0s 6ms/step - loss: 9.0557 - mae: 9.0557\n",
            "Epoch 48/500\n",
            "2/2 [==============================] - 0s 4ms/step - loss: 17.8711 - mae: 17.8711\n",
            "Epoch 49/500\n",
            "2/2 [==============================] - 0s 4ms/step - loss: 9.5485 - mae: 9.5485\n",
            "Epoch 50/500\n",
            "2/2 [==============================] - 0s 8ms/step - loss: 13.7912 - mae: 13.7912\n",
            "Epoch 51/500\n",
            "2/2 [==============================] - 0s 7ms/step - loss: 11.2969 - mae: 11.2969\n",
            "Epoch 52/500\n",
            "2/2 [==============================] - 0s 5ms/step - loss: 32.1753 - mae: 32.1753\n",
            "Epoch 53/500\n",
            "2/2 [==============================] - 0s 5ms/step - loss: 14.1257 - mae: 14.1257\n",
            "Epoch 54/500\n",
            "2/2 [==============================] - 0s 10ms/step - loss: 24.3921 - mae: 24.3921\n",
            "Epoch 55/500\n",
            "2/2 [==============================] - 0s 17ms/step - loss: 23.5967 - mae: 23.5967\n",
            "Epoch 56/500\n",
            "2/2 [==============================] - 0s 6ms/step - loss: 10.0101 - mae: 10.0101\n",
            "Epoch 57/500\n",
            "2/2 [==============================] - 0s 6ms/step - loss: 12.4333 - mae: 12.4333\n",
            "Epoch 58/500\n",
            "2/2 [==============================] - 0s 14ms/step - loss: 9.4491 - mae: 9.4491\n",
            "Epoch 59/500\n",
            "2/2 [==============================] - 0s 4ms/step - loss: 12.6438 - mae: 12.6438\n",
            "Epoch 60/500\n",
            "2/2 [==============================] - 0s 12ms/step - loss: 12.3168 - mae: 12.3168\n",
            "Epoch 61/500\n",
            "2/2 [==============================] - 0s 10ms/step - loss: 17.1832 - mae: 17.1832\n",
            "Epoch 62/500\n",
            "2/2 [==============================] - 0s 5ms/step - loss: 10.4860 - mae: 10.4860\n",
            "Epoch 63/500\n",
            "2/2 [==============================] - 0s 6ms/step - loss: 10.8072 - mae: 10.8072\n",
            "Epoch 64/500\n",
            "2/2 [==============================] - 0s 12ms/step - loss: 25.2892 - mae: 25.2892\n",
            "Epoch 65/500\n",
            "2/2 [==============================] - 0s 8ms/step - loss: 10.7923 - mae: 10.7923\n",
            "Epoch 66/500\n",
            "2/2 [==============================] - 0s 9ms/step - loss: 22.0328 - mae: 22.0328\n",
            "Epoch 67/500\n",
            "2/2 [==============================] - 0s 7ms/step - loss: 10.6505 - mae: 10.6505\n",
            "Epoch 68/500\n",
            "2/2 [==============================] - 0s 5ms/step - loss: 10.8455 - mae: 10.8455\n",
            "Epoch 69/500\n",
            "2/2 [==============================] - 0s 4ms/step - loss: 23.0960 - mae: 23.0960\n",
            "Epoch 70/500\n",
            "2/2 [==============================] - 0s 8ms/step - loss: 8.7402 - mae: 8.7402\n",
            "Epoch 71/500\n",
            "2/2 [==============================] - 0s 5ms/step - loss: 15.8968 - mae: 15.8968\n",
            "Epoch 72/500\n",
            "2/2 [==============================] - 0s 5ms/step - loss: 6.7092 - mae: 6.7092\n",
            "Epoch 73/500\n",
            "2/2 [==============================] - 0s 5ms/step - loss: 10.6475 - mae: 10.6475\n",
            "Epoch 74/500\n",
            "2/2 [==============================] - 0s 4ms/step - loss: 24.6152 - mae: 24.6152\n",
            "Epoch 75/500\n",
            "2/2 [==============================] - 0s 3ms/step - loss: 8.7602 - mae: 8.7602\n",
            "Epoch 76/500\n",
            "2/2 [==============================] - 0s 4ms/step - loss: 11.9799 - mae: 11.9799\n",
            "Epoch 77/500\n",
            "2/2 [==============================] - 0s 9ms/step - loss: 16.6488 - mae: 16.6488\n",
            "Epoch 78/500\n",
            "2/2 [==============================] - 0s 4ms/step - loss: 9.2784 - mae: 9.2784\n",
            "Epoch 79/500\n",
            "2/2 [==============================] - 0s 3ms/step - loss: 24.4604 - mae: 24.4604\n",
            "Epoch 80/500\n",
            "2/2 [==============================] - 0s 3ms/step - loss: 27.4405 - mae: 27.4405\n",
            "Epoch 81/500\n",
            "2/2 [==============================] - 0s 6ms/step - loss: 11.7139 - mae: 11.7139\n",
            "Epoch 82/500\n",
            "2/2 [==============================] - 0s 8ms/step - loss: 11.6757 - mae: 11.6757\n",
            "Epoch 83/500\n",
            "2/2 [==============================] - 0s 5ms/step - loss: 17.9045 - mae: 17.9045\n",
            "Epoch 84/500\n",
            "2/2 [==============================] - 0s 6ms/step - loss: 7.0376 - mae: 7.0376\n",
            "Epoch 85/500\n",
            "2/2 [==============================] - 0s 5ms/step - loss: 15.1558 - mae: 15.1558\n",
            "Epoch 86/500\n",
            "2/2 [==============================] - 0s 4ms/step - loss: 15.1583 - mae: 15.1583\n",
            "Epoch 87/500\n",
            "2/2 [==============================] - 0s 6ms/step - loss: 19.8683 - mae: 19.8683\n",
            "Epoch 88/500\n",
            "2/2 [==============================] - 0s 4ms/step - loss: 30.7657 - mae: 30.7657\n",
            "Epoch 89/500\n",
            "2/2 [==============================] - 0s 4ms/step - loss: 9.7059 - mae: 9.7059\n",
            "Epoch 90/500\n",
            "2/2 [==============================] - 0s 5ms/step - loss: 21.5531 - mae: 21.5531\n",
            "Epoch 91/500\n",
            "2/2 [==============================] - 0s 5ms/step - loss: 9.5827 - mae: 9.5827\n",
            "Epoch 92/500\n",
            "2/2 [==============================] - 0s 8ms/step - loss: 18.2158 - mae: 18.2158\n",
            "Epoch 93/500\n",
            "2/2 [==============================] - 0s 4ms/step - loss: 7.1935 - mae: 7.1935\n",
            "Epoch 94/500\n",
            "2/2 [==============================] - 0s 4ms/step - loss: 17.4261 - mae: 17.4261\n",
            "Epoch 95/500\n",
            "2/2 [==============================] - 0s 3ms/step - loss: 11.1722 - mae: 11.1722\n",
            "Epoch 96/500\n",
            "2/2 [==============================] - 0s 10ms/step - loss: 18.9207 - mae: 18.9207\n",
            "Epoch 97/500\n",
            "2/2 [==============================] - 0s 5ms/step - loss: 12.2012 - mae: 12.2012\n",
            "Epoch 98/500\n",
            "2/2 [==============================] - 0s 4ms/step - loss: 11.2931 - mae: 11.2931\n",
            "Epoch 99/500\n",
            "2/2 [==============================] - 0s 7ms/step - loss: 13.4562 - mae: 13.4562\n",
            "Epoch 100/500\n",
            "2/2 [==============================] - 0s 5ms/step - loss: 20.1754 - mae: 20.1754\n",
            "Epoch 101/500\n",
            "2/2 [==============================] - 0s 6ms/step - loss: 11.4395 - mae: 11.4395\n",
            "Epoch 102/500\n",
            "2/2 [==============================] - 0s 6ms/step - loss: 17.0888 - mae: 17.0888\n",
            "Epoch 103/500\n",
            "2/2 [==============================] - 0s 7ms/step - loss: 6.9455 - mae: 6.9455\n",
            "Epoch 104/500\n",
            "2/2 [==============================] - 0s 4ms/step - loss: 24.3779 - mae: 24.3779\n",
            "Epoch 105/500\n",
            "2/2 [==============================] - 0s 5ms/step - loss: 16.8800 - mae: 16.8800\n",
            "Epoch 106/500\n",
            "2/2 [==============================] - 0s 14ms/step - loss: 8.5557 - mae: 8.5557\n",
            "Epoch 107/500\n",
            "2/2 [==============================] - 0s 6ms/step - loss: 26.5426 - mae: 26.5426\n",
            "Epoch 108/500\n",
            "2/2 [==============================] - 0s 7ms/step - loss: 13.2375 - mae: 13.2375\n",
            "Epoch 109/500\n",
            "2/2 [==============================] - 0s 5ms/step - loss: 9.1284 - mae: 9.1284\n",
            "Epoch 110/500\n",
            "2/2 [==============================] - 0s 6ms/step - loss: 8.9256 - mae: 8.9256\n",
            "Epoch 111/500\n",
            "2/2 [==============================] - 0s 4ms/step - loss: 14.0550 - mae: 14.0550\n",
            "Epoch 112/500\n",
            "2/2 [==============================] - 0s 3ms/step - loss: 9.7418 - mae: 9.7418\n",
            "Epoch 113/500\n",
            "2/2 [==============================] - 0s 7ms/step - loss: 17.5151 - mae: 17.5151\n",
            "Epoch 114/500\n",
            "2/2 [==============================] - 0s 9ms/step - loss: 17.0304 - mae: 17.0304\n",
            "Epoch 115/500\n",
            "2/2 [==============================] - 0s 8ms/step - loss: 10.9228 - mae: 10.9228\n",
            "Epoch 116/500\n",
            "2/2 [==============================] - 0s 6ms/step - loss: 23.5453 - mae: 23.5453\n",
            "Epoch 117/500\n",
            "2/2 [==============================] - 0s 4ms/step - loss: 8.8340 - mae: 8.8340\n",
            "Epoch 118/500\n",
            "2/2 [==============================] - 0s 7ms/step - loss: 10.2977 - mae: 10.2977\n",
            "Epoch 119/500\n",
            "2/2 [==============================] - 0s 4ms/step - loss: 8.3192 - mae: 8.3192\n",
            "Epoch 120/500\n",
            "2/2 [==============================] - 0s 4ms/step - loss: 30.7265 - mae: 30.7265\n",
            "Epoch 121/500\n",
            "2/2 [==============================] - 0s 5ms/step - loss: 8.1436 - mae: 8.1436\n",
            "Epoch 122/500\n",
            "2/2 [==============================] - 0s 4ms/step - loss: 29.4327 - mae: 29.4327\n",
            "Epoch 123/500\n",
            "2/2 [==============================] - 0s 4ms/step - loss: 34.2183 - mae: 34.2183\n",
            "Epoch 124/500\n",
            "2/2 [==============================] - 0s 5ms/step - loss: 19.6697 - mae: 19.6697\n",
            "Epoch 125/500\n",
            "2/2 [==============================] - 0s 5ms/step - loss: 6.5959 - mae: 6.5959\n",
            "Epoch 126/500\n",
            "2/2 [==============================] - 0s 4ms/step - loss: 21.8683 - mae: 21.8683\n",
            "Epoch 127/500\n",
            "2/2 [==============================] - 0s 7ms/step - loss: 8.0892 - mae: 8.0892\n",
            "Epoch 128/500\n",
            "2/2 [==============================] - 0s 5ms/step - loss: 21.1329 - mae: 21.1329\n",
            "Epoch 129/500\n",
            "2/2 [==============================] - 0s 4ms/step - loss: 9.3481 - mae: 9.3481\n",
            "Epoch 130/500\n",
            "2/2 [==============================] - 0s 9ms/step - loss: 24.2633 - mae: 24.2633\n",
            "Epoch 131/500\n",
            "2/2 [==============================] - 0s 12ms/step - loss: 9.9302 - mae: 9.9302\n",
            "Epoch 132/500\n",
            "2/2 [==============================] - 0s 10ms/step - loss: 18.3634 - mae: 18.3634\n",
            "Epoch 133/500\n",
            "2/2 [==============================] - 0s 15ms/step - loss: 7.2677 - mae: 7.2677\n",
            "Epoch 134/500\n",
            "2/2 [==============================] - 0s 11ms/step - loss: 18.4166 - mae: 18.4166\n",
            "Epoch 135/500\n",
            "2/2 [==============================] - 0s 7ms/step - loss: 9.7401 - mae: 9.7401\n",
            "Epoch 136/500\n",
            "2/2 [==============================] - 0s 5ms/step - loss: 17.8516 - mae: 17.8516\n",
            "Epoch 137/500\n",
            "2/2 [==============================] - 0s 9ms/step - loss: 22.9936 - mae: 22.9936\n",
            "Epoch 138/500\n",
            "2/2 [==============================] - 0s 4ms/step - loss: 8.2013 - mae: 8.2013\n",
            "Epoch 139/500\n",
            "2/2 [==============================] - 0s 6ms/step - loss: 8.0097 - mae: 8.0097\n",
            "Epoch 140/500\n",
            "2/2 [==============================] - 0s 5ms/step - loss: 15.9624 - mae: 15.9624\n",
            "Epoch 141/500\n",
            "2/2 [==============================] - 0s 10ms/step - loss: 8.6422 - mae: 8.6422\n",
            "Epoch 142/500\n",
            "2/2 [==============================] - 0s 4ms/step - loss: 39.2127 - mae: 39.2127\n",
            "Epoch 143/500\n",
            "2/2 [==============================] - 0s 6ms/step - loss: 25.9599 - mae: 25.9599\n",
            "Epoch 144/500\n",
            "2/2 [==============================] - 0s 3ms/step - loss: 8.6134 - mae: 8.6134\n",
            "Epoch 145/500\n",
            "2/2 [==============================] - 0s 4ms/step - loss: 27.7680 - mae: 27.7680\n",
            "Epoch 146/500\n",
            "2/2 [==============================] - 0s 9ms/step - loss: 8.3428 - mae: 8.3428\n",
            "Epoch 147/500\n",
            "2/2 [==============================] - 0s 4ms/step - loss: 15.0730 - mae: 15.0730\n",
            "Epoch 148/500\n",
            "2/2 [==============================] - 0s 4ms/step - loss: 19.1933 - mae: 19.1933\n",
            "Epoch 149/500\n",
            "2/2 [==============================] - 0s 5ms/step - loss: 7.4993 - mae: 7.4993\n",
            "Epoch 150/500\n",
            "2/2 [==============================] - 0s 4ms/step - loss: 7.4097 - mae: 7.4097\n",
            "Epoch 151/500\n",
            "2/2 [==============================] - 0s 12ms/step - loss: 18.1762 - mae: 18.1762\n",
            "Epoch 152/500\n",
            "2/2 [==============================] - 0s 4ms/step - loss: 9.9065 - mae: 9.9065\n",
            "Epoch 153/500\n",
            "2/2 [==============================] - 0s 16ms/step - loss: 30.6868 - mae: 30.6868\n",
            "Epoch 154/500\n",
            "2/2 [==============================] - 0s 6ms/step - loss: 9.6497 - mae: 9.6497\n",
            "Epoch 155/500\n",
            "2/2 [==============================] - 0s 4ms/step - loss: 16.0886 - mae: 16.0886\n",
            "Epoch 156/500\n",
            "2/2 [==============================] - 0s 4ms/step - loss: 18.0462 - mae: 18.0462\n",
            "Epoch 157/500\n",
            "2/2 [==============================] - 0s 3ms/step - loss: 34.4868 - mae: 34.4868\n",
            "Epoch 158/500\n",
            "2/2 [==============================] - 0s 8ms/step - loss: 10.3002 - mae: 10.3002\n",
            "Epoch 159/500\n",
            "2/2 [==============================] - 0s 6ms/step - loss: 8.5288 - mae: 8.5288\n",
            "Epoch 160/500\n",
            "2/2 [==============================] - 0s 6ms/step - loss: 22.2562 - mae: 22.2562\n",
            "Epoch 161/500\n",
            "2/2 [==============================] - 0s 11ms/step - loss: 11.2986 - mae: 11.2986\n",
            "Epoch 162/500\n",
            "2/2 [==============================] - 0s 5ms/step - loss: 21.5576 - mae: 21.5576\n",
            "Epoch 163/500\n",
            "2/2 [==============================] - 0s 3ms/step - loss: 18.8924 - mae: 18.8924\n",
            "Epoch 164/500\n",
            "2/2 [==============================] - 0s 3ms/step - loss: 10.9458 - mae: 10.9458\n",
            "Epoch 165/500\n",
            "2/2 [==============================] - 0s 5ms/step - loss: 8.7489 - mae: 8.7489\n",
            "Epoch 166/500\n",
            "2/2 [==============================] - 0s 6ms/step - loss: 22.6552 - mae: 22.6552\n",
            "Epoch 167/500\n",
            "2/2 [==============================] - 0s 4ms/step - loss: 26.9724 - mae: 26.9724\n",
            "Epoch 168/500\n",
            "2/2 [==============================] - 0s 11ms/step - loss: 9.2709 - mae: 9.2709\n",
            "Epoch 169/500\n",
            "2/2 [==============================] - 0s 6ms/step - loss: 23.1678 - mae: 23.1678\n",
            "Epoch 170/500\n",
            "2/2 [==============================] - 0s 5ms/step - loss: 9.3051 - mae: 9.3051\n",
            "Epoch 171/500\n",
            "2/2 [==============================] - 0s 7ms/step - loss: 18.9237 - mae: 18.9237\n",
            "Epoch 172/500\n",
            "2/2 [==============================] - 0s 6ms/step - loss: 29.9900 - mae: 29.9900\n",
            "Epoch 173/500\n",
            "2/2 [==============================] - 0s 18ms/step - loss: 16.4918 - mae: 16.4918\n",
            "Epoch 174/500\n",
            "2/2 [==============================] - 0s 13ms/step - loss: 10.2796 - mae: 10.2796\n",
            "Epoch 175/500\n",
            "2/2 [==============================] - 0s 8ms/step - loss: 28.8074 - mae: 28.8074\n",
            "Epoch 176/500\n",
            "2/2 [==============================] - 0s 4ms/step - loss: 8.1042 - mae: 8.1042\n",
            "Epoch 177/500\n",
            "2/2 [==============================] - 0s 26ms/step - loss: 8.8722 - mae: 8.8722\n",
            "Epoch 178/500\n",
            "2/2 [==============================] - 0s 9ms/step - loss: 17.8721 - mae: 17.8721\n",
            "Epoch 179/500\n",
            "2/2 [==============================] - 0s 9ms/step - loss: 10.4428 - mae: 10.4428\n",
            "Epoch 180/500\n",
            "2/2 [==============================] - 0s 10ms/step - loss: 7.2716 - mae: 7.2716\n",
            "Epoch 181/500\n",
            "2/2 [==============================] - 0s 8ms/step - loss: 17.0166 - mae: 17.0166\n",
            "Epoch 182/500\n",
            "2/2 [==============================] - 0s 7ms/step - loss: 10.3910 - mae: 10.3910\n",
            "Epoch 183/500\n",
            "2/2 [==============================] - 0s 4ms/step - loss: 11.1568 - mae: 11.1568\n",
            "Epoch 184/500\n",
            "2/2 [==============================] - 0s 7ms/step - loss: 31.6483 - mae: 31.6483\n",
            "Epoch 185/500\n",
            "2/2 [==============================] - 0s 4ms/step - loss: 7.0154 - mae: 7.0154\n",
            "Epoch 186/500\n",
            "2/2 [==============================] - 0s 5ms/step - loss: 16.6843 - mae: 16.6843\n",
            "Epoch 187/500\n",
            "2/2 [==============================] - 0s 5ms/step - loss: 8.1126 - mae: 8.1126\n",
            "Epoch 188/500\n",
            "2/2 [==============================] - 0s 6ms/step - loss: 29.6995 - mae: 29.6995\n",
            "Epoch 189/500\n",
            "2/2 [==============================] - 0s 4ms/step - loss: 12.3776 - mae: 12.3776\n",
            "Epoch 190/500\n",
            "2/2 [==============================] - 0s 4ms/step - loss: 19.3024 - mae: 19.3024\n",
            "Epoch 191/500\n",
            "2/2 [==============================] - 0s 5ms/step - loss: 13.9023 - mae: 13.9023\n",
            "Epoch 192/500\n",
            "2/2 [==============================] - 0s 6ms/step - loss: 12.9345 - mae: 12.9345\n",
            "Epoch 193/500\n",
            "2/2 [==============================] - 0s 4ms/step - loss: 29.5007 - mae: 29.5007\n",
            "Epoch 194/500\n",
            "2/2 [==============================] - 0s 6ms/step - loss: 6.6526 - mae: 6.6526\n",
            "Epoch 195/500\n",
            "2/2 [==============================] - 0s 5ms/step - loss: 6.6620 - mae: 6.6620\n",
            "Epoch 196/500\n",
            "2/2 [==============================] - 0s 4ms/step - loss: 22.8540 - mae: 22.8540\n",
            "Epoch 197/500\n",
            "2/2 [==============================] - 0s 6ms/step - loss: 20.7492 - mae: 20.7492\n",
            "Epoch 198/500\n",
            "2/2 [==============================] - 0s 4ms/step - loss: 11.8978 - mae: 11.8978\n",
            "Epoch 199/500\n",
            "2/2 [==============================] - 0s 7ms/step - loss: 17.4222 - mae: 17.4222\n",
            "Epoch 200/500\n",
            "2/2 [==============================] - 0s 9ms/step - loss: 13.4876 - mae: 13.4876\n",
            "Epoch 201/500\n",
            "2/2 [==============================] - 0s 6ms/step - loss: 5.6035 - mae: 5.6035\n",
            "Epoch 202/500\n",
            "2/2 [==============================] - 0s 11ms/step - loss: 13.1062 - mae: 13.1062\n",
            "Epoch 203/500\n",
            "2/2 [==============================] - 0s 5ms/step - loss: 8.4001 - mae: 8.4001\n",
            "Epoch 204/500\n",
            "2/2 [==============================] - 0s 5ms/step - loss: 21.0158 - mae: 21.0158\n",
            "Epoch 205/500\n",
            "2/2 [==============================] - 0s 6ms/step - loss: 8.7459 - mae: 8.7459\n",
            "Epoch 206/500\n",
            "2/2 [==============================] - 0s 7ms/step - loss: 11.0638 - mae: 11.0638\n",
            "Epoch 207/500\n",
            "2/2 [==============================] - 0s 5ms/step - loss: 13.8665 - mae: 13.8665\n",
            "Epoch 208/500\n",
            "2/2 [==============================] - 0s 5ms/step - loss: 13.9839 - mae: 13.9839\n",
            "Epoch 209/500\n",
            "2/2 [==============================] - 0s 6ms/step - loss: 14.2824 - mae: 14.2824\n",
            "Epoch 210/500\n",
            "2/2 [==============================] - 0s 6ms/step - loss: 17.6257 - mae: 17.6257\n",
            "Epoch 211/500\n",
            "2/2 [==============================] - 0s 4ms/step - loss: 8.8540 - mae: 8.8540\n",
            "Epoch 212/500\n",
            "2/2 [==============================] - 0s 5ms/step - loss: 18.6211 - mae: 18.6211\n",
            "Epoch 213/500\n",
            "2/2 [==============================] - 0s 7ms/step - loss: 15.0631 - mae: 15.0631\n",
            "Epoch 214/500\n",
            "2/2 [==============================] - 0s 5ms/step - loss: 14.8075 - mae: 14.8075\n",
            "Epoch 215/500\n",
            "2/2 [==============================] - 0s 8ms/step - loss: 24.6706 - mae: 24.6706\n",
            "Epoch 216/500\n",
            "2/2 [==============================] - 0s 5ms/step - loss: 12.8053 - mae: 12.8053\n",
            "Epoch 217/500\n",
            "2/2 [==============================] - 0s 4ms/step - loss: 9.7938 - mae: 9.7938\n",
            "Epoch 218/500\n",
            "2/2 [==============================] - 0s 5ms/step - loss: 12.3979 - mae: 12.3979\n",
            "Epoch 219/500\n",
            "2/2 [==============================] - 0s 7ms/step - loss: 5.0245 - mae: 5.0245\n",
            "Epoch 220/500\n",
            "2/2 [==============================] - 0s 8ms/step - loss: 6.8297 - mae: 6.8297\n",
            "Epoch 221/500\n",
            "2/2 [==============================] - 0s 5ms/step - loss: 37.3270 - mae: 37.3270\n",
            "Epoch 222/500\n",
            "2/2 [==============================] - 0s 5ms/step - loss: 36.7870 - mae: 36.7870\n",
            "Epoch 223/500\n",
            "2/2 [==============================] - 0s 7ms/step - loss: 7.3082 - mae: 7.3082\n",
            "Epoch 224/500\n",
            "2/2 [==============================] - 0s 7ms/step - loss: 15.3583 - mae: 15.3583\n",
            "Epoch 225/500\n",
            "2/2 [==============================] - 0s 5ms/step - loss: 16.9646 - mae: 16.9646\n",
            "Epoch 226/500\n",
            "2/2 [==============================] - 0s 7ms/step - loss: 16.5040 - mae: 16.5040\n",
            "Epoch 227/500\n",
            "2/2 [==============================] - 0s 15ms/step - loss: 16.8008 - mae: 16.8008\n",
            "Epoch 228/500\n",
            "2/2 [==============================] - 0s 4ms/step - loss: 14.3646 - mae: 14.3646\n",
            "Epoch 229/500\n",
            "2/2 [==============================] - 0s 4ms/step - loss: 18.9498 - mae: 18.9498\n",
            "Epoch 230/500\n",
            "2/2 [==============================] - 0s 7ms/step - loss: 15.3734 - mae: 15.3734\n",
            "Epoch 231/500\n",
            "2/2 [==============================] - 0s 4ms/step - loss: 22.2855 - mae: 22.2855\n",
            "Epoch 232/500\n",
            "2/2 [==============================] - 0s 5ms/step - loss: 25.6766 - mae: 25.6766\n",
            "Epoch 233/500\n",
            "2/2 [==============================] - 0s 4ms/step - loss: 15.8456 - mae: 15.8456\n",
            "Epoch 234/500\n",
            "2/2 [==============================] - 0s 6ms/step - loss: 7.1198 - mae: 7.1198\n",
            "Epoch 235/500\n",
            "2/2 [==============================] - 0s 4ms/step - loss: 16.5359 - mae: 16.5359\n",
            "Epoch 236/500\n",
            "2/2 [==============================] - 0s 7ms/step - loss: 6.8411 - mae: 6.8411\n",
            "Epoch 237/500\n",
            "2/2 [==============================] - 0s 4ms/step - loss: 8.4978 - mae: 8.4978\n",
            "Epoch 238/500\n",
            "2/2 [==============================] - 0s 6ms/step - loss: 7.6219 - mae: 7.6219\n",
            "Epoch 239/500\n",
            "2/2 [==============================] - 0s 6ms/step - loss: 16.6738 - mae: 16.6738\n",
            "Epoch 240/500\n",
            "2/2 [==============================] - 0s 7ms/step - loss: 8.1090 - mae: 8.1090\n",
            "Epoch 241/500\n",
            "2/2 [==============================] - 0s 6ms/step - loss: 12.2173 - mae: 12.2173\n",
            "Epoch 242/500\n",
            "2/2 [==============================] - 0s 6ms/step - loss: 8.4286 - mae: 8.4286\n",
            "Epoch 243/500\n",
            "2/2 [==============================] - 0s 9ms/step - loss: 19.0474 - mae: 19.0474\n",
            "Epoch 244/500\n",
            "2/2 [==============================] - 0s 5ms/step - loss: 13.8906 - mae: 13.8906\n",
            "Epoch 245/500\n",
            "2/2 [==============================] - 0s 6ms/step - loss: 14.9766 - mae: 14.9766\n",
            "Epoch 246/500\n",
            "2/2 [==============================] - 0s 5ms/step - loss: 16.5221 - mae: 16.5221\n",
            "Epoch 247/500\n",
            "2/2 [==============================] - 0s 7ms/step - loss: 18.3671 - mae: 18.3671\n",
            "Epoch 248/500\n",
            "2/2 [==============================] - 0s 7ms/step - loss: 12.7968 - mae: 12.7968\n",
            "Epoch 249/500\n",
            "2/2 [==============================] - 0s 5ms/step - loss: 14.6663 - mae: 14.6663\n",
            "Epoch 250/500\n",
            "2/2 [==============================] - 0s 5ms/step - loss: 24.6626 - mae: 24.6626\n",
            "Epoch 251/500\n",
            "2/2 [==============================] - 0s 6ms/step - loss: 8.8291 - mae: 8.8291\n",
            "Epoch 252/500\n",
            "2/2 [==============================] - 0s 4ms/step - loss: 38.5683 - mae: 38.5683\n",
            "Epoch 253/500\n",
            "2/2 [==============================] - 0s 5ms/step - loss: 21.8404 - mae: 21.8404\n",
            "Epoch 254/500\n",
            "2/2 [==============================] - 0s 6ms/step - loss: 6.6485 - mae: 6.6485\n",
            "Epoch 255/500\n",
            "2/2 [==============================] - 0s 7ms/step - loss: 24.9959 - mae: 24.9959\n",
            "Epoch 256/500\n",
            "2/2 [==============================] - 0s 12ms/step - loss: 11.5965 - mae: 11.5965\n",
            "Epoch 257/500\n",
            "2/2 [==============================] - 0s 8ms/step - loss: 10.0635 - mae: 10.0635\n",
            "Epoch 258/500\n",
            "2/2 [==============================] - 0s 4ms/step - loss: 13.8021 - mae: 13.8021\n",
            "Epoch 259/500\n",
            "2/2 [==============================] - 0s 5ms/step - loss: 8.3765 - mae: 8.3765\n",
            "Epoch 260/500\n",
            "2/2 [==============================] - 0s 7ms/step - loss: 45.7482 - mae: 45.7482\n",
            "Epoch 261/500\n",
            "2/2 [==============================] - 0s 4ms/step - loss: 18.1356 - mae: 18.1356\n",
            "Epoch 262/500\n",
            "2/2 [==============================] - 0s 7ms/step - loss: 6.3169 - mae: 6.3169\n",
            "Epoch 263/500\n",
            "2/2 [==============================] - 0s 7ms/step - loss: 13.7268 - mae: 13.7268\n",
            "Epoch 264/500\n",
            "2/2 [==============================] - 0s 4ms/step - loss: 22.1387 - mae: 22.1387\n",
            "Epoch 265/500\n",
            "2/2 [==============================] - 0s 6ms/step - loss: 19.3151 - mae: 19.3151\n",
            "Epoch 266/500\n",
            "2/2 [==============================] - 0s 6ms/step - loss: 10.9408 - mae: 10.9408\n",
            "Epoch 267/500\n",
            "2/2 [==============================] - 0s 5ms/step - loss: 6.7507 - mae: 6.7507\n",
            "Epoch 268/500\n",
            "2/2 [==============================] - 0s 7ms/step - loss: 22.1636 - mae: 22.1636\n",
            "Epoch 269/500\n",
            "2/2 [==============================] - 0s 6ms/step - loss: 34.7302 - mae: 34.7302\n",
            "Epoch 270/500\n",
            "2/2 [==============================] - 0s 6ms/step - loss: 9.6729 - mae: 9.6729\n",
            "Epoch 271/500\n",
            "2/2 [==============================] - 0s 9ms/step - loss: 10.5267 - mae: 10.5267\n",
            "Epoch 272/500\n",
            "2/2 [==============================] - 0s 5ms/step - loss: 26.9760 - mae: 26.9760\n",
            "Epoch 273/500\n",
            "2/2 [==============================] - 0s 5ms/step - loss: 11.6137 - mae: 11.6137\n",
            "Epoch 274/500\n",
            "2/2 [==============================] - 0s 4ms/step - loss: 12.0721 - mae: 12.0721\n",
            "Epoch 275/500\n",
            "2/2 [==============================] - 0s 7ms/step - loss: 30.5160 - mae: 30.5160\n",
            "Epoch 276/500\n",
            "2/2 [==============================] - 0s 5ms/step - loss: 6.5488 - mae: 6.5488\n",
            "Epoch 277/500\n",
            "2/2 [==============================] - 0s 6ms/step - loss: 31.9636 - mae: 31.9636\n",
            "Epoch 278/500\n",
            "2/2 [==============================] - 0s 8ms/step - loss: 11.5564 - mae: 11.5564\n",
            "Epoch 279/500\n",
            "2/2 [==============================] - 0s 7ms/step - loss: 17.3607 - mae: 17.3607\n",
            "Epoch 280/500\n",
            "2/2 [==============================] - 0s 9ms/step - loss: 23.1189 - mae: 23.1189\n",
            "Epoch 281/500\n",
            "2/2 [==============================] - 0s 5ms/step - loss: 22.5078 - mae: 22.5078\n",
            "Epoch 282/500\n",
            "2/2 [==============================] - 0s 7ms/step - loss: 7.2141 - mae: 7.2141\n",
            "Epoch 283/500\n",
            "2/2 [==============================] - 0s 4ms/step - loss: 7.7725 - mae: 7.7725\n",
            "Epoch 284/500\n",
            "2/2 [==============================] - 0s 10ms/step - loss: 25.4832 - mae: 25.4832\n",
            "Epoch 285/500\n",
            "2/2 [==============================] - 0s 4ms/step - loss: 13.3877 - mae: 13.3877\n",
            "Epoch 286/500\n",
            "2/2 [==============================] - 0s 5ms/step - loss: 6.2528 - mae: 6.2528\n",
            "Epoch 287/500\n",
            "2/2 [==============================] - 0s 18ms/step - loss: 25.2020 - mae: 25.2020\n",
            "Epoch 288/500\n",
            "2/2 [==============================] - 0s 11ms/step - loss: 20.5697 - mae: 20.5697\n",
            "Epoch 289/500\n",
            "2/2 [==============================] - 0s 4ms/step - loss: 11.0907 - mae: 11.0907\n",
            "Epoch 290/500\n",
            "2/2 [==============================] - 0s 4ms/step - loss: 17.0029 - mae: 17.0029\n",
            "Epoch 291/500\n",
            "2/2 [==============================] - 0s 5ms/step - loss: 17.6342 - mae: 17.6342\n",
            "Epoch 292/500\n",
            "2/2 [==============================] - 0s 7ms/step - loss: 8.1010 - mae: 8.1010\n",
            "Epoch 293/500\n",
            "2/2 [==============================] - 0s 8ms/step - loss: 15.5974 - mae: 15.5974\n",
            "Epoch 294/500\n",
            "2/2 [==============================] - 0s 4ms/step - loss: 24.0056 - mae: 24.0056\n",
            "Epoch 295/500\n",
            "2/2 [==============================] - 0s 4ms/step - loss: 17.6288 - mae: 17.6288\n",
            "Epoch 296/500\n",
            "2/2 [==============================] - 0s 5ms/step - loss: 5.7207 - mae: 5.7207\n",
            "Epoch 297/500\n",
            "2/2 [==============================] - 0s 5ms/step - loss: 9.5090 - mae: 9.5090\n",
            "Epoch 298/500\n",
            "2/2 [==============================] - 0s 8ms/step - loss: 24.2070 - mae: 24.2070\n",
            "Epoch 299/500\n",
            "2/2 [==============================] - 0s 17ms/step - loss: 17.5093 - mae: 17.5093\n",
            "Epoch 300/500\n",
            "2/2 [==============================] - 0s 19ms/step - loss: 6.9937 - mae: 6.9937\n",
            "Epoch 301/500\n",
            "2/2 [==============================] - 0s 7ms/step - loss: 25.4316 - mae: 25.4316\n",
            "Epoch 302/500\n",
            "2/2 [==============================] - 0s 4ms/step - loss: 8.5327 - mae: 8.5327\n",
            "Epoch 303/500\n",
            "2/2 [==============================] - 0s 4ms/step - loss: 17.2889 - mae: 17.2889\n",
            "Epoch 304/500\n",
            "2/2 [==============================] - 0s 5ms/step - loss: 10.1101 - mae: 10.1101\n",
            "Epoch 305/500\n",
            "2/2 [==============================] - 0s 7ms/step - loss: 12.0683 - mae: 12.0683\n",
            "Epoch 306/500\n",
            "2/2 [==============================] - 0s 14ms/step - loss: 7.9177 - mae: 7.9177\n",
            "Epoch 307/500\n",
            "2/2 [==============================] - 0s 7ms/step - loss: 12.7052 - mae: 12.7052\n",
            "Epoch 308/500\n",
            "2/2 [==============================] - 0s 5ms/step - loss: 6.9439 - mae: 6.9439\n",
            "Epoch 309/500\n",
            "2/2 [==============================] - 0s 6ms/step - loss: 8.8822 - mae: 8.8822\n",
            "Epoch 310/500\n",
            "2/2 [==============================] - 0s 7ms/step - loss: 10.3575 - mae: 10.3575\n",
            "Epoch 311/500\n",
            "2/2 [==============================] - 0s 12ms/step - loss: 12.4583 - mae: 12.4583\n",
            "Epoch 312/500\n",
            "2/2 [==============================] - 0s 12ms/step - loss: 30.1003 - mae: 30.1003\n",
            "Epoch 313/500\n",
            "2/2 [==============================] - 0s 6ms/step - loss: 6.8146 - mae: 6.8146\n",
            "Epoch 314/500\n",
            "2/2 [==============================] - 0s 5ms/step - loss: 8.5820 - mae: 8.5820\n",
            "Epoch 315/500\n",
            "2/2 [==============================] - 0s 5ms/step - loss: 24.8169 - mae: 24.8169\n",
            "Epoch 316/500\n",
            "2/2 [==============================] - 0s 4ms/step - loss: 15.7743 - mae: 15.7743\n",
            "Epoch 317/500\n",
            "2/2 [==============================] - 0s 5ms/step - loss: 20.6639 - mae: 20.6639\n",
            "Epoch 318/500\n",
            "2/2 [==============================] - 0s 11ms/step - loss: 7.6411 - mae: 7.6411\n",
            "Epoch 319/500\n",
            "2/2 [==============================] - 0s 15ms/step - loss: 17.5017 - mae: 17.5017\n",
            "Epoch 320/500\n",
            "2/2 [==============================] - 0s 6ms/step - loss: 9.6369 - mae: 9.6369\n",
            "Epoch 321/500\n",
            "2/2 [==============================] - 0s 6ms/step - loss: 7.6257 - mae: 7.6257\n",
            "Epoch 322/500\n",
            "2/2 [==============================] - 0s 10ms/step - loss: 4.7523 - mae: 4.7523\n",
            "Epoch 323/500\n",
            "2/2 [==============================] - 0s 7ms/step - loss: 23.8769 - mae: 23.8769\n",
            "Epoch 324/500\n",
            "2/2 [==============================] - 0s 8ms/step - loss: 6.5827 - mae: 6.5827\n",
            "Epoch 325/500\n",
            "2/2 [==============================] - 0s 5ms/step - loss: 15.7011 - mae: 15.7011\n",
            "Epoch 326/500\n",
            "2/2 [==============================] - 0s 6ms/step - loss: 7.0888 - mae: 7.0888\n",
            "Epoch 327/500\n",
            "2/2 [==============================] - 0s 17ms/step - loss: 20.2157 - mae: 20.2157\n",
            "Epoch 328/500\n",
            "2/2 [==============================] - 0s 9ms/step - loss: 13.8279 - mae: 13.8279\n",
            "Epoch 329/500\n",
            "2/2 [==============================] - 0s 15ms/step - loss: 17.7642 - mae: 17.7642\n",
            "Epoch 330/500\n",
            "2/2 [==============================] - 0s 5ms/step - loss: 6.3600 - mae: 6.3600\n",
            "Epoch 331/500\n",
            "2/2 [==============================] - 0s 7ms/step - loss: 21.7519 - mae: 21.7519\n",
            "Epoch 332/500\n",
            "2/2 [==============================] - 0s 5ms/step - loss: 11.2420 - mae: 11.2420\n",
            "Epoch 333/500\n",
            "2/2 [==============================] - 0s 5ms/step - loss: 11.1790 - mae: 11.1790\n",
            "Epoch 334/500\n",
            "2/2 [==============================] - 0s 5ms/step - loss: 7.5349 - mae: 7.5349\n",
            "Epoch 335/500\n",
            "2/2 [==============================] - 0s 6ms/step - loss: 11.1596 - mae: 11.1596\n",
            "Epoch 336/500\n",
            "2/2 [==============================] - 0s 6ms/step - loss: 32.2226 - mae: 32.2226\n",
            "Epoch 337/500\n",
            "2/2 [==============================] - 0s 8ms/step - loss: 9.5676 - mae: 9.5676\n",
            "Epoch 338/500\n",
            "2/2 [==============================] - 0s 5ms/step - loss: 20.4626 - mae: 20.4626\n",
            "Epoch 339/500\n",
            "2/2 [==============================] - 0s 4ms/step - loss: 36.5697 - mae: 36.5697\n",
            "Epoch 340/500\n",
            "2/2 [==============================] - 0s 5ms/step - loss: 9.4412 - mae: 9.4412\n",
            "Epoch 341/500\n",
            "2/2 [==============================] - 0s 4ms/step - loss: 9.2981 - mae: 9.2981\n",
            "Epoch 342/500\n",
            "2/2 [==============================] - 0s 4ms/step - loss: 11.7808 - mae: 11.7808\n",
            "Epoch 343/500\n",
            "2/2 [==============================] - 0s 4ms/step - loss: 8.6574 - mae: 8.6574\n",
            "Epoch 344/500\n",
            "2/2 [==============================] - 0s 5ms/step - loss: 5.2876 - mae: 5.2876\n",
            "Epoch 345/500\n",
            "2/2 [==============================] - 0s 11ms/step - loss: 39.5019 - mae: 39.5019\n",
            "Epoch 346/500\n",
            "2/2 [==============================] - 0s 11ms/step - loss: 16.1694 - mae: 16.1694\n",
            "Epoch 347/500\n",
            "2/2 [==============================] - 0s 26ms/step - loss: 12.1609 - mae: 12.1609\n",
            "Epoch 348/500\n",
            "2/2 [==============================] - 0s 5ms/step - loss: 7.1087 - mae: 7.1087\n",
            "Epoch 349/500\n",
            "2/2 [==============================] - 0s 12ms/step - loss: 12.9491 - mae: 12.9491\n",
            "Epoch 350/500\n",
            "2/2 [==============================] - 0s 5ms/step - loss: 16.1665 - mae: 16.1665\n",
            "Epoch 351/500\n",
            "2/2 [==============================] - 0s 7ms/step - loss: 34.0546 - mae: 34.0546\n",
            "Epoch 352/500\n",
            "2/2 [==============================] - 0s 7ms/step - loss: 14.2398 - mae: 14.2398\n",
            "Epoch 353/500\n",
            "2/2 [==============================] - 0s 7ms/step - loss: 16.6958 - mae: 16.6958\n",
            "Epoch 354/500\n",
            "2/2 [==============================] - 0s 5ms/step - loss: 19.8495 - mae: 19.8495\n",
            "Epoch 355/500\n",
            "2/2 [==============================] - 0s 6ms/step - loss: 35.6263 - mae: 35.6263\n",
            "Epoch 356/500\n",
            "2/2 [==============================] - 0s 7ms/step - loss: 7.3612 - mae: 7.3612\n",
            "Epoch 357/500\n",
            "2/2 [==============================] - 0s 5ms/step - loss: 25.8732 - mae: 25.8732\n",
            "Epoch 358/500\n",
            "2/2 [==============================] - 0s 5ms/step - loss: 23.0121 - mae: 23.0121\n",
            "Epoch 359/500\n",
            "2/2 [==============================] - 0s 5ms/step - loss: 7.5922 - mae: 7.5922\n",
            "Epoch 360/500\n",
            "2/2 [==============================] - 0s 14ms/step - loss: 22.7494 - mae: 22.7494\n",
            "Epoch 361/500\n",
            "2/2 [==============================] - 0s 4ms/step - loss: 20.6563 - mae: 20.6563\n",
            "Epoch 362/500\n",
            "2/2 [==============================] - 0s 8ms/step - loss: 6.4755 - mae: 6.4755\n",
            "Epoch 363/500\n",
            "2/2 [==============================] - 0s 5ms/step - loss: 26.4405 - mae: 26.4405\n",
            "Epoch 364/500\n",
            "2/2 [==============================] - 0s 10ms/step - loss: 33.4598 - mae: 33.4598\n",
            "Epoch 365/500\n",
            "2/2 [==============================] - 0s 6ms/step - loss: 9.3624 - mae: 9.3624\n",
            "Epoch 366/500\n",
            "2/2 [==============================] - 0s 6ms/step - loss: 8.1176 - mae: 8.1176\n",
            "Epoch 367/500\n",
            "2/2 [==============================] - 0s 11ms/step - loss: 31.5796 - mae: 31.5796\n",
            "Epoch 368/500\n",
            "2/2 [==============================] - 0s 4ms/step - loss: 9.3113 - mae: 9.3113\n",
            "Epoch 369/500\n",
            "2/2 [==============================] - 0s 3ms/step - loss: 15.4732 - mae: 15.4732\n",
            "Epoch 370/500\n",
            "2/2 [==============================] - 0s 3ms/step - loss: 15.1064 - mae: 15.1064\n",
            "Epoch 371/500\n",
            "2/2 [==============================] - 0s 6ms/step - loss: 24.6474 - mae: 24.6474\n",
            "Epoch 372/500\n",
            "2/2 [==============================] - 0s 4ms/step - loss: 12.0766 - mae: 12.0766\n",
            "Epoch 373/500\n",
            "2/2 [==============================] - 0s 10ms/step - loss: 8.6626 - mae: 8.6626\n",
            "Epoch 374/500\n",
            "2/2 [==============================] - 0s 15ms/step - loss: 8.5077 - mae: 8.5077\n",
            "Epoch 375/500\n",
            "2/2 [==============================] - 0s 9ms/step - loss: 12.7401 - mae: 12.7401\n",
            "Epoch 376/500\n",
            "2/2 [==============================] - 0s 11ms/step - loss: 15.4849 - mae: 15.4849\n",
            "Epoch 377/500\n",
            "2/2 [==============================] - 0s 5ms/step - loss: 14.3770 - mae: 14.3770\n",
            "Epoch 378/500\n",
            "2/2 [==============================] - 0s 5ms/step - loss: 17.3350 - mae: 17.3350\n",
            "Epoch 379/500\n",
            "2/2 [==============================] - 0s 4ms/step - loss: 21.5410 - mae: 21.5410\n",
            "Epoch 380/500\n",
            "2/2 [==============================] - 0s 6ms/step - loss: 35.0745 - mae: 35.0745\n",
            "Epoch 381/500\n",
            "2/2 [==============================] - 0s 7ms/step - loss: 7.6949 - mae: 7.6949\n",
            "Epoch 382/500\n",
            "2/2 [==============================] - 0s 14ms/step - loss: 12.5581 - mae: 12.5581\n",
            "Epoch 383/500\n",
            "2/2 [==============================] - 0s 7ms/step - loss: 7.7018 - mae: 7.7018\n",
            "Epoch 384/500\n",
            "2/2 [==============================] - 0s 5ms/step - loss: 6.5894 - mae: 6.5894\n",
            "Epoch 385/500\n",
            "2/2 [==============================] - 0s 6ms/step - loss: 9.5069 - mae: 9.5069\n",
            "Epoch 386/500\n",
            "2/2 [==============================] - 0s 4ms/step - loss: 21.0157 - mae: 21.0157\n",
            "Epoch 387/500\n",
            "2/2 [==============================] - 0s 8ms/step - loss: 25.3279 - mae: 25.3279\n",
            "Epoch 388/500\n",
            "2/2 [==============================] - 0s 7ms/step - loss: 8.1201 - mae: 8.1201\n",
            "Epoch 389/500\n",
            "2/2 [==============================] - 0s 7ms/step - loss: 5.9262 - mae: 5.9262\n",
            "Epoch 390/500\n",
            "2/2 [==============================] - 0s 9ms/step - loss: 24.9399 - mae: 24.9399\n",
            "Epoch 391/500\n",
            "2/2 [==============================] - 0s 6ms/step - loss: 5.3383 - mae: 5.3383\n",
            "Epoch 392/500\n",
            "2/2 [==============================] - 0s 4ms/step - loss: 15.4748 - mae: 15.4748\n",
            "Epoch 393/500\n",
            "2/2 [==============================] - 0s 5ms/step - loss: 5.3155 - mae: 5.3155\n",
            "Epoch 394/500\n",
            "2/2 [==============================] - 0s 4ms/step - loss: 10.0902 - mae: 10.0902\n",
            "Epoch 395/500\n",
            "2/2 [==============================] - 0s 13ms/step - loss: 14.1821 - mae: 14.1821\n",
            "Epoch 396/500\n",
            "2/2 [==============================] - 0s 13ms/step - loss: 6.8618 - mae: 6.8618\n",
            "Epoch 397/500\n",
            "2/2 [==============================] - 0s 4ms/step - loss: 8.0388 - mae: 8.0388\n",
            "Epoch 398/500\n",
            "2/2 [==============================] - 0s 4ms/step - loss: 13.8073 - mae: 13.8073\n",
            "Epoch 399/500\n",
            "2/2 [==============================] - 0s 15ms/step - loss: 9.7530 - mae: 9.7530\n",
            "Epoch 400/500\n",
            "2/2 [==============================] - 0s 5ms/step - loss: 23.2993 - mae: 23.2993\n",
            "Epoch 401/500\n",
            "2/2 [==============================] - 0s 6ms/step - loss: 14.3730 - mae: 14.3730\n",
            "Epoch 402/500\n",
            "2/2 [==============================] - 0s 4ms/step - loss: 7.7284 - mae: 7.7284\n",
            "Epoch 403/500\n",
            "2/2 [==============================] - 0s 9ms/step - loss: 9.4205 - mae: 9.4205\n",
            "Epoch 404/500\n",
            "2/2 [==============================] - 0s 7ms/step - loss: 9.3544 - mae: 9.3544\n",
            "Epoch 405/500\n",
            "2/2 [==============================] - 0s 6ms/step - loss: 5.8138 - mae: 5.8138\n",
            "Epoch 406/500\n",
            "2/2 [==============================] - 0s 5ms/step - loss: 17.3152 - mae: 17.3152\n",
            "Epoch 407/500\n",
            "2/2 [==============================] - 0s 8ms/step - loss: 9.8933 - mae: 9.8933\n",
            "Epoch 408/500\n",
            "2/2 [==============================] - 0s 4ms/step - loss: 21.8613 - mae: 21.8613\n",
            "Epoch 409/500\n",
            "2/2 [==============================] - 0s 6ms/step - loss: 32.9579 - mae: 32.9579\n",
            "Epoch 410/500\n",
            "2/2 [==============================] - 0s 5ms/step - loss: 7.9618 - mae: 7.9618\n",
            "Epoch 411/500\n",
            "2/2 [==============================] - 0s 18ms/step - loss: 14.7364 - mae: 14.7364\n",
            "Epoch 412/500\n",
            "2/2 [==============================] - 0s 4ms/step - loss: 23.1980 - mae: 23.1980\n",
            "Epoch 413/500\n",
            "2/2 [==============================] - 0s 4ms/step - loss: 11.8724 - mae: 11.8724\n",
            "Epoch 414/500\n",
            "2/2 [==============================] - 0s 10ms/step - loss: 5.3169 - mae: 5.3169\n",
            "Epoch 415/500\n",
            "2/2 [==============================] - 0s 11ms/step - loss: 12.9845 - mae: 12.9845\n",
            "Epoch 416/500\n",
            "2/2 [==============================] - 0s 10ms/step - loss: 27.9657 - mae: 27.9657\n",
            "Epoch 417/500\n",
            "2/2 [==============================] - 0s 9ms/step - loss: 10.0398 - mae: 10.0398\n",
            "Epoch 418/500\n",
            "2/2 [==============================] - 0s 9ms/step - loss: 12.4292 - mae: 12.4292\n",
            "Epoch 419/500\n",
            "2/2 [==============================] - 0s 6ms/step - loss: 16.7570 - mae: 16.7570\n",
            "Epoch 420/500\n",
            "2/2 [==============================] - 0s 15ms/step - loss: 25.5950 - mae: 25.5950\n",
            "Epoch 421/500\n",
            "2/2 [==============================] - 0s 4ms/step - loss: 16.8935 - mae: 16.8935\n",
            "Epoch 422/500\n",
            "2/2 [==============================] - 0s 10ms/step - loss: 6.5194 - mae: 6.5194\n",
            "Epoch 423/500\n",
            "2/2 [==============================] - 0s 12ms/step - loss: 26.2627 - mae: 26.2627\n",
            "Epoch 424/500\n",
            "2/2 [==============================] - 0s 10ms/step - loss: 14.3894 - mae: 14.3894\n",
            "Epoch 425/500\n",
            "2/2 [==============================] - 0s 10ms/step - loss: 6.5461 - mae: 6.5461\n",
            "Epoch 426/500\n",
            "2/2 [==============================] - 0s 5ms/step - loss: 20.0221 - mae: 20.0221\n",
            "Epoch 427/500\n",
            "2/2 [==============================] - 0s 5ms/step - loss: 5.4675 - mae: 5.4675\n",
            "Epoch 428/500\n",
            "2/2 [==============================] - 0s 8ms/step - loss: 11.9020 - mae: 11.9020\n",
            "Epoch 429/500\n",
            "2/2 [==============================] - 0s 9ms/step - loss: 9.7413 - mae: 9.7413\n",
            "Epoch 430/500\n",
            "2/2 [==============================] - 0s 8ms/step - loss: 10.3967 - mae: 10.3967\n",
            "Epoch 431/500\n",
            "2/2 [==============================] - 0s 15ms/step - loss: 9.5247 - mae: 9.5247\n",
            "Epoch 432/500\n",
            "2/2 [==============================] - 0s 15ms/step - loss: 10.4026 - mae: 10.4026\n",
            "Epoch 433/500\n",
            "2/2 [==============================] - 0s 12ms/step - loss: 9.5572 - mae: 9.5572\n",
            "Epoch 434/500\n",
            "2/2 [==============================] - 0s 17ms/step - loss: 31.0641 - mae: 31.0641\n",
            "Epoch 435/500\n",
            "2/2 [==============================] - 0s 7ms/step - loss: 8.7320 - mae: 8.7320\n",
            "Epoch 436/500\n",
            "2/2 [==============================] - 0s 13ms/step - loss: 30.4039 - mae: 30.4039\n",
            "Epoch 437/500\n",
            "2/2 [==============================] - 0s 7ms/step - loss: 7.2410 - mae: 7.2410\n",
            "Epoch 438/500\n",
            "2/2 [==============================] - 0s 17ms/step - loss: 11.4983 - mae: 11.4983\n",
            "Epoch 439/500\n",
            "2/2 [==============================] - 0s 18ms/step - loss: 34.0209 - mae: 34.0209\n",
            "Epoch 440/500\n",
            "2/2 [==============================] - 0s 9ms/step - loss: 15.0207 - mae: 15.0207\n",
            "Epoch 441/500\n",
            "2/2 [==============================] - 0s 8ms/step - loss: 18.6827 - mae: 18.6827\n",
            "Epoch 442/500\n",
            "2/2 [==============================] - 0s 12ms/step - loss: 23.3211 - mae: 23.3211\n",
            "Epoch 443/500\n",
            "2/2 [==============================] - 0s 5ms/step - loss: 23.7391 - mae: 23.7391\n",
            "Epoch 444/500\n",
            "2/2 [==============================] - 0s 17ms/step - loss: 10.5044 - mae: 10.5044\n",
            "Epoch 445/500\n",
            "2/2 [==============================] - 0s 7ms/step - loss: 15.2148 - mae: 15.2148\n",
            "Epoch 446/500\n",
            "2/2 [==============================] - 0s 14ms/step - loss: 19.1407 - mae: 19.1407\n",
            "Epoch 447/500\n",
            "2/2 [==============================] - 0s 12ms/step - loss: 4.9130 - mae: 4.9130\n",
            "Epoch 448/500\n",
            "2/2 [==============================] - 0s 6ms/step - loss: 8.6091 - mae: 8.6091\n",
            "Epoch 449/500\n",
            "2/2 [==============================] - 0s 12ms/step - loss: 13.8472 - mae: 13.8472\n",
            "Epoch 450/500\n",
            "2/2 [==============================] - 0s 9ms/step - loss: 17.7478 - mae: 17.7478\n",
            "Epoch 451/500\n",
            "2/2 [==============================] - 0s 8ms/step - loss: 14.7603 - mae: 14.7603\n",
            "Epoch 452/500\n",
            "2/2 [==============================] - 0s 8ms/step - loss: 31.1154 - mae: 31.1154\n",
            "Epoch 453/500\n",
            "2/2 [==============================] - 0s 9ms/step - loss: 6.3488 - mae: 6.3488\n",
            "Epoch 454/500\n",
            "2/2 [==============================] - 0s 19ms/step - loss: 28.8322 - mae: 28.8322\n",
            "Epoch 455/500\n",
            "2/2 [==============================] - 0s 8ms/step - loss: 7.3912 - mae: 7.3912\n",
            "Epoch 456/500\n",
            "2/2 [==============================] - 0s 10ms/step - loss: 8.8416 - mae: 8.8416\n",
            "Epoch 457/500\n",
            "2/2 [==============================] - 0s 13ms/step - loss: 15.4993 - mae: 15.4993\n",
            "Epoch 458/500\n",
            "2/2 [==============================] - 0s 5ms/step - loss: 17.7243 - mae: 17.7243\n",
            "Epoch 459/500\n",
            "2/2 [==============================] - 0s 9ms/step - loss: 27.5770 - mae: 27.5770\n",
            "Epoch 460/500\n",
            "2/2 [==============================] - 0s 14ms/step - loss: 11.7501 - mae: 11.7501\n",
            "Epoch 461/500\n",
            "2/2 [==============================] - 0s 7ms/step - loss: 11.5889 - mae: 11.5889\n",
            "Epoch 462/500\n",
            "2/2 [==============================] - 0s 7ms/step - loss: 13.2257 - mae: 13.2257\n",
            "Epoch 463/500\n",
            "2/2 [==============================] - 0s 5ms/step - loss: 30.3476 - mae: 30.3476\n",
            "Epoch 464/500\n",
            "2/2 [==============================] - 0s 12ms/step - loss: 3.3242 - mae: 3.3242\n",
            "Epoch 465/500\n",
            "2/2 [==============================] - 0s 7ms/step - loss: 15.9370 - mae: 15.9370\n",
            "Epoch 466/500\n",
            "2/2 [==============================] - 0s 6ms/step - loss: 21.7724 - mae: 21.7724\n",
            "Epoch 467/500\n",
            "2/2 [==============================] - 0s 11ms/step - loss: 31.6820 - mae: 31.6820\n",
            "Epoch 468/500\n",
            "2/2 [==============================] - 0s 3ms/step - loss: 9.6243 - mae: 9.6243\n",
            "Epoch 469/500\n",
            "2/2 [==============================] - 0s 5ms/step - loss: 11.8263 - mae: 11.8263\n",
            "Epoch 470/500\n",
            "2/2 [==============================] - 0s 9ms/step - loss: 3.2032 - mae: 3.2032\n",
            "Epoch 471/500\n",
            "2/2 [==============================] - 0s 4ms/step - loss: 17.3217 - mae: 17.3217\n",
            "Epoch 472/500\n",
            "2/2 [==============================] - 0s 3ms/step - loss: 12.9616 - mae: 12.9616\n",
            "Epoch 473/500\n",
            "2/2 [==============================] - 0s 7ms/step - loss: 16.3344 - mae: 16.3344\n",
            "Epoch 474/500\n",
            "2/2 [==============================] - 0s 8ms/step - loss: 10.4298 - mae: 10.4298\n",
            "Epoch 475/500\n",
            "2/2 [==============================] - 0s 6ms/step - loss: 17.3095 - mae: 17.3095\n",
            "Epoch 476/500\n",
            "2/2 [==============================] - 0s 8ms/step - loss: 14.0110 - mae: 14.0110\n",
            "Epoch 477/500\n",
            "2/2 [==============================] - 0s 4ms/step - loss: 31.3851 - mae: 31.3851\n",
            "Epoch 478/500\n",
            "2/2 [==============================] - 0s 11ms/step - loss: 7.4666 - mae: 7.4666\n",
            "Epoch 479/500\n",
            "2/2 [==============================] - 0s 12ms/step - loss: 9.3610 - mae: 9.3610\n",
            "Epoch 480/500\n",
            "2/2 [==============================] - 0s 6ms/step - loss: 19.0261 - mae: 19.0261\n",
            "Epoch 481/500\n",
            "2/2 [==============================] - 0s 13ms/step - loss: 16.5661 - mae: 16.5661\n",
            "Epoch 482/500\n",
            "2/2 [==============================] - 0s 11ms/step - loss: 22.2981 - mae: 22.2981\n",
            "Epoch 483/500\n",
            "2/2 [==============================] - 0s 13ms/step - loss: 25.8888 - mae: 25.8888\n",
            "Epoch 484/500\n",
            "2/2 [==============================] - 0s 9ms/step - loss: 24.0995 - mae: 24.0995\n",
            "Epoch 485/500\n",
            "2/2 [==============================] - 0s 9ms/step - loss: 5.2883 - mae: 5.2883\n",
            "Epoch 486/500\n",
            "2/2 [==============================] - 0s 5ms/step - loss: 20.4084 - mae: 20.4084\n",
            "Epoch 487/500\n",
            "2/2 [==============================] - 0s 10ms/step - loss: 14.3825 - mae: 14.3825\n",
            "Epoch 488/500\n",
            "2/2 [==============================] - 0s 9ms/step - loss: 32.0213 - mae: 32.0213\n",
            "Epoch 489/500\n",
            "2/2 [==============================] - 0s 7ms/step - loss: 11.1841 - mae: 11.1841\n",
            "Epoch 490/500\n",
            "2/2 [==============================] - 0s 6ms/step - loss: 11.9448 - mae: 11.9448\n",
            "Epoch 491/500\n",
            "2/2 [==============================] - 0s 11ms/step - loss: 24.6860 - mae: 24.6860\n",
            "Epoch 492/500\n",
            "2/2 [==============================] - 0s 19ms/step - loss: 20.3409 - mae: 20.3409\n",
            "Epoch 493/500\n",
            "2/2 [==============================] - 0s 6ms/step - loss: 4.5806 - mae: 4.5806\n",
            "Epoch 494/500\n",
            "2/2 [==============================] - 0s 4ms/step - loss: 12.1887 - mae: 12.1887\n",
            "Epoch 495/500\n",
            "2/2 [==============================] - 0s 10ms/step - loss: 13.4238 - mae: 13.4238\n",
            "Epoch 496/500\n",
            "2/2 [==============================] - 0s 11ms/step - loss: 12.0397 - mae: 12.0397\n",
            "Epoch 497/500\n",
            "2/2 [==============================] - 0s 8ms/step - loss: 18.8880 - mae: 18.8880\n",
            "Epoch 498/500\n",
            "2/2 [==============================] - 0s 22ms/step - loss: 23.8076 - mae: 23.8076\n",
            "Epoch 499/500\n",
            "2/2 [==============================] - 0s 5ms/step - loss: 8.9942 - mae: 8.9942\n",
            "Epoch 500/500\n",
            "2/2 [==============================] - 0s 6ms/step - loss: 15.1579 - mae: 15.1579\n"
          ],
          "name": "stdout"
        },
        {
          "output_type": "execute_result",
          "data": {
            "text/plain": [
              "<tensorflow.python.keras.callbacks.History at 0x7f4bbc2bea50>"
            ]
          },
          "metadata": {
            "tags": []
          },
          "execution_count": 38
        }
      ]
    },
    {
      "cell_type": "code",
      "metadata": {
        "colab": {
          "base_uri": "https://localhost:8080/",
          "height": 465
        },
        "id": "q1Y8CvQlPTnL",
        "outputId": "1785488e-7e27-4b19-dda0-2721a82ee709"
      },
      "source": [
        "y_preds_3 = model_3.predict(X_test)\n",
        "plot_predictions(prediction=y_preds_3)"
      ],
      "execution_count": null,
      "outputs": [
        {
          "output_type": "stream",
          "text": [
            "WARNING:tensorflow:7 out of the last 7 calls to <function Model.make_predict_function.<locals>.predict_function at 0x7f4bbc2c3170> triggered tf.function retracing. Tracing is expensive and the excessive number of tracings could be due to (1) creating @tf.function repeatedly in a loop, (2) passing tensors with different shapes, (3) passing Python objects instead of tensors. For (1), please define your @tf.function outside of the loop. For (2), @tf.function has experimental_relax_shapes=True option that relaxes argument shapes that can avoid unnecessary retracing. For (3), please refer to https://www.tensorflow.org/guide/function#controlling_retracing and https://www.tensorflow.org/api_docs/python/tf/function for  more details.\n"
          ],
          "name": "stdout"
        },
        {
          "output_type": "display_data",
          "data": {
            "image/png": "[encoded data removed]",
            "text/plain": [
              "<Figure size 720x504 with 1 Axes>"
            ]
          },
          "metadata": {
            "tags": [],
            "needs_background": "light"
          }
        }
      ]
    },
    {
      "cell_type": "code",
      "metadata": {
        "colab": {
          "base_uri": "https://localhost:8080/"
        },
        "id": "ygNsawf0Pqab",
        "outputId": "d66d16c4-97c4-42d4-863c-b2482baea69e"
      },
      "source": [
        "mae_3 = mae(y_test,y_preds_3)\n",
        "mse_3 = mse(y_test,y_preds_3)\n",
        "mae_3, mse_3"
      ],
      "execution_count": null,
      "outputs": [
        {
          "output_type": "execute_result",
          "data": {
            "text/plain": [
              "(<tf.Tensor: shape=(), dtype=float32, numpy=68.713615>,\n",
              " <tf.Tensor: shape=(), dtype=float32, numpy=4808.0273>)"
            ]
          },
          "metadata": {
            "tags": []
          },
          "execution_count": 40
        }
      ]
    },
    {
      "cell_type": "markdown",
      "metadata": {
        "id": "9v2umblkQ3KF"
      },
      "source": [
        "##Comparing results of experiment"
      ]
    },
    {
      "cell_type": "code",
      "metadata": {
        "colab": {
          "base_uri": "https://localhost:8080/",
          "height": 136
        },
        "id": "foSgC3mtQ9ZL",
        "outputId": "63af38f2-cd17-4eca-eabd-905df47687a7"
      },
      "source": [
        "import pandas as pd\n",
        "\n",
        "models_results = [['model_1',mae_1.numpy(),mse_1.numpy()],\n",
        "                  ['model_2',mae_2.numpy(),mse_2.numpy()],\n",
        "                  ['model_3',mae_3.numpy(),mse_3.numpy()]]\n",
        "\n",
        "all_results = pd.DataFrame(models_results, columns=['models','mae','mse'])\n",
        "all_results"
      ],
      "execution_count": null,
      "outputs": [
        {
          "output_type": "execute_result",
          "data": {
            "text/html": [
              "<div>\n",
              "<style scoped>\n",
              "    .dataframe tbody tr th:only-of-type {\n",
              "        vertical-align: middle;\n",
              "    }\n",
              "\n",
              "    .dataframe tbody tr th {\n",
              "        vertical-align: top;\n",
              "    }\n",
              "\n",
              "    .dataframe thead th {\n",
              "        text-align: right;\n",
              "    }\n",
              "</style>\n",
              "<table border=\"1\" class=\"dataframe\">\n",
              "  <thead>\n",
              "    <tr style=\"text-align: right;\">\n",
              "      <th></th>\n",
              "      <th>models</th>\n",
              "      <th>mae</th>\n",
              "      <th>mse</th>\n",
              "    </tr>\n",
              "  </thead>\n",
              "  <tbody>\n",
              "    <tr>\n",
              "      <th>0</th>\n",
              "      <td>model_1</td>\n",
              "      <td>18.745327</td>\n",
              "      <td>353.573364</td>\n",
              "    </tr>\n",
              "    <tr>\n",
              "      <th>1</th>\n",
              "      <td>model_2</td>\n",
              "      <td>3.196941</td>\n",
              "      <td>13.070143</td>\n",
              "    </tr>\n",
              "    <tr>\n",
              "      <th>2</th>\n",
              "      <td>model_3</td>\n",
              "      <td>68.713615</td>\n",
              "      <td>4808.027344</td>\n",
              "    </tr>\n",
              "  </tbody>\n",
              "</table>\n",
              "</div>"
            ],
            "text/plain": [
              "    models        mae          mse\n",
              "0  model_1  18.745327   353.573364\n",
              "1  model_2   3.196941    13.070143\n",
              "2  model_3  68.713615  4808.027344"
            ]
          },
          "metadata": {
            "tags": []
          },
          "execution_count": 41
        }
      ]
    },
    {
      "cell_type": "markdown",
      "metadata": {
        "id": "n29fP3O0OTM2"
      },
      "source": [
        "##Save Models"
      ]
    },
    {
      "cell_type": "code",
      "metadata": {
        "id": "LrvbIViPR7Uw",
        "colab": {
          "base_uri": "https://localhost:8080/"
        },
        "outputId": "44b1e0e7-b040-4866-9349-5d4601255138"
      },
      "source": [
        "# In SavedModel format\n",
        "model_2.save('best_model_savedModel_format')"
      ],
      "execution_count": null,
      "outputs": [
        {
          "output_type": "stream",
          "text": [
            "INFO:tensorflow:Assets written to: best_model_savedModel_format/assets\n"
          ],
          "name": "stdout"
        }
      ]
    },
    {
      "cell_type": "code",
      "metadata": {
        "id": "1iTH_u3xLI-Z"
      },
      "source": [
        "# In HDF5 format\n",
        "model_2.save('best_model_HDF5_format.h5')"
      ],
      "execution_count": null,
      "outputs": []
    },
    {
      "cell_type": "code",
      "metadata": {
        "colab": {
          "base_uri": "https://localhost:8080/"
        },
        "id": "LAgrnoXhLyBZ",
        "outputId": "dd40e636-b370-4149-fcdb-de1e01c1f1b0"
      },
      "source": [
        "loaded_savedFormat_model = tf.keras.models.load_model('/content/best_model_savedModel_format')\n",
        "loaded_savedFormat_model.summary()"
      ],
      "execution_count": null,
      "outputs": [
        {
          "output_type": "stream",
          "text": [
            "Model: \"sequential_6\"\n",
            "_________________________________________________________________\n",
            "Layer (type)                 Output Shape              Param #   \n",
            "=================================================================\n",
            "dense_9 (Dense)              (None, 10)                20        \n",
            "_________________________________________________________________\n",
            "dense_10 (Dense)             (None, 1)                 11        \n",
            "=================================================================\n",
            "Total params: 31\n",
            "Trainable params: 31\n",
            "Non-trainable params: 0\n",
            "_________________________________________________________________\n"
          ],
          "name": "stdout"
        }
      ]
    },
    {
      "cell_type": "code",
      "metadata": {
        "colab": {
          "base_uri": "https://localhost:8080/"
        },
        "id": "uguN8AolN1jK",
        "outputId": "9be1421b-d1f6-463d-ca4d-3630db171a17"
      },
      "source": [
        "loaded_h5_model = tf.keras.models.load_model('/content/best_model_HDF5_format.h5')\n",
        "loaded_h5_model.summary()"
      ],
      "execution_count": null,
      "outputs": [
        {
          "output_type": "stream",
          "text": [
            "Model: \"sequential_6\"\n",
            "_________________________________________________________________\n",
            "Layer (type)                 Output Shape              Param #   \n",
            "=================================================================\n",
            "dense_9 (Dense)              (None, 10)                20        \n",
            "_________________________________________________________________\n",
            "dense_10 (Dense)             (None, 1)                 11        \n",
            "=================================================================\n",
            "Total params: 31\n",
            "Trainable params: 31\n",
            "Non-trainable params: 0\n",
            "_________________________________________________________________\n"
          ],
          "name": "stdout"
        }
      ]
    },
    {
      "cell_type": "markdown",
      "metadata": {
        "id": "PMbHTqEgO7Xv"
      },
      "source": [
        "##Larger Example"
      ]
    },
    {
      "cell_type": "code",
      "metadata": {
        "id": "Gwr-pHUwa3_V"
      },
      "source": [
        "import tensorflow as tf\n",
        "import numpy as np\n",
        "import pandas as pd\n",
        "import matplotlib.pyplot as plt\n"
      ],
      "execution_count": null,
      "outputs": []
    },
    {
      "cell_type": "code",
      "metadata": {
        "colab": {
          "base_uri": "https://localhost:8080/",
          "height": 402
        },
        "id": "PcDUrTBtbAM0",
        "outputId": "07f391d4-13ef-41b1-e141-344afb2c84d6"
      },
      "source": [
        "insurance = pd.read_csv('https://raw.githubusercontent.com/stedy/Machine-Learning-with-R-datasets/master/insurance.csv')\n",
        "insurance"
      ],
      "execution_count": null,
      "outputs": [
        {
          "output_type": "execute_result",
          "data": {
            "text/html": [
              "<div>\n",
              "<style scoped>\n",
              "    .dataframe tbody tr th:only-of-type {\n",
              "        vertical-align: middle;\n",
              "    }\n",
              "\n",
              "    .dataframe tbody tr th {\n",
              "        vertical-align: top;\n",
              "    }\n",
              "\n",
              "    .dataframe thead th {\n",
              "        text-align: right;\n",
              "    }\n",
              "</style>\n",
              "<table border=\"1\" class=\"dataframe\">\n",
              "  <thead>\n",
              "    <tr style=\"text-align: right;\">\n",
              "      <th></th>\n",
              "      <th>age</th>\n",
              "      <th>sex</th>\n",
              "      <th>bmi</th>\n",
              "      <th>children</th>\n",
              "      <th>smoker</th>\n",
              "      <th>region</th>\n",
              "      <th>charges</th>\n",
              "    </tr>\n",
              "  </thead>\n",
              "  <tbody>\n",
              "    <tr>\n",
              "      <th>0</th>\n",
              "      <td>19</td>\n",
              "      <td>female</td>\n",
              "      <td>27.900</td>\n",
              "      <td>0</td>\n",
              "      <td>yes</td>\n",
              "      <td>southwest</td>\n",
              "      <td>16884.92400</td>\n",
              "    </tr>\n",
              "    <tr>\n",
              "      <th>1</th>\n",
              "      <td>18</td>\n",
              "      <td>male</td>\n",
              "      <td>33.770</td>\n",
              "      <td>1</td>\n",
              "      <td>no</td>\n",
              "      <td>southeast</td>\n",
              "      <td>1725.55230</td>\n",
              "    </tr>\n",
              "    <tr>\n",
              "      <th>2</th>\n",
              "      <td>28</td>\n",
              "      <td>male</td>\n",
              "      <td>33.000</td>\n",
              "      <td>3</td>\n",
              "      <td>no</td>\n",
              "      <td>southeast</td>\n",
              "      <td>4449.46200</td>\n",
              "    </tr>\n",
              "    <tr>\n",
              "      <th>3</th>\n",
              "      <td>33</td>\n",
              "      <td>male</td>\n",
              "      <td>22.705</td>\n",
              "      <td>0</td>\n",
              "      <td>no</td>\n",
              "      <td>northwest</td>\n",
              "      <td>21984.47061</td>\n",
              "    </tr>\n",
              "    <tr>\n",
              "      <th>4</th>\n",
              "      <td>32</td>\n",
              "      <td>male</td>\n",
              "      <td>28.880</td>\n",
              "      <td>0</td>\n",
              "      <td>no</td>\n",
              "      <td>northwest</td>\n",
              "      <td>3866.85520</td>\n",
              "    </tr>\n",
              "    <tr>\n",
              "      <th>...</th>\n",
              "      <td>...</td>\n",
              "      <td>...</td>\n",
              "      <td>...</td>\n",
              "      <td>...</td>\n",
              "      <td>...</td>\n",
              "      <td>...</td>\n",
              "      <td>...</td>\n",
              "    </tr>\n",
              "    <tr>\n",
              "      <th>1333</th>\n",
              "      <td>50</td>\n",
              "      <td>male</td>\n",
              "      <td>30.970</td>\n",
              "      <td>3</td>\n",
              "      <td>no</td>\n",
              "      <td>northwest</td>\n",
              "      <td>10600.54830</td>\n",
              "    </tr>\n",
              "    <tr>\n",
              "      <th>1334</th>\n",
              "      <td>18</td>\n",
              "      <td>female</td>\n",
              "      <td>31.920</td>\n",
              "      <td>0</td>\n",
              "      <td>no</td>\n",
              "      <td>northeast</td>\n",
              "      <td>2205.98080</td>\n",
              "    </tr>\n",
              "    <tr>\n",
              "      <th>1335</th>\n",
              "      <td>18</td>\n",
              "      <td>female</td>\n",
              "      <td>36.850</td>\n",
              "      <td>0</td>\n",
              "      <td>no</td>\n",
              "      <td>southeast</td>\n",
              "      <td>1629.83350</td>\n",
              "    </tr>\n",
              "    <tr>\n",
              "      <th>1336</th>\n",
              "      <td>21</td>\n",
              "      <td>female</td>\n",
              "      <td>25.800</td>\n",
              "      <td>0</td>\n",
              "      <td>no</td>\n",
              "      <td>southwest</td>\n",
              "      <td>2007.94500</td>\n",
              "    </tr>\n",
              "    <tr>\n",
              "      <th>1337</th>\n",
              "      <td>61</td>\n",
              "      <td>female</td>\n",
              "      <td>29.070</td>\n",
              "      <td>0</td>\n",
              "      <td>yes</td>\n",
              "      <td>northwest</td>\n",
              "      <td>29141.36030</td>\n",
              "    </tr>\n",
              "  </tbody>\n",
              "</table>\n",
              "<p>1338 rows × 7 columns</p>\n",
              "</div>"
            ],
            "text/plain": [
              "      age     sex     bmi  children smoker     region      charges\n",
              "0      19  female  27.900         0    yes  southwest  16884.92400\n",
              "1      18    male  33.770         1     no  southeast   1725.55230\n",
              "2      28    male  33.000         3     no  southeast   4449.46200\n",
              "3      33    male  22.705         0     no  northwest  21984.47061\n",
              "4      32    male  28.880         0     no  northwest   3866.85520\n",
              "...   ...     ...     ...       ...    ...        ...          ...\n",
              "1333   50    male  30.970         3     no  northwest  10600.54830\n",
              "1334   18  female  31.920         0     no  northeast   2205.98080\n",
              "1335   18  female  36.850         0     no  southeast   1629.83350\n",
              "1336   21  female  25.800         0     no  southwest   2007.94500\n",
              "1337   61  female  29.070         0    yes  northwest  29141.36030\n",
              "\n",
              "[1338 rows x 7 columns]"
            ]
          },
          "metadata": {
            "tags": []
          },
          "execution_count": 47
        }
      ]
    },
    {
      "cell_type": "code",
      "metadata": {
        "colab": {
          "base_uri": "https://localhost:8080/",
          "height": 402
        },
        "id": "xi196cYobQKd",
        "outputId": "8e6e30e2-4b74-4727-a635-8fe172886f56"
      },
      "source": [
        "insurance_one_hot = pd.get_dummies(insurance)\n",
        "insurance_one_hot"
      ],
      "execution_count": null,
      "outputs": [
        {
          "output_type": "execute_result",
          "data": {
            "text/html": [
              "<div>\n",
              "<style scoped>\n",
              "    .dataframe tbody tr th:only-of-type {\n",
              "        vertical-align: middle;\n",
              "    }\n",
              "\n",
              "    .dataframe tbody tr th {\n",
              "        vertical-align: top;\n",
              "    }\n",
              "\n",
              "    .dataframe thead th {\n",
              "        text-align: right;\n",
              "    }\n",
              "</style>\n",
              "<table border=\"1\" class=\"dataframe\">\n",
              "  <thead>\n",
              "    <tr style=\"text-align: right;\">\n",
              "      <th></th>\n",
              "      <th>age</th>\n",
              "      <th>bmi</th>\n",
              "      <th>children</th>\n",
              "      <th>charges</th>\n",
              "      <th>sex_female</th>\n",
              "      <th>sex_male</th>\n",
              "      <th>smoker_no</th>\n",
              "      <th>smoker_yes</th>\n",
              "      <th>region_northeast</th>\n",
              "      <th>region_northwest</th>\n",
              "      <th>region_southeast</th>\n",
              "      <th>region_southwest</th>\n",
              "    </tr>\n",
              "  </thead>\n",
              "  <tbody>\n",
              "    <tr>\n",
              "      <th>0</th>\n",
              "      <td>19</td>\n",
              "      <td>27.900</td>\n",
              "      <td>0</td>\n",
              "      <td>16884.92400</td>\n",
              "      <td>1</td>\n",
              "      <td>0</td>\n",
              "      <td>0</td>\n",
              "      <td>1</td>\n",
              "      <td>0</td>\n",
              "      <td>0</td>\n",
              "      <td>0</td>\n",
              "      <td>1</td>\n",
              "    </tr>\n",
              "    <tr>\n",
              "      <th>1</th>\n",
              "      <td>18</td>\n",
              "      <td>33.770</td>\n",
              "      <td>1</td>\n",
              "      <td>1725.55230</td>\n",
              "      <td>0</td>\n",
              "      <td>1</td>\n",
              "      <td>1</td>\n",
              "      <td>0</td>\n",
              "      <td>0</td>\n",
              "      <td>0</td>\n",
              "      <td>1</td>\n",
              "      <td>0</td>\n",
              "    </tr>\n",
              "    <tr>\n",
              "      <th>2</th>\n",
              "      <td>28</td>\n",
              "      <td>33.000</td>\n",
              "      <td>3</td>\n",
              "      <td>4449.46200</td>\n",
              "      <td>0</td>\n",
              "      <td>1</td>\n",
              "      <td>1</td>\n",
              "      <td>0</td>\n",
              "      <td>0</td>\n",
              "      <td>0</td>\n",
              "      <td>1</td>\n",
              "      <td>0</td>\n",
              "    </tr>\n",
              "    <tr>\n",
              "      <th>3</th>\n",
              "      <td>33</td>\n",
              "      <td>22.705</td>\n",
              "      <td>0</td>\n",
              "      <td>21984.47061</td>\n",
              "      <td>0</td>\n",
              "      <td>1</td>\n",
              "      <td>1</td>\n",
              "      <td>0</td>\n",
              "      <td>0</td>\n",
              "      <td>1</td>\n",
              "      <td>0</td>\n",
              "      <td>0</td>\n",
              "    </tr>\n",
              "    <tr>\n",
              "      <th>4</th>\n",
              "      <td>32</td>\n",
              "      <td>28.880</td>\n",
              "      <td>0</td>\n",
              "      <td>3866.85520</td>\n",
              "      <td>0</td>\n",
              "      <td>1</td>\n",
              "      <td>1</td>\n",
              "      <td>0</td>\n",
              "      <td>0</td>\n",
              "      <td>1</td>\n",
              "      <td>0</td>\n",
              "      <td>0</td>\n",
              "    </tr>\n",
              "    <tr>\n",
              "      <th>...</th>\n",
              "      <td>...</td>\n",
              "      <td>...</td>\n",
              "      <td>...</td>\n",
              "      <td>...</td>\n",
              "      <td>...</td>\n",
              "      <td>...</td>\n",
              "      <td>...</td>\n",
              "      <td>...</td>\n",
              "      <td>...</td>\n",
              "      <td>...</td>\n",
              "      <td>...</td>\n",
              "      <td>...</td>\n",
              "    </tr>\n",
              "    <tr>\n",
              "      <th>1333</th>\n",
              "      <td>50</td>\n",
              "      <td>30.970</td>\n",
              "      <td>3</td>\n",
              "      <td>10600.54830</td>\n",
              "      <td>0</td>\n",
              "      <td>1</td>\n",
              "      <td>1</td>\n",
              "      <td>0</td>\n",
              "      <td>0</td>\n",
              "      <td>1</td>\n",
              "      <td>0</td>\n",
              "      <td>0</td>\n",
              "    </tr>\n",
              "    <tr>\n",
              "      <th>1334</th>\n",
              "      <td>18</td>\n",
              "      <td>31.920</td>\n",
              "      <td>0</td>\n",
              "      <td>2205.98080</td>\n",
              "      <td>1</td>\n",
              "      <td>0</td>\n",
              "      <td>1</td>\n",
              "      <td>0</td>\n",
              "      <td>1</td>\n",
              "      <td>0</td>\n",
              "      <td>0</td>\n",
              "      <td>0</td>\n",
              "    </tr>\n",
              "    <tr>\n",
              "      <th>1335</th>\n",
              "      <td>18</td>\n",
              "      <td>36.850</td>\n",
              "      <td>0</td>\n",
              "      <td>1629.83350</td>\n",
              "      <td>1</td>\n",
              "      <td>0</td>\n",
              "      <td>1</td>\n",
              "      <td>0</td>\n",
              "      <td>0</td>\n",
              "      <td>0</td>\n",
              "      <td>1</td>\n",
              "      <td>0</td>\n",
              "    </tr>\n",
              "    <tr>\n",
              "      <th>1336</th>\n",
              "      <td>21</td>\n",
              "      <td>25.800</td>\n",
              "      <td>0</td>\n",
              "      <td>2007.94500</td>\n",
              "      <td>1</td>\n",
              "      <td>0</td>\n",
              "      <td>1</td>\n",
              "      <td>0</td>\n",
              "      <td>0</td>\n",
              "      <td>0</td>\n",
              "      <td>0</td>\n",
              "      <td>1</td>\n",
              "    </tr>\n",
              "    <tr>\n",
              "      <th>1337</th>\n",
              "      <td>61</td>\n",
              "      <td>29.070</td>\n",
              "      <td>0</td>\n",
              "      <td>29141.36030</td>\n",
              "      <td>1</td>\n",
              "      <td>0</td>\n",
              "      <td>0</td>\n",
              "      <td>1</td>\n",
              "      <td>0</td>\n",
              "      <td>1</td>\n",
              "      <td>0</td>\n",
              "      <td>0</td>\n",
              "    </tr>\n",
              "  </tbody>\n",
              "</table>\n",
              "<p>1338 rows × 12 columns</p>\n",
              "</div>"
            ],
            "text/plain": [
              "      age     bmi  ...  region_southeast  region_southwest\n",
              "0      19  27.900  ...                 0                 1\n",
              "1      18  33.770  ...                 1                 0\n",
              "2      28  33.000  ...                 1                 0\n",
              "3      33  22.705  ...                 0                 0\n",
              "4      32  28.880  ...                 0                 0\n",
              "...   ...     ...  ...               ...               ...\n",
              "1333   50  30.970  ...                 0                 0\n",
              "1334   18  31.920  ...                 0                 0\n",
              "1335   18  36.850  ...                 1                 0\n",
              "1336   21  25.800  ...                 0                 1\n",
              "1337   61  29.070  ...                 0                 0\n",
              "\n",
              "[1338 rows x 12 columns]"
            ]
          },
          "metadata": {
            "tags": []
          },
          "execution_count": 49
        }
      ]
    },
    {
      "cell_type": "code",
      "metadata": {
        "id": "H01cLazaTOPD"
      },
      "source": [
        "# Create X and y\n",
        "X = insurance_one_hot.drop('charges',axis=1)\n",
        "y = insurance_one_hot['charges']"
      ],
      "execution_count": null,
      "outputs": []
    },
    {
      "cell_type": "code",
      "metadata": {
        "colab": {
          "base_uri": "https://localhost:8080/",
          "height": 195
        },
        "id": "TCYk0KRaWE5r",
        "outputId": "486ced5b-3f89-47b9-cc31-809976d3706e"
      },
      "source": [
        "X.head()"
      ],
      "execution_count": null,
      "outputs": [
        {
          "output_type": "execute_result",
          "data": {
            "text/html": [
              "<div>\n",
              "<style scoped>\n",
              "    .dataframe tbody tr th:only-of-type {\n",
              "        vertical-align: middle;\n",
              "    }\n",
              "\n",
              "    .dataframe tbody tr th {\n",
              "        vertical-align: top;\n",
              "    }\n",
              "\n",
              "    .dataframe thead th {\n",
              "        text-align: right;\n",
              "    }\n",
              "</style>\n",
              "<table border=\"1\" class=\"dataframe\">\n",
              "  <thead>\n",
              "    <tr style=\"text-align: right;\">\n",
              "      <th></th>\n",
              "      <th>age</th>\n",
              "      <th>bmi</th>\n",
              "      <th>children</th>\n",
              "      <th>sex_female</th>\n",
              "      <th>sex_male</th>\n",
              "      <th>smoker_no</th>\n",
              "      <th>smoker_yes</th>\n",
              "      <th>region_northeast</th>\n",
              "      <th>region_northwest</th>\n",
              "      <th>region_southeast</th>\n",
              "      <th>region_southwest</th>\n",
              "    </tr>\n",
              "  </thead>\n",
              "  <tbody>\n",
              "    <tr>\n",
              "      <th>0</th>\n",
              "      <td>19</td>\n",
              "      <td>27.900</td>\n",
              "      <td>0</td>\n",
              "      <td>1</td>\n",
              "      <td>0</td>\n",
              "      <td>0</td>\n",
              "      <td>1</td>\n",
              "      <td>0</td>\n",
              "      <td>0</td>\n",
              "      <td>0</td>\n",
              "      <td>1</td>\n",
              "    </tr>\n",
              "    <tr>\n",
              "      <th>1</th>\n",
              "      <td>18</td>\n",
              "      <td>33.770</td>\n",
              "      <td>1</td>\n",
              "      <td>0</td>\n",
              "      <td>1</td>\n",
              "      <td>1</td>\n",
              "      <td>0</td>\n",
              "      <td>0</td>\n",
              "      <td>0</td>\n",
              "      <td>1</td>\n",
              "      <td>0</td>\n",
              "    </tr>\n",
              "    <tr>\n",
              "      <th>2</th>\n",
              "      <td>28</td>\n",
              "      <td>33.000</td>\n",
              "      <td>3</td>\n",
              "      <td>0</td>\n",
              "      <td>1</td>\n",
              "      <td>1</td>\n",
              "      <td>0</td>\n",
              "      <td>0</td>\n",
              "      <td>0</td>\n",
              "      <td>1</td>\n",
              "      <td>0</td>\n",
              "    </tr>\n",
              "    <tr>\n",
              "      <th>3</th>\n",
              "      <td>33</td>\n",
              "      <td>22.705</td>\n",
              "      <td>0</td>\n",
              "      <td>0</td>\n",
              "      <td>1</td>\n",
              "      <td>1</td>\n",
              "      <td>0</td>\n",
              "      <td>0</td>\n",
              "      <td>1</td>\n",
              "      <td>0</td>\n",
              "      <td>0</td>\n",
              "    </tr>\n",
              "    <tr>\n",
              "      <th>4</th>\n",
              "      <td>32</td>\n",
              "      <td>28.880</td>\n",
              "      <td>0</td>\n",
              "      <td>0</td>\n",
              "      <td>1</td>\n",
              "      <td>1</td>\n",
              "      <td>0</td>\n",
              "      <td>0</td>\n",
              "      <td>1</td>\n",
              "      <td>0</td>\n",
              "      <td>0</td>\n",
              "    </tr>\n",
              "  </tbody>\n",
              "</table>\n",
              "</div>"
            ],
            "text/plain": [
              "   age     bmi  children  ...  region_northwest  region_southeast  region_southwest\n",
              "0   19  27.900         0  ...                 0                 0                 1\n",
              "1   18  33.770         1  ...                 0                 1                 0\n",
              "2   28  33.000         3  ...                 0                 1                 0\n",
              "3   33  22.705         0  ...                 1                 0                 0\n",
              "4   32  28.880         0  ...                 1                 0                 0\n",
              "\n",
              "[5 rows x 11 columns]"
            ]
          },
          "metadata": {
            "tags": []
          },
          "execution_count": 51
        }
      ]
    },
    {
      "cell_type": "code",
      "metadata": {
        "colab": {
          "base_uri": "https://localhost:8080/"
        },
        "id": "4xmC28ZsWGs3",
        "outputId": "cc091b55-9ff5-4cbe-aa2d-a7d48110a026"
      },
      "source": [
        "y.head()"
      ],
      "execution_count": null,
      "outputs": [
        {
          "output_type": "execute_result",
          "data": {
            "text/plain": [
              "0    16884.92400\n",
              "1     1725.55230\n",
              "2     4449.46200\n",
              "3    21984.47061\n",
              "4     3866.85520\n",
              "Name: charges, dtype: float64"
            ]
          },
          "metadata": {
            "tags": []
          },
          "execution_count": 52
        }
      ]
    },
    {
      "cell_type": "code",
      "metadata": {
        "colab": {
          "base_uri": "https://localhost:8080/"
        },
        "id": "ukJhODNdWIH2",
        "outputId": "b6b36784-3ef2-4491-d311-f5f59ee05b48"
      },
      "source": [
        "from sklearn.model_selection import train_test_split\n",
        "X_train,X_test,y_train,y_test = train_test_split(X,y, test_size=0.2, random_state=42)\n",
        "len(X),len(X_train),len(X_test)"
      ],
      "execution_count": null,
      "outputs": [
        {
          "output_type": "execute_result",
          "data": {
            "text/plain": [
              "(1338, 1070, 268)"
            ]
          },
          "metadata": {
            "tags": []
          },
          "execution_count": 54
        }
      ]
    },
    {
      "cell_type": "code",
      "metadata": {
        "id": "kTf3MBFOXusC"
      },
      "source": [
        "tf.random.set_seed(42)\n",
        "\n",
        "insurance_model = tf.keras.Sequential([\n",
        "                                       tf.keras.layers.Dense(100,activation='relu'),\n",
        "                                       tf.keras.layers.Dense(100,activation='relu'),\n",
        "                                       tf.keras.layers.Dense(10,input_shape=[1]),\n",
        "                                       tf.keras.layers.Dense(1)\n",
        "])\n",
        "\n",
        "insurance_model.compile(loss=tf.keras.losses.mae,\n",
        "                        optimizer=tf.keras.optimizers.Adam(lr=0.01),\n",
        "                        metrics=['mae'])\n",
        "\n",
        "history = insurance_model.fit(X_train,y_train, epochs=300)"
      ],
      "execution_count": null,
      "outputs": []
    },
    {
      "cell_type": "code",
      "metadata": {
        "colab": {
          "base_uri": "https://localhost:8080/"
        },
        "id": "6MAbiFsrZFwT",
        "outputId": "8b3eca28-3651-470b-e8a5-0bf793b5595c"
      },
      "source": [
        "insurance_model.evaluate(X_test,y_test)"
      ],
      "execution_count": null,
      "outputs": [
        {
          "output_type": "stream",
          "text": [
            "9/9 [==============================] - 0s 2ms/step - loss: 1650.2218 - mae: 1650.2218\n"
          ],
          "name": "stdout"
        },
        {
          "output_type": "execute_result",
          "data": {
            "text/plain": [
              "[1650.2218017578125, 1650.2218017578125]"
            ]
          },
          "metadata": {
            "tags": []
          },
          "execution_count": 67
        }
      ]
    },
    {
      "cell_type": "code",
      "metadata": {
        "colab": {
          "base_uri": "https://localhost:8080/",
          "height": 296
        },
        "id": "HybEY_ELbZSt",
        "outputId": "9a4c2c0b-ba89-4fec-e114-8408eb82c4b2"
      },
      "source": [
        "pd.DataFrame(history.history).plot()\n",
        "plt.ylabel('loss')\n",
        "plt.xlabel('epochs')"
      ],
      "execution_count": null,
      "outputs": [
        {
          "output_type": "execute_result",
          "data": {
            "text/plain": [
              "Text(0.5, 0, 'epochs')"
            ]
          },
          "metadata": {
            "tags": []
          },
          "execution_count": 70
        },
        {
          "output_type": "display_data",
          "data": {
            "image/png": "[encoded data removed]",
            "text/plain": [
              "<Figure size 432x288 with 1 Axes>"
            ]
          },
          "metadata": {
            "tags": [],
            "needs_background": "light"
          }
        }
      ]
    },
    {
      "cell_type": "code",
      "metadata": {
        "id": "Hl2lh6V5jpby"
      },
      "source": [
        "y_pred = insurance_model.predict(X_test)"
      ],
      "execution_count": null,
      "outputs": []
    },
    {
      "cell_type": "code",
      "metadata": {
        "colab": {
          "base_uri": "https://localhost:8080/",
          "height": 402
        },
        "id": "9wM7NhURlmha",
        "outputId": "3fc2c62f-7f3b-430e-d7cf-924ea03ac7a5"
      },
      "source": [
        "insurance = pd.read_csv('https://raw.githubusercontent.com/stedy/Machine-Learning-with-R-datasets/master/insurance.csv')\n",
        "insurance"
      ],
      "execution_count": null,
      "outputs": [
        {
          "output_type": "execute_result",
          "data": {
            "text/html": [
              "<div>\n",
              "<style scoped>\n",
              "    .dataframe tbody tr th:only-of-type {\n",
              "        vertical-align: middle;\n",
              "    }\n",
              "\n",
              "    .dataframe tbody tr th {\n",
              "        vertical-align: top;\n",
              "    }\n",
              "\n",
              "    .dataframe thead th {\n",
              "        text-align: right;\n",
              "    }\n",
              "</style>\n",
              "<table border=\"1\" class=\"dataframe\">\n",
              "  <thead>\n",
              "    <tr style=\"text-align: right;\">\n",
              "      <th></th>\n",
              "      <th>age</th>\n",
              "      <th>sex</th>\n",
              "      <th>bmi</th>\n",
              "      <th>children</th>\n",
              "      <th>smoker</th>\n",
              "      <th>region</th>\n",
              "      <th>charges</th>\n",
              "    </tr>\n",
              "  </thead>\n",
              "  <tbody>\n",
              "    <tr>\n",
              "      <th>0</th>\n",
              "      <td>19</td>\n",
              "      <td>female</td>\n",
              "      <td>27.900</td>\n",
              "      <td>0</td>\n",
              "      <td>yes</td>\n",
              "      <td>southwest</td>\n",
              "      <td>16884.92400</td>\n",
              "    </tr>\n",
              "    <tr>\n",
              "      <th>1</th>\n",
              "      <td>18</td>\n",
              "      <td>male</td>\n",
              "      <td>33.770</td>\n",
              "      <td>1</td>\n",
              "      <td>no</td>\n",
              "      <td>southeast</td>\n",
              "      <td>1725.55230</td>\n",
              "    </tr>\n",
              "    <tr>\n",
              "      <th>2</th>\n",
              "      <td>28</td>\n",
              "      <td>male</td>\n",
              "      <td>33.000</td>\n",
              "      <td>3</td>\n",
              "      <td>no</td>\n",
              "      <td>southeast</td>\n",
              "      <td>4449.46200</td>\n",
              "    </tr>\n",
              "    <tr>\n",
              "      <th>3</th>\n",
              "      <td>33</td>\n",
              "      <td>male</td>\n",
              "      <td>22.705</td>\n",
              "      <td>0</td>\n",
              "      <td>no</td>\n",
              "      <td>northwest</td>\n",
              "      <td>21984.47061</td>\n",
              "    </tr>\n",
              "    <tr>\n",
              "      <th>4</th>\n",
              "      <td>32</td>\n",
              "      <td>male</td>\n",
              "      <td>28.880</td>\n",
              "      <td>0</td>\n",
              "      <td>no</td>\n",
              "      <td>northwest</td>\n",
              "      <td>3866.85520</td>\n",
              "    </tr>\n",
              "    <tr>\n",
              "      <th>...</th>\n",
              "      <td>...</td>\n",
              "      <td>...</td>\n",
              "      <td>...</td>\n",
              "      <td>...</td>\n",
              "      <td>...</td>\n",
              "      <td>...</td>\n",
              "      <td>...</td>\n",
              "    </tr>\n",
              "    <tr>\n",
              "      <th>1333</th>\n",
              "      <td>50</td>\n",
              "      <td>male</td>\n",
              "      <td>30.970</td>\n",
              "      <td>3</td>\n",
              "      <td>no</td>\n",
              "      <td>northwest</td>\n",
              "      <td>10600.54830</td>\n",
              "    </tr>\n",
              "    <tr>\n",
              "      <th>1334</th>\n",
              "      <td>18</td>\n",
              "      <td>female</td>\n",
              "      <td>31.920</td>\n",
              "      <td>0</td>\n",
              "      <td>no</td>\n",
              "      <td>northeast</td>\n",
              "      <td>2205.98080</td>\n",
              "    </tr>\n",
              "    <tr>\n",
              "      <th>1335</th>\n",
              "      <td>18</td>\n",
              "      <td>female</td>\n",
              "      <td>36.850</td>\n",
              "      <td>0</td>\n",
              "      <td>no</td>\n",
              "      <td>southeast</td>\n",
              "      <td>1629.83350</td>\n",
              "    </tr>\n",
              "    <tr>\n",
              "      <th>1336</th>\n",
              "      <td>21</td>\n",
              "      <td>female</td>\n",
              "      <td>25.800</td>\n",
              "      <td>0</td>\n",
              "      <td>no</td>\n",
              "      <td>southwest</td>\n",
              "      <td>2007.94500</td>\n",
              "    </tr>\n",
              "    <tr>\n",
              "      <th>1337</th>\n",
              "      <td>61</td>\n",
              "      <td>female</td>\n",
              "      <td>29.070</td>\n",
              "      <td>0</td>\n",
              "      <td>yes</td>\n",
              "      <td>northwest</td>\n",
              "      <td>29141.36030</td>\n",
              "    </tr>\n",
              "  </tbody>\n",
              "</table>\n",
              "<p>1338 rows × 7 columns</p>\n",
              "</div>"
            ],
            "text/plain": [
              "      age     sex     bmi  children smoker     region      charges\n",
              "0      19  female  27.900         0    yes  southwest  16884.92400\n",
              "1      18    male  33.770         1     no  southeast   1725.55230\n",
              "2      28    male  33.000         3     no  southeast   4449.46200\n",
              "3      33    male  22.705         0     no  northwest  21984.47061\n",
              "4      32    male  28.880         0     no  northwest   3866.85520\n",
              "...   ...     ...     ...       ...    ...        ...          ...\n",
              "1333   50    male  30.970         3     no  northwest  10600.54830\n",
              "1334   18  female  31.920         0     no  northeast   2205.98080\n",
              "1335   18  female  36.850         0     no  southeast   1629.83350\n",
              "1336   21  female  25.800         0     no  southwest   2007.94500\n",
              "1337   61  female  29.070         0    yes  northwest  29141.36030\n",
              "\n",
              "[1338 rows x 7 columns]"
            ]
          },
          "metadata": {
            "tags": []
          },
          "execution_count": 75
        }
      ]
    },
    {
      "cell_type": "markdown",
      "metadata": {
        "id": "171UOi3s30Br"
      },
      "source": [
        "##Normalization"
      ]
    },
    {
      "cell_type": "code",
      "metadata": {
        "id": "-gcCAnU3zO7y"
      },
      "source": [
        "from sklearn.compose import  make_column_transformer\n",
        "from sklearn.preprocessing import MinMaxScaler, OneHotEncoder\n",
        "from sklearn.model_selection import train_test_split\n",
        "\n",
        "ct = make_column_transformer(\n",
        "    (MinMaxScaler(), ['age','bmi','children']),\n",
        "    (OneHotEncoder(handle_unknown='ignore'), ['sex','smoker','region'])\n",
        "\n",
        ")\n",
        "\n",
        "X = insurance.drop('charges', axis=1)\n",
        "y = insurance['charges']\n",
        "\n",
        "X_train,X_test,y_train,y_test = train_test_split(X,y, test_size=0.2, random_state=42)\n",
        "\n",
        "ct.fit(X_train)\n",
        "\n",
        "X_train_normal = ct.transform(X_train)\n",
        "X_test_normal = ct.transform(X_test)"
      ],
      "execution_count": null,
      "outputs": []
    },
    {
      "cell_type": "code",
      "metadata": {
        "colab": {
          "base_uri": "https://localhost:8080/"
        },
        "id": "SVkLNpHH1jbc",
        "outputId": "225dd57c-ff6e-40fb-f27d-f0aaf6f13c6f"
      },
      "source": [
        "tf.random.set_seed(42)\n",
        "\n",
        "insurance_model_2 = tf.keras.Sequential([\n",
        "                                       tf.keras.layers.Dense(100,activation='relu'),\n",
        "                                       tf.keras.layers.Dense(100,activation='relu'),\n",
        "                                       tf.keras.layers.Dense(10,input_shape=[1]),\n",
        "                                       tf.keras.layers.Dense(1)\n",
        "])\n",
        "\n",
        "insurance_model_2.compile(loss=tf.keras.losses.mae,\n",
        "                        optimizer=tf.keras.optimizers.Adam(lr=0.01),\n",
        "                        metrics=['mae'])\n",
        "insurance_model_2.fit(X_train_normal,y_train, epochs=300,verbose=0)"
      ],
      "execution_count": null,
      "outputs": [
        {
          "output_type": "execute_result",
          "data": {
            "text/plain": [
              "<tensorflow.python.keras.callbacks.History at 0x7f4bbb99b990>"
            ]
          },
          "metadata": {
            "tags": []
          },
          "execution_count": 85
        }
      ]
    },
    {
      "cell_type": "code",
      "metadata": {
        "colab": {
          "base_uri": "https://localhost:8080/"
        },
        "id": "FUZiWc4f2VV6",
        "outputId": "c73287f1-d34e-492d-d920-05257cf80ba9"
      },
      "source": [
        "insurance_model_2.evaluate(X_test_normal,y_test)"
      ],
      "execution_count": null,
      "outputs": [
        {
          "output_type": "stream",
          "text": [
            "9/9 [==============================] - 0s 2ms/step - loss: 1822.3628 - mae: 1822.3628\n"
          ],
          "name": "stdout"
        },
        {
          "output_type": "execute_result",
          "data": {
            "text/plain": [
              "[1822.36279296875, 1822.36279296875]"
            ]
          },
          "metadata": {
            "tags": []
          },
          "execution_count": 86
        }
      ]
    }
  ]
}